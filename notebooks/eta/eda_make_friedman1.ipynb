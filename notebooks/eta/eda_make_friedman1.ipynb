{
 "cells": [
  {
   "cell_type": "code",
   "execution_count": 1,
   "id": "fd9b8e28",
   "metadata": {},
   "outputs": [],
   "source": [
    "from sklearn.datasets import make_friedman3"
   ]
  },
  {
   "cell_type": "code",
   "execution_count": 3,
   "id": "a81e286e",
   "metadata": {},
   "outputs": [],
   "source": [
    "X, y = make_friedman3(n_samples=100, noise=1)"
   ]
  },
  {
   "cell_type": "code",
   "execution_count": 5,
   "id": "a8b19c57",
   "metadata": {},
   "outputs": [
    {
     "data": {
      "text/plain": [
       "(100, 4)"
      ]
     },
     "execution_count": 5,
     "metadata": {},
     "output_type": "execute_result"
    }
   ],
   "source": [
    "X.shape"
   ]
  }
 ],
 "metadata": {
  "kernelspec": {
   "display_name": "repo-3.12-bagging-boosting-stacking-study",
   "language": "python",
   "name": "python3"
  },
  "language_info": {
   "codemirror_mode": {
    "name": "ipython",
    "version": 3
   },
   "file_extension": ".py",
   "mimetype": "text/x-python",
   "name": "python",
   "nbconvert_exporter": "python",
   "pygments_lexer": "ipython3",
   "version": "3.12.9"
  }
 },
 "nbformat": 4,
 "nbformat_minor": 5
}
