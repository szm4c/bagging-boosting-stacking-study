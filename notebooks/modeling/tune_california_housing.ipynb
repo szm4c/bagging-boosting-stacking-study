{
 "cells": [
  {
   "cell_type": "markdown",
   "id": "ee08bc3d",
   "metadata": {},
   "source": [
    "# Hyper-parameter tuning – Friedman #3 Dataset  \n",
    "This notebook finds the best parameters for:\n",
    "\n",
    "* **Bagging** RandomForestRegressor  \n",
    "* **Boosting** XGBRegressor  \n",
    "* **Stack meta learner** Ridge α in the RF+XGB+OLS stack\n",
    "\n",
    "Results are saved to `configs/` folder as yaml files."
   ]
  },
  {
   "cell_type": "markdown",
   "id": "693cba86",
   "metadata": {},
   "source": [
    "## Setup & Imports"
   ]
  },
  {
   "cell_type": "code",
   "execution_count": 1,
   "id": "3e423b58",
   "metadata": {},
   "outputs": [],
   "source": [
    "from joblib import parallel_backend\n",
    "import numpy as np\n",
    "import pandas as pd\n",
    "import matplotlib.pyplot as plt\n",
    "import seaborn as sns\n",
    "import plotly.io as pio\n",
    "import plotly.graph_objects as go\n",
    "import plotly.express as px\n",
    "from tqdm.notebook import tqdm\n",
    "from sklearn.model_selection import (\n",
    "    RepeatedKFold,\n",
    "    KFold,\n",
    "    train_test_split,\n",
    "    cross_val_score,\n",
    "    cross_val_predict,\n",
    ")\n",
    "from sklearn.ensemble import RandomForestRegressor, StackingRegressor\n",
    "from sklearn.linear_model import LinearRegression, Ridge, RidgeCV\n",
    "from sklearn.pipeline import Pipeline\n",
    "from sklearn.preprocessing import StandardScaler\n",
    "from sklearn.metrics import mean_squared_error\n",
    "from xgboost import XGBRegressor\n",
    "import optuna\n",
    "from optuna.samplers import TPESampler\n",
    "from optuna.pruners import HyperbandPruner\n",
    "from optuna.visualization import plot_optimization_history\n",
    "\n",
    "from bagging_boosting_stacking_study.constants import SEED\n",
    "from bagging_boosting_stacking_study.data.loaders import load_dataset\n",
    "from bagging_boosting_stacking_study.configs import save_params, load_params\n",
    "\n",
    "DATASET_NAME = \"california_housing\""
   ]
  },
  {
   "cell_type": "code",
   "execution_count": 2,
   "id": "30e6d5ad",
   "metadata": {},
   "outputs": [],
   "source": [
    "# dark theme across plots\n",
    "pio.templates.default = \"plotly_dark\"\n",
    "plt.style.use(\"dark_background\")"
   ]
  },
  {
   "cell_type": "markdown",
   "id": "9f59e36c",
   "metadata": {},
   "source": [
    "## Load Clean Dataset"
   ]
  },
  {
   "cell_type": "code",
   "execution_count": 3,
   "id": "b2f9bf30",
   "metadata": {},
   "outputs": [],
   "source": [
    "df = load_dataset(DATASET_NAME, raw=False)"
   ]
  },
  {
   "cell_type": "markdown",
   "id": "49b5a43d",
   "metadata": {},
   "source": [
    "### train test split"
   ]
  },
  {
   "cell_type": "code",
   "execution_count": 4,
   "id": "73b4ed13",
   "metadata": {},
   "outputs": [],
   "source": [
    "train_df, test_df = train_test_split(df, test_size=0.1, random_state=SEED)"
   ]
  },
  {
   "cell_type": "code",
   "execution_count": 5,
   "id": "b28fa6fd",
   "metadata": {},
   "outputs": [
    {
     "data": {
      "text/plain": [
       "(18576, 18)"
      ]
     },
     "execution_count": 5,
     "metadata": {},
     "output_type": "execute_result"
    }
   ],
   "source": [
    "train_df.shape"
   ]
  },
  {
   "cell_type": "code",
   "execution_count": 6,
   "id": "88e7c888",
   "metadata": {},
   "outputs": [
    {
     "data": {
      "text/plain": [
       "(2064, 18)"
      ]
     },
     "execution_count": 6,
     "metadata": {},
     "output_type": "execute_result"
    }
   ],
   "source": [
    "test_df.shape"
   ]
  },
  {
   "cell_type": "markdown",
   "id": "d10631ac",
   "metadata": {},
   "source": [
    "## Bagging"
   ]
  },
  {
   "cell_type": "markdown",
   "id": "a5fa60de",
   "metadata": {},
   "source": [
    "### pipeline\n",
    "\n"
   ]
  },
  {
   "cell_type": "markdown",
   "id": "763b3021",
   "metadata": {},
   "source": [
    "### hyper-parameter tuning"
   ]
  },
  {
   "cell_type": "code",
   "execution_count": 7,
   "id": "d3181463",
   "metadata": {},
   "outputs": [
    {
     "name": "stderr",
     "output_type": "stream",
     "text": [
      "[I 2025-05-26 19:43:20,562] A new study created in memory with name: RF_california_housing\n"
     ]
    },
    {
     "data": {
      "application/vnd.jupyter.widget-view+json": {
       "model_id": "a9be13635e27426baf75f35999206e62",
       "version_major": 2,
       "version_minor": 0
      },
      "text/plain": [
       "   0%|          | 00:00/30:00"
      ]
     },
     "metadata": {},
     "output_type": "display_data"
    },
    {
     "name": "stdout",
     "output_type": "stream",
     "text": [
      "[I 2025-05-26 19:44:34,189] Trial 0 finished with value: 0.6222483989835678 and parameters: {'n_estimators': 800, 'cap_depth': True, 'max_depth': 10, 'min_samples_split': 8, 'min_samples_leaf': 1, 'max_features': 4, 'bootstrap': False, 'criterion': 'squared_error', 'ccp_alpha': 1.7455220644664416e-06}. Best is trial 0 with value: 0.6222483989835678.\n",
      "[I 2025-05-26 19:45:50,404] Trial 1 finished with value: 0.6054999892289274 and parameters: {'n_estimators': 400, 'cap_depth': True, 'max_depth': 11, 'min_samples_split': 20, 'min_samples_leaf': 5, 'max_features': 17, 'bootstrap': True, 'max_samples': 0.7, 'criterion': 'squared_error', 'ccp_alpha': 1.4759234188486626e-06, 'oob_score': True}. Best is trial 1 with value: 0.6054999892289274.\n",
      "[W 2025-05-26 20:23:36,415] Trial 2 failed with parameters: {'n_estimators': 1200, 'cap_depth': False, 'min_samples_split': 6, 'min_samples_leaf': 2, 'max_features': 11, 'bootstrap': True, 'max_samples': 0.5, 'criterion': 'absolute_error', 'ccp_alpha': 8.45982235501033e-05, 'oob_score': True} because of the following error: KeyboardInterrupt().\n",
      "Traceback (most recent call last):\n",
      "  File \"c:\\code\\venvs\\repos\\repo-3.12-bagging-boosting-stacking-study\\Lib\\site-packages\\optuna\\study\\_optimize.py\", line 197, in _run_trial\n",
      "    value_or_values = func(trial)\n",
      "                      ^^^^^^^^^^^\n",
      "  File \"C:\\Users\\User\\AppData\\Local\\Temp\\ipykernel_18484\\315760959.py\", line 70, in objective\n",
      "    rmse = -cross_val_score(\n",
      "            ^^^^^^^^^^^^^^^^\n",
      "  File \"c:\\code\\venvs\\repos\\repo-3.12-bagging-boosting-stacking-study\\Lib\\site-packages\\sklearn\\utils\\_param_validation.py\", line 216, in wrapper\n",
      "    return func(*args, **kwargs)\n",
      "           ^^^^^^^^^^^^^^^^^^^^^\n",
      "  File \"c:\\code\\venvs\\repos\\repo-3.12-bagging-boosting-stacking-study\\Lib\\site-packages\\sklearn\\model_selection\\_validation.py\", line 684, in cross_val_score\n",
      "    cv_results = cross_validate(\n",
      "                 ^^^^^^^^^^^^^^^\n",
      "  File \"c:\\code\\venvs\\repos\\repo-3.12-bagging-boosting-stacking-study\\Lib\\site-packages\\sklearn\\utils\\_param_validation.py\", line 216, in wrapper\n",
      "    return func(*args, **kwargs)\n",
      "           ^^^^^^^^^^^^^^^^^^^^^\n",
      "  File \"c:\\code\\venvs\\repos\\repo-3.12-bagging-boosting-stacking-study\\Lib\\site-packages\\sklearn\\model_selection\\_validation.py\", line 411, in cross_validate\n",
      "    results = parallel(\n",
      "              ^^^^^^^^^\n",
      "  File \"c:\\code\\venvs\\repos\\repo-3.12-bagging-boosting-stacking-study\\Lib\\site-packages\\sklearn\\utils\\parallel.py\", line 77, in __call__\n",
      "    return super().__call__(iterable_with_config)\n",
      "           ^^^^^^^^^^^^^^^^^^^^^^^^^^^^^^^^^^^^^^\n",
      "  File \"c:\\code\\venvs\\repos\\repo-3.12-bagging-boosting-stacking-study\\Lib\\site-packages\\joblib\\parallel.py\", line 2007, in __call__\n",
      "    return output if self.return_generator else list(output)\n",
      "                                                ^^^^^^^^^^^^\n",
      "  File \"c:\\code\\venvs\\repos\\repo-3.12-bagging-boosting-stacking-study\\Lib\\site-packages\\joblib\\parallel.py\", line 1650, in _get_outputs\n",
      "    yield from self._retrieve()\n",
      "  File \"c:\\code\\venvs\\repos\\repo-3.12-bagging-boosting-stacking-study\\Lib\\site-packages\\joblib\\parallel.py\", line 1762, in _retrieve\n",
      "    time.sleep(0.01)\n",
      "KeyboardInterrupt\n",
      "[W 2025-05-26 20:23:36,419] Trial 2 failed with value None.\n"
     ]
    },
    {
     "ename": "KeyboardInterrupt",
     "evalue": "",
     "output_type": "error",
     "traceback": [
      "\u001b[31m---------------------------------------------------------------------------\u001b[39m",
      "\u001b[31mKeyboardInterrupt\u001b[39m                         Traceback (most recent call last)",
      "\u001b[36mCell\u001b[39m\u001b[36m \u001b[39m\u001b[32mIn[7]\u001b[39m\u001b[32m, line 86\u001b[39m\n\u001b[32m     77\u001b[39m study_rf = optuna.create_study(\n\u001b[32m     78\u001b[39m     direction=\u001b[33m\"\u001b[39m\u001b[33mminimize\u001b[39m\u001b[33m\"\u001b[39m,\n\u001b[32m     79\u001b[39m     sampler=TPESampler(seed=SEED),  \u001b[38;5;66;03m# reproducible exploration\u001b[39;00m\n\u001b[32m     80\u001b[39m     pruner=HyperbandPruner(),  \u001b[38;5;66;03m# early-stop weak configs\u001b[39;00m\n\u001b[32m     81\u001b[39m     study_name=\u001b[33mf\u001b[39m\u001b[33m\"\u001b[39m\u001b[33mRF_\u001b[39m\u001b[38;5;132;01m{\u001b[39;00mDATASET_NAME\u001b[38;5;132;01m}\u001b[39;00m\u001b[33m\"\u001b[39m,\n\u001b[32m     82\u001b[39m )\n\u001b[32m     84\u001b[39m \u001b[38;5;66;03m# Robust search: either n_trials or timeout\u001b[39;00m\n\u001b[32m     85\u001b[39m \u001b[38;5;66;03m# study_rf.optimize(objective, n_trials=200, show_progress_bar=True)\u001b[39;00m\n\u001b[32m---> \u001b[39m\u001b[32m86\u001b[39m \u001b[43mstudy_rf\u001b[49m\u001b[43m.\u001b[49m\u001b[43moptimize\u001b[49m\u001b[43m(\u001b[49m\u001b[43mobjective\u001b[49m\u001b[43m,\u001b[49m\u001b[43m \u001b[49m\u001b[43mtimeout\u001b[49m\u001b[43m=\u001b[49m\u001b[32;43m60\u001b[39;49m\u001b[43m*\u001b[49m\u001b[32;43m30\u001b[39;49m\u001b[43m,\u001b[49m\u001b[43m \u001b[49m\u001b[43mshow_progress_bar\u001b[49m\u001b[43m=\u001b[49m\u001b[38;5;28;43;01mTrue\u001b[39;49;00m\u001b[43m)\u001b[49m\n\u001b[32m     88\u001b[39m \u001b[38;5;66;03m# Inspect the result\u001b[39;00m\n\u001b[32m     89\u001b[39m \u001b[38;5;28mprint\u001b[39m(\u001b[33m\"\u001b[39m\u001b[33mBest RMSE :\u001b[39m\u001b[33m\"\u001b[39m, study_rf.best_value)\n",
      "\u001b[36mFile \u001b[39m\u001b[32mc:\\code\\venvs\\repos\\repo-3.12-bagging-boosting-stacking-study\\Lib\\site-packages\\optuna\\study\\study.py:475\u001b[39m, in \u001b[36mStudy.optimize\u001b[39m\u001b[34m(self, func, n_trials, timeout, n_jobs, catch, callbacks, gc_after_trial, show_progress_bar)\u001b[39m\n\u001b[32m    373\u001b[39m \u001b[38;5;28;01mdef\u001b[39;00m\u001b[38;5;250m \u001b[39m\u001b[34moptimize\u001b[39m(\n\u001b[32m    374\u001b[39m     \u001b[38;5;28mself\u001b[39m,\n\u001b[32m    375\u001b[39m     func: ObjectiveFuncType,\n\u001b[32m   (...)\u001b[39m\u001b[32m    382\u001b[39m     show_progress_bar: \u001b[38;5;28mbool\u001b[39m = \u001b[38;5;28;01mFalse\u001b[39;00m,\n\u001b[32m    383\u001b[39m ) -> \u001b[38;5;28;01mNone\u001b[39;00m:\n\u001b[32m    384\u001b[39m \u001b[38;5;250m    \u001b[39m\u001b[33;03m\"\"\"Optimize an objective function.\u001b[39;00m\n\u001b[32m    385\u001b[39m \n\u001b[32m    386\u001b[39m \u001b[33;03m    Optimization is done by choosing a suitable set of hyperparameter values from a given\u001b[39;00m\n\u001b[32m   (...)\u001b[39m\u001b[32m    473\u001b[39m \u001b[33;03m            If nested invocation of this method occurs.\u001b[39;00m\n\u001b[32m    474\u001b[39m \u001b[33;03m    \"\"\"\u001b[39;00m\n\u001b[32m--> \u001b[39m\u001b[32m475\u001b[39m     \u001b[43m_optimize\u001b[49m\u001b[43m(\u001b[49m\n\u001b[32m    476\u001b[39m \u001b[43m        \u001b[49m\u001b[43mstudy\u001b[49m\u001b[43m=\u001b[49m\u001b[38;5;28;43mself\u001b[39;49m\u001b[43m,\u001b[49m\n\u001b[32m    477\u001b[39m \u001b[43m        \u001b[49m\u001b[43mfunc\u001b[49m\u001b[43m=\u001b[49m\u001b[43mfunc\u001b[49m\u001b[43m,\u001b[49m\n\u001b[32m    478\u001b[39m \u001b[43m        \u001b[49m\u001b[43mn_trials\u001b[49m\u001b[43m=\u001b[49m\u001b[43mn_trials\u001b[49m\u001b[43m,\u001b[49m\n\u001b[32m    479\u001b[39m \u001b[43m        \u001b[49m\u001b[43mtimeout\u001b[49m\u001b[43m=\u001b[49m\u001b[43mtimeout\u001b[49m\u001b[43m,\u001b[49m\n\u001b[32m    480\u001b[39m \u001b[43m        \u001b[49m\u001b[43mn_jobs\u001b[49m\u001b[43m=\u001b[49m\u001b[43mn_jobs\u001b[49m\u001b[43m,\u001b[49m\n\u001b[32m    481\u001b[39m \u001b[43m        \u001b[49m\u001b[43mcatch\u001b[49m\u001b[43m=\u001b[49m\u001b[38;5;28;43mtuple\u001b[39;49m\u001b[43m(\u001b[49m\u001b[43mcatch\u001b[49m\u001b[43m)\u001b[49m\u001b[43m \u001b[49m\u001b[38;5;28;43;01mif\u001b[39;49;00m\u001b[43m \u001b[49m\u001b[38;5;28;43misinstance\u001b[39;49m\u001b[43m(\u001b[49m\u001b[43mcatch\u001b[49m\u001b[43m,\u001b[49m\u001b[43m \u001b[49m\u001b[43mIterable\u001b[49m\u001b[43m)\u001b[49m\u001b[43m \u001b[49m\u001b[38;5;28;43;01melse\u001b[39;49;00m\u001b[43m \u001b[49m\u001b[43m(\u001b[49m\u001b[43mcatch\u001b[49m\u001b[43m,\u001b[49m\u001b[43m)\u001b[49m\u001b[43m,\u001b[49m\n\u001b[32m    482\u001b[39m \u001b[43m        \u001b[49m\u001b[43mcallbacks\u001b[49m\u001b[43m=\u001b[49m\u001b[43mcallbacks\u001b[49m\u001b[43m,\u001b[49m\n\u001b[32m    483\u001b[39m \u001b[43m        \u001b[49m\u001b[43mgc_after_trial\u001b[49m\u001b[43m=\u001b[49m\u001b[43mgc_after_trial\u001b[49m\u001b[43m,\u001b[49m\n\u001b[32m    484\u001b[39m \u001b[43m        \u001b[49m\u001b[43mshow_progress_bar\u001b[49m\u001b[43m=\u001b[49m\u001b[43mshow_progress_bar\u001b[49m\u001b[43m,\u001b[49m\n\u001b[32m    485\u001b[39m \u001b[43m    \u001b[49m\u001b[43m)\u001b[49m\n",
      "\u001b[36mFile \u001b[39m\u001b[32mc:\\code\\venvs\\repos\\repo-3.12-bagging-boosting-stacking-study\\Lib\\site-packages\\optuna\\study\\_optimize.py:63\u001b[39m, in \u001b[36m_optimize\u001b[39m\u001b[34m(study, func, n_trials, timeout, n_jobs, catch, callbacks, gc_after_trial, show_progress_bar)\u001b[39m\n\u001b[32m     61\u001b[39m \u001b[38;5;28;01mtry\u001b[39;00m:\n\u001b[32m     62\u001b[39m     \u001b[38;5;28;01mif\u001b[39;00m n_jobs == \u001b[32m1\u001b[39m:\n\u001b[32m---> \u001b[39m\u001b[32m63\u001b[39m         \u001b[43m_optimize_sequential\u001b[49m\u001b[43m(\u001b[49m\n\u001b[32m     64\u001b[39m \u001b[43m            \u001b[49m\u001b[43mstudy\u001b[49m\u001b[43m,\u001b[49m\n\u001b[32m     65\u001b[39m \u001b[43m            \u001b[49m\u001b[43mfunc\u001b[49m\u001b[43m,\u001b[49m\n\u001b[32m     66\u001b[39m \u001b[43m            \u001b[49m\u001b[43mn_trials\u001b[49m\u001b[43m,\u001b[49m\n\u001b[32m     67\u001b[39m \u001b[43m            \u001b[49m\u001b[43mtimeout\u001b[49m\u001b[43m,\u001b[49m\n\u001b[32m     68\u001b[39m \u001b[43m            \u001b[49m\u001b[43mcatch\u001b[49m\u001b[43m,\u001b[49m\n\u001b[32m     69\u001b[39m \u001b[43m            \u001b[49m\u001b[43mcallbacks\u001b[49m\u001b[43m,\u001b[49m\n\u001b[32m     70\u001b[39m \u001b[43m            \u001b[49m\u001b[43mgc_after_trial\u001b[49m\u001b[43m,\u001b[49m\n\u001b[32m     71\u001b[39m \u001b[43m            \u001b[49m\u001b[43mreseed_sampler_rng\u001b[49m\u001b[43m=\u001b[49m\u001b[38;5;28;43;01mFalse\u001b[39;49;00m\u001b[43m,\u001b[49m\n\u001b[32m     72\u001b[39m \u001b[43m            \u001b[49m\u001b[43mtime_start\u001b[49m\u001b[43m=\u001b[49m\u001b[38;5;28;43;01mNone\u001b[39;49;00m\u001b[43m,\u001b[49m\n\u001b[32m     73\u001b[39m \u001b[43m            \u001b[49m\u001b[43mprogress_bar\u001b[49m\u001b[43m=\u001b[49m\u001b[43mprogress_bar\u001b[49m\u001b[43m,\u001b[49m\n\u001b[32m     74\u001b[39m \u001b[43m        \u001b[49m\u001b[43m)\u001b[49m\n\u001b[32m     75\u001b[39m     \u001b[38;5;28;01melse\u001b[39;00m:\n\u001b[32m     76\u001b[39m         \u001b[38;5;28;01mif\u001b[39;00m n_jobs == -\u001b[32m1\u001b[39m:\n",
      "\u001b[36mFile \u001b[39m\u001b[32mc:\\code\\venvs\\repos\\repo-3.12-bagging-boosting-stacking-study\\Lib\\site-packages\\optuna\\study\\_optimize.py:160\u001b[39m, in \u001b[36m_optimize_sequential\u001b[39m\u001b[34m(study, func, n_trials, timeout, catch, callbacks, gc_after_trial, reseed_sampler_rng, time_start, progress_bar)\u001b[39m\n\u001b[32m    157\u001b[39m         \u001b[38;5;28;01mbreak\u001b[39;00m\n\u001b[32m    159\u001b[39m \u001b[38;5;28;01mtry\u001b[39;00m:\n\u001b[32m--> \u001b[39m\u001b[32m160\u001b[39m     frozen_trial = \u001b[43m_run_trial\u001b[49m\u001b[43m(\u001b[49m\u001b[43mstudy\u001b[49m\u001b[43m,\u001b[49m\u001b[43m \u001b[49m\u001b[43mfunc\u001b[49m\u001b[43m,\u001b[49m\u001b[43m \u001b[49m\u001b[43mcatch\u001b[49m\u001b[43m)\u001b[49m\n\u001b[32m    161\u001b[39m \u001b[38;5;28;01mfinally\u001b[39;00m:\n\u001b[32m    162\u001b[39m     \u001b[38;5;66;03m# The following line mitigates memory problems that can be occurred in some\u001b[39;00m\n\u001b[32m    163\u001b[39m     \u001b[38;5;66;03m# environments (e.g., services that use computing containers such as GitHub Actions).\u001b[39;00m\n\u001b[32m    164\u001b[39m     \u001b[38;5;66;03m# Please refer to the following PR for further details:\u001b[39;00m\n\u001b[32m    165\u001b[39m     \u001b[38;5;66;03m# https://github.com/optuna/optuna/pull/325.\u001b[39;00m\n\u001b[32m    166\u001b[39m     \u001b[38;5;28;01mif\u001b[39;00m gc_after_trial:\n",
      "\u001b[36mFile \u001b[39m\u001b[32mc:\\code\\venvs\\repos\\repo-3.12-bagging-boosting-stacking-study\\Lib\\site-packages\\optuna\\study\\_optimize.py:248\u001b[39m, in \u001b[36m_run_trial\u001b[39m\u001b[34m(study, func, catch)\u001b[39m\n\u001b[32m    241\u001b[39m         \u001b[38;5;28;01massert\u001b[39;00m \u001b[38;5;28;01mFalse\u001b[39;00m, \u001b[33m\"\u001b[39m\u001b[33mShould not reach.\u001b[39m\u001b[33m\"\u001b[39m\n\u001b[32m    243\u001b[39m \u001b[38;5;28;01mif\u001b[39;00m (\n\u001b[32m    244\u001b[39m     frozen_trial.state == TrialState.FAIL\n\u001b[32m    245\u001b[39m     \u001b[38;5;129;01mand\u001b[39;00m func_err \u001b[38;5;129;01mis\u001b[39;00m \u001b[38;5;129;01mnot\u001b[39;00m \u001b[38;5;28;01mNone\u001b[39;00m\n\u001b[32m    246\u001b[39m     \u001b[38;5;129;01mand\u001b[39;00m \u001b[38;5;129;01mnot\u001b[39;00m \u001b[38;5;28misinstance\u001b[39m(func_err, catch)\n\u001b[32m    247\u001b[39m ):\n\u001b[32m--> \u001b[39m\u001b[32m248\u001b[39m     \u001b[38;5;28;01mraise\u001b[39;00m func_err\n\u001b[32m    249\u001b[39m \u001b[38;5;28;01mreturn\u001b[39;00m frozen_trial\n",
      "\u001b[36mFile \u001b[39m\u001b[32mc:\\code\\venvs\\repos\\repo-3.12-bagging-boosting-stacking-study\\Lib\\site-packages\\optuna\\study\\_optimize.py:197\u001b[39m, in \u001b[36m_run_trial\u001b[39m\u001b[34m(study, func, catch)\u001b[39m\n\u001b[32m    195\u001b[39m \u001b[38;5;28;01mwith\u001b[39;00m get_heartbeat_thread(trial._trial_id, study._storage):\n\u001b[32m    196\u001b[39m     \u001b[38;5;28;01mtry\u001b[39;00m:\n\u001b[32m--> \u001b[39m\u001b[32m197\u001b[39m         value_or_values = \u001b[43mfunc\u001b[49m\u001b[43m(\u001b[49m\u001b[43mtrial\u001b[49m\u001b[43m)\u001b[49m\n\u001b[32m    198\u001b[39m     \u001b[38;5;28;01mexcept\u001b[39;00m exceptions.TrialPruned \u001b[38;5;28;01mas\u001b[39;00m e:\n\u001b[32m    199\u001b[39m         \u001b[38;5;66;03m# TODO(mamu): Handle multi-objective cases.\u001b[39;00m\n\u001b[32m    200\u001b[39m         state = TrialState.PRUNED\n",
      "\u001b[36mCell\u001b[39m\u001b[36m \u001b[39m\u001b[32mIn[7]\u001b[39m\u001b[32m, line 70\u001b[39m, in \u001b[36mobjective\u001b[39m\u001b[34m(trial)\u001b[39m\n\u001b[32m     54\u001b[39m rf = RandomForestRegressor(\n\u001b[32m     55\u001b[39m     n_estimators=n_estimators,\n\u001b[32m     56\u001b[39m     max_depth=max_depth,\n\u001b[32m   (...)\u001b[39m\u001b[32m     66\u001b[39m     random_state=SEED,\n\u001b[32m     67\u001b[39m )\n\u001b[32m     69\u001b[39m \u001b[38;5;66;03m# CV evaluation (sklearn returns negative RMSE -> negate again to minimise)\u001b[39;00m\n\u001b[32m---> \u001b[39m\u001b[32m70\u001b[39m rmse = -\u001b[43mcross_val_score\u001b[49m\u001b[43m(\u001b[49m\n\u001b[32m     71\u001b[39m \u001b[43m    \u001b[49m\u001b[43mrf\u001b[49m\u001b[43m,\u001b[49m\u001b[43m \u001b[49m\u001b[43mX\u001b[49m\u001b[43m=\u001b[49m\u001b[43mX\u001b[49m\u001b[43m,\u001b[49m\u001b[43m \u001b[49m\u001b[43my\u001b[49m\u001b[43m=\u001b[49m\u001b[43my\u001b[49m\u001b[43m,\u001b[49m\u001b[43m \u001b[49m\u001b[43mcv\u001b[49m\u001b[43m=\u001b[49m\u001b[43mcv\u001b[49m\u001b[43m,\u001b[49m\u001b[43m \u001b[49m\u001b[43mscoring\u001b[49m\u001b[43m=\u001b[49m\u001b[33;43m\"\u001b[39;49m\u001b[33;43mneg_root_mean_squared_error\u001b[39;49m\u001b[33;43m\"\u001b[39;49m\u001b[43m,\u001b[49m\u001b[43m \u001b[49m\u001b[43mn_jobs\u001b[49m\u001b[43m=\u001b[49m\u001b[43m-\u001b[49m\u001b[32;43m1\u001b[39;49m\n\u001b[32m     72\u001b[39m \u001b[43m\u001b[49m\u001b[43m)\u001b[49m.mean()\n\u001b[32m     74\u001b[39m \u001b[38;5;28;01mreturn\u001b[39;00m rmse\n",
      "\u001b[36mFile \u001b[39m\u001b[32mc:\\code\\venvs\\repos\\repo-3.12-bagging-boosting-stacking-study\\Lib\\site-packages\\sklearn\\utils\\_param_validation.py:216\u001b[39m, in \u001b[36mvalidate_params.<locals>.decorator.<locals>.wrapper\u001b[39m\u001b[34m(*args, **kwargs)\u001b[39m\n\u001b[32m    210\u001b[39m \u001b[38;5;28;01mtry\u001b[39;00m:\n\u001b[32m    211\u001b[39m     \u001b[38;5;28;01mwith\u001b[39;00m config_context(\n\u001b[32m    212\u001b[39m         skip_parameter_validation=(\n\u001b[32m    213\u001b[39m             prefer_skip_nested_validation \u001b[38;5;129;01mor\u001b[39;00m global_skip_validation\n\u001b[32m    214\u001b[39m         )\n\u001b[32m    215\u001b[39m     ):\n\u001b[32m--> \u001b[39m\u001b[32m216\u001b[39m         \u001b[38;5;28;01mreturn\u001b[39;00m \u001b[43mfunc\u001b[49m\u001b[43m(\u001b[49m\u001b[43m*\u001b[49m\u001b[43margs\u001b[49m\u001b[43m,\u001b[49m\u001b[43m \u001b[49m\u001b[43m*\u001b[49m\u001b[43m*\u001b[49m\u001b[43mkwargs\u001b[49m\u001b[43m)\u001b[49m\n\u001b[32m    217\u001b[39m \u001b[38;5;28;01mexcept\u001b[39;00m InvalidParameterError \u001b[38;5;28;01mas\u001b[39;00m e:\n\u001b[32m    218\u001b[39m     \u001b[38;5;66;03m# When the function is just a wrapper around an estimator, we allow\u001b[39;00m\n\u001b[32m    219\u001b[39m     \u001b[38;5;66;03m# the function to delegate validation to the estimator, but we replace\u001b[39;00m\n\u001b[32m    220\u001b[39m     \u001b[38;5;66;03m# the name of the estimator by the name of the function in the error\u001b[39;00m\n\u001b[32m    221\u001b[39m     \u001b[38;5;66;03m# message to avoid confusion.\u001b[39;00m\n\u001b[32m    222\u001b[39m     msg = re.sub(\n\u001b[32m    223\u001b[39m         \u001b[33mr\u001b[39m\u001b[33m\"\u001b[39m\u001b[33mparameter of \u001b[39m\u001b[33m\\\u001b[39m\u001b[33mw+ must be\u001b[39m\u001b[33m\"\u001b[39m,\n\u001b[32m    224\u001b[39m         \u001b[33mf\u001b[39m\u001b[33m\"\u001b[39m\u001b[33mparameter of \u001b[39m\u001b[38;5;132;01m{\u001b[39;00mfunc.\u001b[34m__qualname__\u001b[39m\u001b[38;5;132;01m}\u001b[39;00m\u001b[33m must be\u001b[39m\u001b[33m\"\u001b[39m,\n\u001b[32m    225\u001b[39m         \u001b[38;5;28mstr\u001b[39m(e),\n\u001b[32m    226\u001b[39m     )\n",
      "\u001b[36mFile \u001b[39m\u001b[32mc:\\code\\venvs\\repos\\repo-3.12-bagging-boosting-stacking-study\\Lib\\site-packages\\sklearn\\model_selection\\_validation.py:684\u001b[39m, in \u001b[36mcross_val_score\u001b[39m\u001b[34m(estimator, X, y, groups, scoring, cv, n_jobs, verbose, params, pre_dispatch, error_score)\u001b[39m\n\u001b[32m    681\u001b[39m \u001b[38;5;66;03m# To ensure multimetric format is not supported\u001b[39;00m\n\u001b[32m    682\u001b[39m scorer = check_scoring(estimator, scoring=scoring)\n\u001b[32m--> \u001b[39m\u001b[32m684\u001b[39m cv_results = \u001b[43mcross_validate\u001b[49m\u001b[43m(\u001b[49m\n\u001b[32m    685\u001b[39m \u001b[43m    \u001b[49m\u001b[43mestimator\u001b[49m\u001b[43m=\u001b[49m\u001b[43mestimator\u001b[49m\u001b[43m,\u001b[49m\n\u001b[32m    686\u001b[39m \u001b[43m    \u001b[49m\u001b[43mX\u001b[49m\u001b[43m=\u001b[49m\u001b[43mX\u001b[49m\u001b[43m,\u001b[49m\n\u001b[32m    687\u001b[39m \u001b[43m    \u001b[49m\u001b[43my\u001b[49m\u001b[43m=\u001b[49m\u001b[43my\u001b[49m\u001b[43m,\u001b[49m\n\u001b[32m    688\u001b[39m \u001b[43m    \u001b[49m\u001b[43mgroups\u001b[49m\u001b[43m=\u001b[49m\u001b[43mgroups\u001b[49m\u001b[43m,\u001b[49m\n\u001b[32m    689\u001b[39m \u001b[43m    \u001b[49m\u001b[43mscoring\u001b[49m\u001b[43m=\u001b[49m\u001b[43m{\u001b[49m\u001b[33;43m\"\u001b[39;49m\u001b[33;43mscore\u001b[39;49m\u001b[33;43m\"\u001b[39;49m\u001b[43m:\u001b[49m\u001b[43m \u001b[49m\u001b[43mscorer\u001b[49m\u001b[43m}\u001b[49m\u001b[43m,\u001b[49m\n\u001b[32m    690\u001b[39m \u001b[43m    \u001b[49m\u001b[43mcv\u001b[49m\u001b[43m=\u001b[49m\u001b[43mcv\u001b[49m\u001b[43m,\u001b[49m\n\u001b[32m    691\u001b[39m \u001b[43m    \u001b[49m\u001b[43mn_jobs\u001b[49m\u001b[43m=\u001b[49m\u001b[43mn_jobs\u001b[49m\u001b[43m,\u001b[49m\n\u001b[32m    692\u001b[39m \u001b[43m    \u001b[49m\u001b[43mverbose\u001b[49m\u001b[43m=\u001b[49m\u001b[43mverbose\u001b[49m\u001b[43m,\u001b[49m\n\u001b[32m    693\u001b[39m \u001b[43m    \u001b[49m\u001b[43mparams\u001b[49m\u001b[43m=\u001b[49m\u001b[43mparams\u001b[49m\u001b[43m,\u001b[49m\n\u001b[32m    694\u001b[39m \u001b[43m    \u001b[49m\u001b[43mpre_dispatch\u001b[49m\u001b[43m=\u001b[49m\u001b[43mpre_dispatch\u001b[49m\u001b[43m,\u001b[49m\n\u001b[32m    695\u001b[39m \u001b[43m    \u001b[49m\u001b[43merror_score\u001b[49m\u001b[43m=\u001b[49m\u001b[43merror_score\u001b[49m\u001b[43m,\u001b[49m\n\u001b[32m    696\u001b[39m \u001b[43m\u001b[49m\u001b[43m)\u001b[49m\n\u001b[32m    697\u001b[39m \u001b[38;5;28;01mreturn\u001b[39;00m cv_results[\u001b[33m\"\u001b[39m\u001b[33mtest_score\u001b[39m\u001b[33m\"\u001b[39m]\n",
      "\u001b[36mFile \u001b[39m\u001b[32mc:\\code\\venvs\\repos\\repo-3.12-bagging-boosting-stacking-study\\Lib\\site-packages\\sklearn\\utils\\_param_validation.py:216\u001b[39m, in \u001b[36mvalidate_params.<locals>.decorator.<locals>.wrapper\u001b[39m\u001b[34m(*args, **kwargs)\u001b[39m\n\u001b[32m    210\u001b[39m \u001b[38;5;28;01mtry\u001b[39;00m:\n\u001b[32m    211\u001b[39m     \u001b[38;5;28;01mwith\u001b[39;00m config_context(\n\u001b[32m    212\u001b[39m         skip_parameter_validation=(\n\u001b[32m    213\u001b[39m             prefer_skip_nested_validation \u001b[38;5;129;01mor\u001b[39;00m global_skip_validation\n\u001b[32m    214\u001b[39m         )\n\u001b[32m    215\u001b[39m     ):\n\u001b[32m--> \u001b[39m\u001b[32m216\u001b[39m         \u001b[38;5;28;01mreturn\u001b[39;00m \u001b[43mfunc\u001b[49m\u001b[43m(\u001b[49m\u001b[43m*\u001b[49m\u001b[43margs\u001b[49m\u001b[43m,\u001b[49m\u001b[43m \u001b[49m\u001b[43m*\u001b[49m\u001b[43m*\u001b[49m\u001b[43mkwargs\u001b[49m\u001b[43m)\u001b[49m\n\u001b[32m    217\u001b[39m \u001b[38;5;28;01mexcept\u001b[39;00m InvalidParameterError \u001b[38;5;28;01mas\u001b[39;00m e:\n\u001b[32m    218\u001b[39m     \u001b[38;5;66;03m# When the function is just a wrapper around an estimator, we allow\u001b[39;00m\n\u001b[32m    219\u001b[39m     \u001b[38;5;66;03m# the function to delegate validation to the estimator, but we replace\u001b[39;00m\n\u001b[32m    220\u001b[39m     \u001b[38;5;66;03m# the name of the estimator by the name of the function in the error\u001b[39;00m\n\u001b[32m    221\u001b[39m     \u001b[38;5;66;03m# message to avoid confusion.\u001b[39;00m\n\u001b[32m    222\u001b[39m     msg = re.sub(\n\u001b[32m    223\u001b[39m         \u001b[33mr\u001b[39m\u001b[33m\"\u001b[39m\u001b[33mparameter of \u001b[39m\u001b[33m\\\u001b[39m\u001b[33mw+ must be\u001b[39m\u001b[33m\"\u001b[39m,\n\u001b[32m    224\u001b[39m         \u001b[33mf\u001b[39m\u001b[33m\"\u001b[39m\u001b[33mparameter of \u001b[39m\u001b[38;5;132;01m{\u001b[39;00mfunc.\u001b[34m__qualname__\u001b[39m\u001b[38;5;132;01m}\u001b[39;00m\u001b[33m must be\u001b[39m\u001b[33m\"\u001b[39m,\n\u001b[32m    225\u001b[39m         \u001b[38;5;28mstr\u001b[39m(e),\n\u001b[32m    226\u001b[39m     )\n",
      "\u001b[36mFile \u001b[39m\u001b[32mc:\\code\\venvs\\repos\\repo-3.12-bagging-boosting-stacking-study\\Lib\\site-packages\\sklearn\\model_selection\\_validation.py:411\u001b[39m, in \u001b[36mcross_validate\u001b[39m\u001b[34m(estimator, X, y, groups, scoring, cv, n_jobs, verbose, params, pre_dispatch, return_train_score, return_estimator, return_indices, error_score)\u001b[39m\n\u001b[32m    408\u001b[39m \u001b[38;5;66;03m# We clone the estimator to make sure that all the folds are\u001b[39;00m\n\u001b[32m    409\u001b[39m \u001b[38;5;66;03m# independent, and that it is pickle-able.\u001b[39;00m\n\u001b[32m    410\u001b[39m parallel = Parallel(n_jobs=n_jobs, verbose=verbose, pre_dispatch=pre_dispatch)\n\u001b[32m--> \u001b[39m\u001b[32m411\u001b[39m results = \u001b[43mparallel\u001b[49m\u001b[43m(\u001b[49m\n\u001b[32m    412\u001b[39m \u001b[43m    \u001b[49m\u001b[43mdelayed\u001b[49m\u001b[43m(\u001b[49m\u001b[43m_fit_and_score\u001b[49m\u001b[43m)\u001b[49m\u001b[43m(\u001b[49m\n\u001b[32m    413\u001b[39m \u001b[43m        \u001b[49m\u001b[43mclone\u001b[49m\u001b[43m(\u001b[49m\u001b[43mestimator\u001b[49m\u001b[43m)\u001b[49m\u001b[43m,\u001b[49m\n\u001b[32m    414\u001b[39m \u001b[43m        \u001b[49m\u001b[43mX\u001b[49m\u001b[43m,\u001b[49m\n\u001b[32m    415\u001b[39m \u001b[43m        \u001b[49m\u001b[43my\u001b[49m\u001b[43m,\u001b[49m\n\u001b[32m    416\u001b[39m \u001b[43m        \u001b[49m\u001b[43mscorer\u001b[49m\u001b[43m=\u001b[49m\u001b[43mscorers\u001b[49m\u001b[43m,\u001b[49m\n\u001b[32m    417\u001b[39m \u001b[43m        \u001b[49m\u001b[43mtrain\u001b[49m\u001b[43m=\u001b[49m\u001b[43mtrain\u001b[49m\u001b[43m,\u001b[49m\n\u001b[32m    418\u001b[39m \u001b[43m        \u001b[49m\u001b[43mtest\u001b[49m\u001b[43m=\u001b[49m\u001b[43mtest\u001b[49m\u001b[43m,\u001b[49m\n\u001b[32m    419\u001b[39m \u001b[43m        \u001b[49m\u001b[43mverbose\u001b[49m\u001b[43m=\u001b[49m\u001b[43mverbose\u001b[49m\u001b[43m,\u001b[49m\n\u001b[32m    420\u001b[39m \u001b[43m        \u001b[49m\u001b[43mparameters\u001b[49m\u001b[43m=\u001b[49m\u001b[38;5;28;43;01mNone\u001b[39;49;00m\u001b[43m,\u001b[49m\n\u001b[32m    421\u001b[39m \u001b[43m        \u001b[49m\u001b[43mfit_params\u001b[49m\u001b[43m=\u001b[49m\u001b[43mrouted_params\u001b[49m\u001b[43m.\u001b[49m\u001b[43mestimator\u001b[49m\u001b[43m.\u001b[49m\u001b[43mfit\u001b[49m\u001b[43m,\u001b[49m\n\u001b[32m    422\u001b[39m \u001b[43m        \u001b[49m\u001b[43mscore_params\u001b[49m\u001b[43m=\u001b[49m\u001b[43mrouted_params\u001b[49m\u001b[43m.\u001b[49m\u001b[43mscorer\u001b[49m\u001b[43m.\u001b[49m\u001b[43mscore\u001b[49m\u001b[43m,\u001b[49m\n\u001b[32m    423\u001b[39m \u001b[43m        \u001b[49m\u001b[43mreturn_train_score\u001b[49m\u001b[43m=\u001b[49m\u001b[43mreturn_train_score\u001b[49m\u001b[43m,\u001b[49m\n\u001b[32m    424\u001b[39m \u001b[43m        \u001b[49m\u001b[43mreturn_times\u001b[49m\u001b[43m=\u001b[49m\u001b[38;5;28;43;01mTrue\u001b[39;49;00m\u001b[43m,\u001b[49m\n\u001b[32m    425\u001b[39m \u001b[43m        \u001b[49m\u001b[43mreturn_estimator\u001b[49m\u001b[43m=\u001b[49m\u001b[43mreturn_estimator\u001b[49m\u001b[43m,\u001b[49m\n\u001b[32m    426\u001b[39m \u001b[43m        \u001b[49m\u001b[43merror_score\u001b[49m\u001b[43m=\u001b[49m\u001b[43merror_score\u001b[49m\u001b[43m,\u001b[49m\n\u001b[32m    427\u001b[39m \u001b[43m    \u001b[49m\u001b[43m)\u001b[49m\n\u001b[32m    428\u001b[39m \u001b[43m    \u001b[49m\u001b[38;5;28;43;01mfor\u001b[39;49;00m\u001b[43m \u001b[49m\u001b[43mtrain\u001b[49m\u001b[43m,\u001b[49m\u001b[43m \u001b[49m\u001b[43mtest\u001b[49m\u001b[43m \u001b[49m\u001b[38;5;129;43;01min\u001b[39;49;00m\u001b[43m \u001b[49m\u001b[43mindices\u001b[49m\n\u001b[32m    429\u001b[39m \u001b[43m\u001b[49m\u001b[43m)\u001b[49m\n\u001b[32m    431\u001b[39m _warn_or_raise_about_fit_failures(results, error_score)\n\u001b[32m    433\u001b[39m \u001b[38;5;66;03m# For callable scoring, the return type is only know after calling. If the\u001b[39;00m\n\u001b[32m    434\u001b[39m \u001b[38;5;66;03m# return type is a dictionary, the error scores can now be inserted with\u001b[39;00m\n\u001b[32m    435\u001b[39m \u001b[38;5;66;03m# the correct key.\u001b[39;00m\n",
      "\u001b[36mFile \u001b[39m\u001b[32mc:\\code\\venvs\\repos\\repo-3.12-bagging-boosting-stacking-study\\Lib\\site-packages\\sklearn\\utils\\parallel.py:77\u001b[39m, in \u001b[36mParallel.__call__\u001b[39m\u001b[34m(self, iterable)\u001b[39m\n\u001b[32m     72\u001b[39m config = get_config()\n\u001b[32m     73\u001b[39m iterable_with_config = (\n\u001b[32m     74\u001b[39m     (_with_config(delayed_func, config), args, kwargs)\n\u001b[32m     75\u001b[39m     \u001b[38;5;28;01mfor\u001b[39;00m delayed_func, args, kwargs \u001b[38;5;129;01min\u001b[39;00m iterable\n\u001b[32m     76\u001b[39m )\n\u001b[32m---> \u001b[39m\u001b[32m77\u001b[39m \u001b[38;5;28;01mreturn\u001b[39;00m \u001b[38;5;28;43msuper\u001b[39;49m\u001b[43m(\u001b[49m\u001b[43m)\u001b[49m\u001b[43m.\u001b[49m\u001b[34;43m__call__\u001b[39;49m\u001b[43m(\u001b[49m\u001b[43miterable_with_config\u001b[49m\u001b[43m)\u001b[49m\n",
      "\u001b[36mFile \u001b[39m\u001b[32mc:\\code\\venvs\\repos\\repo-3.12-bagging-boosting-stacking-study\\Lib\\site-packages\\joblib\\parallel.py:2007\u001b[39m, in \u001b[36mParallel.__call__\u001b[39m\u001b[34m(self, iterable)\u001b[39m\n\u001b[32m   2001\u001b[39m \u001b[38;5;66;03m# The first item from the output is blank, but it makes the interpreter\u001b[39;00m\n\u001b[32m   2002\u001b[39m \u001b[38;5;66;03m# progress until it enters the Try/Except block of the generator and\u001b[39;00m\n\u001b[32m   2003\u001b[39m \u001b[38;5;66;03m# reaches the first `yield` statement. This starts the asynchronous\u001b[39;00m\n\u001b[32m   2004\u001b[39m \u001b[38;5;66;03m# dispatch of the tasks to the workers.\u001b[39;00m\n\u001b[32m   2005\u001b[39m \u001b[38;5;28mnext\u001b[39m(output)\n\u001b[32m-> \u001b[39m\u001b[32m2007\u001b[39m \u001b[38;5;28;01mreturn\u001b[39;00m output \u001b[38;5;28;01mif\u001b[39;00m \u001b[38;5;28mself\u001b[39m.return_generator \u001b[38;5;28;01melse\u001b[39;00m \u001b[38;5;28;43mlist\u001b[39;49m\u001b[43m(\u001b[49m\u001b[43moutput\u001b[49m\u001b[43m)\u001b[49m\n",
      "\u001b[36mFile \u001b[39m\u001b[32mc:\\code\\venvs\\repos\\repo-3.12-bagging-boosting-stacking-study\\Lib\\site-packages\\joblib\\parallel.py:1650\u001b[39m, in \u001b[36mParallel._get_outputs\u001b[39m\u001b[34m(self, iterator, pre_dispatch)\u001b[39m\n\u001b[32m   1647\u001b[39m     \u001b[38;5;28;01myield\u001b[39;00m\n\u001b[32m   1649\u001b[39m     \u001b[38;5;28;01mwith\u001b[39;00m \u001b[38;5;28mself\u001b[39m._backend.retrieval_context():\n\u001b[32m-> \u001b[39m\u001b[32m1650\u001b[39m         \u001b[38;5;28;01myield from\u001b[39;00m \u001b[38;5;28mself\u001b[39m._retrieve()\n\u001b[32m   1652\u001b[39m \u001b[38;5;28;01mexcept\u001b[39;00m \u001b[38;5;167;01mGeneratorExit\u001b[39;00m:\n\u001b[32m   1653\u001b[39m     \u001b[38;5;66;03m# The generator has been garbage collected before being fully\u001b[39;00m\n\u001b[32m   1654\u001b[39m     \u001b[38;5;66;03m# consumed. This aborts the remaining tasks if possible and warn\u001b[39;00m\n\u001b[32m   1655\u001b[39m     \u001b[38;5;66;03m# the user if necessary.\u001b[39;00m\n\u001b[32m   1656\u001b[39m     \u001b[38;5;28mself\u001b[39m._exception = \u001b[38;5;28;01mTrue\u001b[39;00m\n",
      "\u001b[36mFile \u001b[39m\u001b[32mc:\\code\\venvs\\repos\\repo-3.12-bagging-boosting-stacking-study\\Lib\\site-packages\\joblib\\parallel.py:1762\u001b[39m, in \u001b[36mParallel._retrieve\u001b[39m\u001b[34m(self)\u001b[39m\n\u001b[32m   1757\u001b[39m \u001b[38;5;66;03m# If the next job is not ready for retrieval yet, we just wait for\u001b[39;00m\n\u001b[32m   1758\u001b[39m \u001b[38;5;66;03m# async callbacks to progress.\u001b[39;00m\n\u001b[32m   1759\u001b[39m \u001b[38;5;28;01mif\u001b[39;00m ((\u001b[38;5;28mlen\u001b[39m(\u001b[38;5;28mself\u001b[39m._jobs) == \u001b[32m0\u001b[39m) \u001b[38;5;129;01mor\u001b[39;00m\n\u001b[32m   1760\u001b[39m     (\u001b[38;5;28mself\u001b[39m._jobs[\u001b[32m0\u001b[39m].get_status(\n\u001b[32m   1761\u001b[39m         timeout=\u001b[38;5;28mself\u001b[39m.timeout) == TASK_PENDING)):\n\u001b[32m-> \u001b[39m\u001b[32m1762\u001b[39m     \u001b[43mtime\u001b[49m\u001b[43m.\u001b[49m\u001b[43msleep\u001b[49m\u001b[43m(\u001b[49m\u001b[32;43m0.01\u001b[39;49m\u001b[43m)\u001b[49m\n\u001b[32m   1763\u001b[39m     \u001b[38;5;28;01mcontinue\u001b[39;00m\n\u001b[32m   1765\u001b[39m \u001b[38;5;66;03m# We need to be careful: the job list can be filling up as\u001b[39;00m\n\u001b[32m   1766\u001b[39m \u001b[38;5;66;03m# we empty it and Python list are not thread-safe by\u001b[39;00m\n\u001b[32m   1767\u001b[39m \u001b[38;5;66;03m# default hence the use of the lock\u001b[39;00m\n",
      "\u001b[31mKeyboardInterrupt\u001b[39m: "
     ]
    }
   ],
   "source": [
    "# Split X and y (here X is a DataFrame)\n",
    "y = train_df[\"target\"].values\n",
    "X = train_df.drop(columns=\"target\")\n",
    "n_features_total = X.shape[1]\n",
    "\n",
    "# Cross-validation strategy: 10-fold, repeated three times\n",
    "cv = KFold(n_splits=5, shuffle=True, random_state=SEED)\n",
    "\n",
    "\n",
    "# Objective function for Optuna\n",
    "def objective(trial):\n",
    "    # Hyper-parameter search space\n",
    "\n",
    "    # (a) Ensemble size: bias keeps shrinking up to ~1 000 trees on 20k rows; >1 200\n",
    "    # brings diminishing returns vs CPU.\n",
    "    n_estimators = trial.suggest_int(\"n_estimators\", 300, 900, step=150)\n",
    "\n",
    "    # (b) Tree depth: depth-5 catches broad trends; depth-20 is usually enough to model\n",
    "    # local price quirks. If CV prefers, let the forest grow un-capped (`None`).\n",
    "    if trial.suggest_categorical(\"cap_depth\", [True, False]):\n",
    "        max_depth = trial.suggest_int(\"max_depth\", 5, 20)\n",
    "    else:\n",
    "        max_depth = None\n",
    "\n",
    "    # (c) Split regularisation: >=2 avoids one-sample splits; upper bound 20 keeps\n",
    "    # leaves from fragmenting rare tracts.\n",
    "    min_samples_split = trial.suggest_int(\"min_samples_split\", 2, 20, step=2)\n",
    "    # >=1 leaf size trades variance (1) vs bias (10).\n",
    "    min_samples_leaf = trial.suggest_int(\"min_samples_leaf\", 1, 10)\n",
    "\n",
    "    # (d) Feature sub-sampling: at least 3 columns to keep engineered/interaction\n",
    "    # features in play, at most the whole set.\n",
    "    max_features = trial.suggest_int(\"max_features\", 3, n_features_total)\n",
    "\n",
    "    # (e) Row sub-sampling / bootstrap: bootstrapping decorrelates trees; try 50-100 %\n",
    "    # of rows when enabled.\n",
    "    bootstrap = trial.suggest_categorical(\"bootstrap\", [True, False])\n",
    "    max_samples = (\n",
    "        trial.suggest_float(\"max_samples\", 0.5, 1.0, step=0.1) if bootstrap else None\n",
    "    )\n",
    "\n",
    "    # (f) Impurity criterion: compare classic MSE vs MAE (robust to coastal outliers).\n",
    "    criterion = trial.suggest_categorical(\n",
    "        \"criterion\", [\"squared_error\", \"absolute_error\"]\n",
    "    )\n",
    "    # Cost-complexity pruning: 1e-6 ~ no pruning; 1e-2 is aggressive.\n",
    "    ccp_alpha = trial.suggest_float(\"ccp_alpha\", 1e-6, 1e-2, log=True)\n",
    "\n",
    "    # (g) OOB score (only valid if bootstrap): can help the splitter choose less\n",
    "    # over-fit parameters; tested as a flag.\n",
    "    oob_score = bootstrap and trial.suggest_categorical(\"oob_score\", [True, False])\n",
    "\n",
    "    # Model\n",
    "    rf = RandomForestRegressor(\n",
    "        n_estimators=n_estimators,\n",
    "        max_depth=max_depth,\n",
    "        min_samples_split=min_samples_split,\n",
    "        min_samples_leaf=min_samples_leaf,\n",
    "        max_features=max_features,\n",
    "        bootstrap=bootstrap,\n",
    "        max_samples=max_samples,\n",
    "        criterion=criterion,\n",
    "        ccp_alpha=ccp_alpha,\n",
    "        oob_score=oob_score,\n",
    "        n_jobs=1,\n",
    "        random_state=SEED,\n",
    "    )\n",
    "\n",
    "    # CV evaluation (sklearn returns negative RMSE -> negate again to minimise)\n",
    "    rmse = -cross_val_score(\n",
    "        rf, X=X, y=y, cv=cv, scoring=\"neg_root_mean_squared_error\", n_jobs=-1\n",
    "    ).mean()\n",
    "\n",
    "    return rmse\n",
    "\n",
    "\n",
    "study_rf = optuna.create_study(\n",
    "    direction=\"minimize\",\n",
    "    sampler=TPESampler(seed=SEED),  # reproducible exploration\n",
    "    pruner=HyperbandPruner(),  # early-stop weak configs\n",
    "    study_name=f\"RF_{DATASET_NAME}\",\n",
    ")\n",
    "\n",
    "# Robust search: either n_trials or timeout\n",
    "# study_rf.optimize(objective, n_trials=200, show_progress_bar=True)\n",
    "study_rf.optimize(objective, timeout=60*30, show_progress_bar=True)\n",
    "\n",
    "# Inspect the result\n",
    "print(\"Best RMSE :\", study_rf.best_value)\n",
    "print(\"Best parameters:\", study_rf.best_params)"
   ]
  },
  {
   "cell_type": "code",
   "execution_count": 8,
   "id": "42ade9e3",
   "metadata": {},
   "outputs": [
    {
     "data": {
      "application/vnd.plotly.v1+json": {
       "config": {
        "plotlyServerURL": "https://plot.ly"
       },
       "data": [
        {
         "mode": "markers",
         "name": "Objective Value",
         "type": "scatter",
         "x": [
          0,
          1
         ],
         "y": [
          0.6222483989835678,
          0.6054999892289274
         ]
        },
        {
         "mode": "lines",
         "name": "Best Value",
         "type": "scatter",
         "x": [
          0,
          1,
          2
         ],
         "y": [
          0.6222483989835678,
          0.6054999892289274,
          0.6054999892289274
         ]
        },
        {
         "marker": {
          "color": "#cccccc"
         },
         "mode": "markers",
         "name": "Infeasible Trial",
         "showlegend": false,
         "type": "scatter",
         "x": [],
         "y": []
        }
       ],
       "layout": {
        "template": {
         "data": {
          "bar": [
           {
            "error_x": {
             "color": "#f2f5fa"
            },
            "error_y": {
             "color": "#f2f5fa"
            },
            "marker": {
             "line": {
              "color": "rgb(17,17,17)",
              "width": 0.5
             },
             "pattern": {
              "fillmode": "overlay",
              "size": 10,
              "solidity": 0.2
             }
            },
            "type": "bar"
           }
          ],
          "barpolar": [
           {
            "marker": {
             "line": {
              "color": "rgb(17,17,17)",
              "width": 0.5
             },
             "pattern": {
              "fillmode": "overlay",
              "size": 10,
              "solidity": 0.2
             }
            },
            "type": "barpolar"
           }
          ],
          "carpet": [
           {
            "aaxis": {
             "endlinecolor": "#A2B1C6",
             "gridcolor": "#506784",
             "linecolor": "#506784",
             "minorgridcolor": "#506784",
             "startlinecolor": "#A2B1C6"
            },
            "baxis": {
             "endlinecolor": "#A2B1C6",
             "gridcolor": "#506784",
             "linecolor": "#506784",
             "minorgridcolor": "#506784",
             "startlinecolor": "#A2B1C6"
            },
            "type": "carpet"
           }
          ],
          "choropleth": [
           {
            "colorbar": {
             "outlinewidth": 0,
             "ticks": ""
            },
            "type": "choropleth"
           }
          ],
          "contour": [
           {
            "colorbar": {
             "outlinewidth": 0,
             "ticks": ""
            },
            "colorscale": [
             [
              0,
              "#0d0887"
             ],
             [
              0.1111111111111111,
              "#46039f"
             ],
             [
              0.2222222222222222,
              "#7201a8"
             ],
             [
              0.3333333333333333,
              "#9c179e"
             ],
             [
              0.4444444444444444,
              "#bd3786"
             ],
             [
              0.5555555555555556,
              "#d8576b"
             ],
             [
              0.6666666666666666,
              "#ed7953"
             ],
             [
              0.7777777777777778,
              "#fb9f3a"
             ],
             [
              0.8888888888888888,
              "#fdca26"
             ],
             [
              1,
              "#f0f921"
             ]
            ],
            "type": "contour"
           }
          ],
          "contourcarpet": [
           {
            "colorbar": {
             "outlinewidth": 0,
             "ticks": ""
            },
            "type": "contourcarpet"
           }
          ],
          "heatmap": [
           {
            "colorbar": {
             "outlinewidth": 0,
             "ticks": ""
            },
            "colorscale": [
             [
              0,
              "#0d0887"
             ],
             [
              0.1111111111111111,
              "#46039f"
             ],
             [
              0.2222222222222222,
              "#7201a8"
             ],
             [
              0.3333333333333333,
              "#9c179e"
             ],
             [
              0.4444444444444444,
              "#bd3786"
             ],
             [
              0.5555555555555556,
              "#d8576b"
             ],
             [
              0.6666666666666666,
              "#ed7953"
             ],
             [
              0.7777777777777778,
              "#fb9f3a"
             ],
             [
              0.8888888888888888,
              "#fdca26"
             ],
             [
              1,
              "#f0f921"
             ]
            ],
            "type": "heatmap"
           }
          ],
          "histogram": [
           {
            "marker": {
             "pattern": {
              "fillmode": "overlay",
              "size": 10,
              "solidity": 0.2
             }
            },
            "type": "histogram"
           }
          ],
          "histogram2d": [
           {
            "colorbar": {
             "outlinewidth": 0,
             "ticks": ""
            },
            "colorscale": [
             [
              0,
              "#0d0887"
             ],
             [
              0.1111111111111111,
              "#46039f"
             ],
             [
              0.2222222222222222,
              "#7201a8"
             ],
             [
              0.3333333333333333,
              "#9c179e"
             ],
             [
              0.4444444444444444,
              "#bd3786"
             ],
             [
              0.5555555555555556,
              "#d8576b"
             ],
             [
              0.6666666666666666,
              "#ed7953"
             ],
             [
              0.7777777777777778,
              "#fb9f3a"
             ],
             [
              0.8888888888888888,
              "#fdca26"
             ],
             [
              1,
              "#f0f921"
             ]
            ],
            "type": "histogram2d"
           }
          ],
          "histogram2dcontour": [
           {
            "colorbar": {
             "outlinewidth": 0,
             "ticks": ""
            },
            "colorscale": [
             [
              0,
              "#0d0887"
             ],
             [
              0.1111111111111111,
              "#46039f"
             ],
             [
              0.2222222222222222,
              "#7201a8"
             ],
             [
              0.3333333333333333,
              "#9c179e"
             ],
             [
              0.4444444444444444,
              "#bd3786"
             ],
             [
              0.5555555555555556,
              "#d8576b"
             ],
             [
              0.6666666666666666,
              "#ed7953"
             ],
             [
              0.7777777777777778,
              "#fb9f3a"
             ],
             [
              0.8888888888888888,
              "#fdca26"
             ],
             [
              1,
              "#f0f921"
             ]
            ],
            "type": "histogram2dcontour"
           }
          ],
          "mesh3d": [
           {
            "colorbar": {
             "outlinewidth": 0,
             "ticks": ""
            },
            "type": "mesh3d"
           }
          ],
          "parcoords": [
           {
            "line": {
             "colorbar": {
              "outlinewidth": 0,
              "ticks": ""
             }
            },
            "type": "parcoords"
           }
          ],
          "pie": [
           {
            "automargin": true,
            "type": "pie"
           }
          ],
          "scatter": [
           {
            "marker": {
             "line": {
              "color": "#283442"
             }
            },
            "type": "scatter"
           }
          ],
          "scatter3d": [
           {
            "line": {
             "colorbar": {
              "outlinewidth": 0,
              "ticks": ""
             }
            },
            "marker": {
             "colorbar": {
              "outlinewidth": 0,
              "ticks": ""
             }
            },
            "type": "scatter3d"
           }
          ],
          "scattercarpet": [
           {
            "marker": {
             "colorbar": {
              "outlinewidth": 0,
              "ticks": ""
             }
            },
            "type": "scattercarpet"
           }
          ],
          "scattergeo": [
           {
            "marker": {
             "colorbar": {
              "outlinewidth": 0,
              "ticks": ""
             }
            },
            "type": "scattergeo"
           }
          ],
          "scattergl": [
           {
            "marker": {
             "line": {
              "color": "#283442"
             }
            },
            "type": "scattergl"
           }
          ],
          "scattermap": [
           {
            "marker": {
             "colorbar": {
              "outlinewidth": 0,
              "ticks": ""
             }
            },
            "type": "scattermap"
           }
          ],
          "scattermapbox": [
           {
            "marker": {
             "colorbar": {
              "outlinewidth": 0,
              "ticks": ""
             }
            },
            "type": "scattermapbox"
           }
          ],
          "scatterpolar": [
           {
            "marker": {
             "colorbar": {
              "outlinewidth": 0,
              "ticks": ""
             }
            },
            "type": "scatterpolar"
           }
          ],
          "scatterpolargl": [
           {
            "marker": {
             "colorbar": {
              "outlinewidth": 0,
              "ticks": ""
             }
            },
            "type": "scatterpolargl"
           }
          ],
          "scatterternary": [
           {
            "marker": {
             "colorbar": {
              "outlinewidth": 0,
              "ticks": ""
             }
            },
            "type": "scatterternary"
           }
          ],
          "surface": [
           {
            "colorbar": {
             "outlinewidth": 0,
             "ticks": ""
            },
            "colorscale": [
             [
              0,
              "#0d0887"
             ],
             [
              0.1111111111111111,
              "#46039f"
             ],
             [
              0.2222222222222222,
              "#7201a8"
             ],
             [
              0.3333333333333333,
              "#9c179e"
             ],
             [
              0.4444444444444444,
              "#bd3786"
             ],
             [
              0.5555555555555556,
              "#d8576b"
             ],
             [
              0.6666666666666666,
              "#ed7953"
             ],
             [
              0.7777777777777778,
              "#fb9f3a"
             ],
             [
              0.8888888888888888,
              "#fdca26"
             ],
             [
              1,
              "#f0f921"
             ]
            ],
            "type": "surface"
           }
          ],
          "table": [
           {
            "cells": {
             "fill": {
              "color": "#506784"
             },
             "line": {
              "color": "rgb(17,17,17)"
             }
            },
            "header": {
             "fill": {
              "color": "#2a3f5f"
             },
             "line": {
              "color": "rgb(17,17,17)"
             }
            },
            "type": "table"
           }
          ]
         },
         "layout": {
          "annotationdefaults": {
           "arrowcolor": "#f2f5fa",
           "arrowhead": 0,
           "arrowwidth": 1
          },
          "autotypenumbers": "strict",
          "coloraxis": {
           "colorbar": {
            "outlinewidth": 0,
            "ticks": ""
           }
          },
          "colorscale": {
           "diverging": [
            [
             0,
             "#8e0152"
            ],
            [
             0.1,
             "#c51b7d"
            ],
            [
             0.2,
             "#de77ae"
            ],
            [
             0.3,
             "#f1b6da"
            ],
            [
             0.4,
             "#fde0ef"
            ],
            [
             0.5,
             "#f7f7f7"
            ],
            [
             0.6,
             "#e6f5d0"
            ],
            [
             0.7,
             "#b8e186"
            ],
            [
             0.8,
             "#7fbc41"
            ],
            [
             0.9,
             "#4d9221"
            ],
            [
             1,
             "#276419"
            ]
           ],
           "sequential": [
            [
             0,
             "#0d0887"
            ],
            [
             0.1111111111111111,
             "#46039f"
            ],
            [
             0.2222222222222222,
             "#7201a8"
            ],
            [
             0.3333333333333333,
             "#9c179e"
            ],
            [
             0.4444444444444444,
             "#bd3786"
            ],
            [
             0.5555555555555556,
             "#d8576b"
            ],
            [
             0.6666666666666666,
             "#ed7953"
            ],
            [
             0.7777777777777778,
             "#fb9f3a"
            ],
            [
             0.8888888888888888,
             "#fdca26"
            ],
            [
             1,
             "#f0f921"
            ]
           ],
           "sequentialminus": [
            [
             0,
             "#0d0887"
            ],
            [
             0.1111111111111111,
             "#46039f"
            ],
            [
             0.2222222222222222,
             "#7201a8"
            ],
            [
             0.3333333333333333,
             "#9c179e"
            ],
            [
             0.4444444444444444,
             "#bd3786"
            ],
            [
             0.5555555555555556,
             "#d8576b"
            ],
            [
             0.6666666666666666,
             "#ed7953"
            ],
            [
             0.7777777777777778,
             "#fb9f3a"
            ],
            [
             0.8888888888888888,
             "#fdca26"
            ],
            [
             1,
             "#f0f921"
            ]
           ]
          },
          "colorway": [
           "#636efa",
           "#EF553B",
           "#00cc96",
           "#ab63fa",
           "#FFA15A",
           "#19d3f3",
           "#FF6692",
           "#B6E880",
           "#FF97FF",
           "#FECB52"
          ],
          "font": {
           "color": "#f2f5fa"
          },
          "geo": {
           "bgcolor": "rgb(17,17,17)",
           "lakecolor": "rgb(17,17,17)",
           "landcolor": "rgb(17,17,17)",
           "showlakes": true,
           "showland": true,
           "subunitcolor": "#506784"
          },
          "hoverlabel": {
           "align": "left"
          },
          "hovermode": "closest",
          "mapbox": {
           "style": "dark"
          },
          "paper_bgcolor": "rgb(17,17,17)",
          "plot_bgcolor": "rgb(17,17,17)",
          "polar": {
           "angularaxis": {
            "gridcolor": "#506784",
            "linecolor": "#506784",
            "ticks": ""
           },
           "bgcolor": "rgb(17,17,17)",
           "radialaxis": {
            "gridcolor": "#506784",
            "linecolor": "#506784",
            "ticks": ""
           }
          },
          "scene": {
           "xaxis": {
            "backgroundcolor": "rgb(17,17,17)",
            "gridcolor": "#506784",
            "gridwidth": 2,
            "linecolor": "#506784",
            "showbackground": true,
            "ticks": "",
            "zerolinecolor": "#C8D4E3"
           },
           "yaxis": {
            "backgroundcolor": "rgb(17,17,17)",
            "gridcolor": "#506784",
            "gridwidth": 2,
            "linecolor": "#506784",
            "showbackground": true,
            "ticks": "",
            "zerolinecolor": "#C8D4E3"
           },
           "zaxis": {
            "backgroundcolor": "rgb(17,17,17)",
            "gridcolor": "#506784",
            "gridwidth": 2,
            "linecolor": "#506784",
            "showbackground": true,
            "ticks": "",
            "zerolinecolor": "#C8D4E3"
           }
          },
          "shapedefaults": {
           "line": {
            "color": "#f2f5fa"
           }
          },
          "sliderdefaults": {
           "bgcolor": "#C8D4E3",
           "bordercolor": "rgb(17,17,17)",
           "borderwidth": 1,
           "tickwidth": 0
          },
          "ternary": {
           "aaxis": {
            "gridcolor": "#506784",
            "linecolor": "#506784",
            "ticks": ""
           },
           "baxis": {
            "gridcolor": "#506784",
            "linecolor": "#506784",
            "ticks": ""
           },
           "bgcolor": "rgb(17,17,17)",
           "caxis": {
            "gridcolor": "#506784",
            "linecolor": "#506784",
            "ticks": ""
           }
          },
          "title": {
           "x": 0.05
          },
          "updatemenudefaults": {
           "bgcolor": "#506784",
           "borderwidth": 0
          },
          "xaxis": {
           "automargin": true,
           "gridcolor": "#283442",
           "linecolor": "#506784",
           "ticks": "",
           "title": {
            "standoff": 15
           },
           "zerolinecolor": "#283442",
           "zerolinewidth": 2
          },
          "yaxis": {
           "automargin": true,
           "gridcolor": "#283442",
           "linecolor": "#506784",
           "ticks": "",
           "title": {
            "standoff": 15
           },
           "zerolinecolor": "#283442",
           "zerolinewidth": 2
          }
         }
        },
        "title": {
         "text": "Optimization History Plot"
        },
        "xaxis": {
         "title": {
          "text": "Trial"
         }
        },
        "yaxis": {
         "title": {
          "text": "Objective Value"
         }
        }
       }
      }
     },
     "metadata": {},
     "output_type": "display_data"
    }
   ],
   "source": [
    "fig = plot_optimization_history(study_rf)\n",
    "fig.show()"
   ]
  },
  {
   "cell_type": "code",
   "execution_count": 9,
   "id": "e8c63669",
   "metadata": {},
   "outputs": [
    {
     "name": "stdout",
     "output_type": "stream",
     "text": [
      "Best RMSE : 0.6054999892289274\n"
     ]
    }
   ],
   "source": [
    "print(\"Best RMSE :\", study_rf.best_value)"
   ]
  },
  {
   "cell_type": "code",
   "execution_count": 10,
   "id": "9c9f87f6",
   "metadata": {},
   "outputs": [
    {
     "data": {
      "text/plain": [
       "{'n_estimators': 400,\n",
       " 'cap_depth': True,\n",
       " 'max_depth': 11,\n",
       " 'min_samples_split': 20,\n",
       " 'min_samples_leaf': 5,\n",
       " 'max_features': 17,\n",
       " 'bootstrap': True,\n",
       " 'max_samples': 0.7,\n",
       " 'criterion': 'squared_error',\n",
       " 'ccp_alpha': 1.4759234188486626e-06,\n",
       " 'oob_score': True}"
      ]
     },
     "execution_count": 10,
     "metadata": {},
     "output_type": "execute_result"
    }
   ],
   "source": [
    "study_rf.best_params"
   ]
  },
  {
   "cell_type": "code",
   "execution_count": 11,
   "id": "cf58a92a",
   "metadata": {},
   "outputs": [
    {
     "name": "stdout",
     "output_type": "stream",
     "text": [
      "Params saved to src\\bagging_boosting_stacking_study\\configs\\california_housing_rf.yaml\n"
     ]
    },
    {
     "data": {
      "text/plain": [
       "WindowsPath('C:/code/repos/bagging-boosting-stacking-study/src/bagging_boosting_stacking_study/configs/california_housing_rf.yaml')"
      ]
     },
     "execution_count": 11,
     "metadata": {},
     "output_type": "execute_result"
    }
   ],
   "source": [
    "# Save best params to .yaml\n",
    "save_params(DATASET_NAME, \"rf\", study_rf.best_value, study_rf.best_params)"
   ]
  },
  {
   "cell_type": "code",
   "execution_count": 12,
   "id": "e6a77f55",
   "metadata": {},
   "outputs": [
    {
     "data": {
      "text/html": [
       "<style>#sk-container-id-1 {\n",
       "  /* Definition of color scheme common for light and dark mode */\n",
       "  --sklearn-color-text: #000;\n",
       "  --sklearn-color-text-muted: #666;\n",
       "  --sklearn-color-line: gray;\n",
       "  /* Definition of color scheme for unfitted estimators */\n",
       "  --sklearn-color-unfitted-level-0: #fff5e6;\n",
       "  --sklearn-color-unfitted-level-1: #f6e4d2;\n",
       "  --sklearn-color-unfitted-level-2: #ffe0b3;\n",
       "  --sklearn-color-unfitted-level-3: chocolate;\n",
       "  /* Definition of color scheme for fitted estimators */\n",
       "  --sklearn-color-fitted-level-0: #f0f8ff;\n",
       "  --sklearn-color-fitted-level-1: #d4ebff;\n",
       "  --sklearn-color-fitted-level-2: #b3dbfd;\n",
       "  --sklearn-color-fitted-level-3: cornflowerblue;\n",
       "\n",
       "  /* Specific color for light theme */\n",
       "  --sklearn-color-text-on-default-background: var(--sg-text-color, var(--theme-code-foreground, var(--jp-content-font-color1, black)));\n",
       "  --sklearn-color-background: var(--sg-background-color, var(--theme-background, var(--jp-layout-color0, white)));\n",
       "  --sklearn-color-border-box: var(--sg-text-color, var(--theme-code-foreground, var(--jp-content-font-color1, black)));\n",
       "  --sklearn-color-icon: #696969;\n",
       "\n",
       "  @media (prefers-color-scheme: dark) {\n",
       "    /* Redefinition of color scheme for dark theme */\n",
       "    --sklearn-color-text-on-default-background: var(--sg-text-color, var(--theme-code-foreground, var(--jp-content-font-color1, white)));\n",
       "    --sklearn-color-background: var(--sg-background-color, var(--theme-background, var(--jp-layout-color0, #111)));\n",
       "    --sklearn-color-border-box: var(--sg-text-color, var(--theme-code-foreground, var(--jp-content-font-color1, white)));\n",
       "    --sklearn-color-icon: #878787;\n",
       "  }\n",
       "}\n",
       "\n",
       "#sk-container-id-1 {\n",
       "  color: var(--sklearn-color-text);\n",
       "}\n",
       "\n",
       "#sk-container-id-1 pre {\n",
       "  padding: 0;\n",
       "}\n",
       "\n",
       "#sk-container-id-1 input.sk-hidden--visually {\n",
       "  border: 0;\n",
       "  clip: rect(1px 1px 1px 1px);\n",
       "  clip: rect(1px, 1px, 1px, 1px);\n",
       "  height: 1px;\n",
       "  margin: -1px;\n",
       "  overflow: hidden;\n",
       "  padding: 0;\n",
       "  position: absolute;\n",
       "  width: 1px;\n",
       "}\n",
       "\n",
       "#sk-container-id-1 div.sk-dashed-wrapped {\n",
       "  border: 1px dashed var(--sklearn-color-line);\n",
       "  margin: 0 0.4em 0.5em 0.4em;\n",
       "  box-sizing: border-box;\n",
       "  padding-bottom: 0.4em;\n",
       "  background-color: var(--sklearn-color-background);\n",
       "}\n",
       "\n",
       "#sk-container-id-1 div.sk-container {\n",
       "  /* jupyter's `normalize.less` sets `[hidden] { display: none; }`\n",
       "     but bootstrap.min.css set `[hidden] { display: none !important; }`\n",
       "     so we also need the `!important` here to be able to override the\n",
       "     default hidden behavior on the sphinx rendered scikit-learn.org.\n",
       "     See: https://github.com/scikit-learn/scikit-learn/issues/21755 */\n",
       "  display: inline-block !important;\n",
       "  position: relative;\n",
       "}\n",
       "\n",
       "#sk-container-id-1 div.sk-text-repr-fallback {\n",
       "  display: none;\n",
       "}\n",
       "\n",
       "div.sk-parallel-item,\n",
       "div.sk-serial,\n",
       "div.sk-item {\n",
       "  /* draw centered vertical line to link estimators */\n",
       "  background-image: linear-gradient(var(--sklearn-color-text-on-default-background), var(--sklearn-color-text-on-default-background));\n",
       "  background-size: 2px 100%;\n",
       "  background-repeat: no-repeat;\n",
       "  background-position: center center;\n",
       "}\n",
       "\n",
       "/* Parallel-specific style estimator block */\n",
       "\n",
       "#sk-container-id-1 div.sk-parallel-item::after {\n",
       "  content: \"\";\n",
       "  width: 100%;\n",
       "  border-bottom: 2px solid var(--sklearn-color-text-on-default-background);\n",
       "  flex-grow: 1;\n",
       "}\n",
       "\n",
       "#sk-container-id-1 div.sk-parallel {\n",
       "  display: flex;\n",
       "  align-items: stretch;\n",
       "  justify-content: center;\n",
       "  background-color: var(--sklearn-color-background);\n",
       "  position: relative;\n",
       "}\n",
       "\n",
       "#sk-container-id-1 div.sk-parallel-item {\n",
       "  display: flex;\n",
       "  flex-direction: column;\n",
       "}\n",
       "\n",
       "#sk-container-id-1 div.sk-parallel-item:first-child::after {\n",
       "  align-self: flex-end;\n",
       "  width: 50%;\n",
       "}\n",
       "\n",
       "#sk-container-id-1 div.sk-parallel-item:last-child::after {\n",
       "  align-self: flex-start;\n",
       "  width: 50%;\n",
       "}\n",
       "\n",
       "#sk-container-id-1 div.sk-parallel-item:only-child::after {\n",
       "  width: 0;\n",
       "}\n",
       "\n",
       "/* Serial-specific style estimator block */\n",
       "\n",
       "#sk-container-id-1 div.sk-serial {\n",
       "  display: flex;\n",
       "  flex-direction: column;\n",
       "  align-items: center;\n",
       "  background-color: var(--sklearn-color-background);\n",
       "  padding-right: 1em;\n",
       "  padding-left: 1em;\n",
       "}\n",
       "\n",
       "\n",
       "/* Toggleable style: style used for estimator/Pipeline/ColumnTransformer box that is\n",
       "clickable and can be expanded/collapsed.\n",
       "- Pipeline and ColumnTransformer use this feature and define the default style\n",
       "- Estimators will overwrite some part of the style using the `sk-estimator` class\n",
       "*/\n",
       "\n",
       "/* Pipeline and ColumnTransformer style (default) */\n",
       "\n",
       "#sk-container-id-1 div.sk-toggleable {\n",
       "  /* Default theme specific background. It is overwritten whether we have a\n",
       "  specific estimator or a Pipeline/ColumnTransformer */\n",
       "  background-color: var(--sklearn-color-background);\n",
       "}\n",
       "\n",
       "/* Toggleable label */\n",
       "#sk-container-id-1 label.sk-toggleable__label {\n",
       "  cursor: pointer;\n",
       "  display: flex;\n",
       "  width: 100%;\n",
       "  margin-bottom: 0;\n",
       "  padding: 0.5em;\n",
       "  box-sizing: border-box;\n",
       "  text-align: center;\n",
       "  align-items: start;\n",
       "  justify-content: space-between;\n",
       "  gap: 0.5em;\n",
       "}\n",
       "\n",
       "#sk-container-id-1 label.sk-toggleable__label .caption {\n",
       "  font-size: 0.6rem;\n",
       "  font-weight: lighter;\n",
       "  color: var(--sklearn-color-text-muted);\n",
       "}\n",
       "\n",
       "#sk-container-id-1 label.sk-toggleable__label-arrow:before {\n",
       "  /* Arrow on the left of the label */\n",
       "  content: \"▸\";\n",
       "  float: left;\n",
       "  margin-right: 0.25em;\n",
       "  color: var(--sklearn-color-icon);\n",
       "}\n",
       "\n",
       "#sk-container-id-1 label.sk-toggleable__label-arrow:hover:before {\n",
       "  color: var(--sklearn-color-text);\n",
       "}\n",
       "\n",
       "/* Toggleable content - dropdown */\n",
       "\n",
       "#sk-container-id-1 div.sk-toggleable__content {\n",
       "  max-height: 0;\n",
       "  max-width: 0;\n",
       "  overflow: hidden;\n",
       "  text-align: left;\n",
       "  /* unfitted */\n",
       "  background-color: var(--sklearn-color-unfitted-level-0);\n",
       "}\n",
       "\n",
       "#sk-container-id-1 div.sk-toggleable__content.fitted {\n",
       "  /* fitted */\n",
       "  background-color: var(--sklearn-color-fitted-level-0);\n",
       "}\n",
       "\n",
       "#sk-container-id-1 div.sk-toggleable__content pre {\n",
       "  margin: 0.2em;\n",
       "  border-radius: 0.25em;\n",
       "  color: var(--sklearn-color-text);\n",
       "  /* unfitted */\n",
       "  background-color: var(--sklearn-color-unfitted-level-0);\n",
       "}\n",
       "\n",
       "#sk-container-id-1 div.sk-toggleable__content.fitted pre {\n",
       "  /* unfitted */\n",
       "  background-color: var(--sklearn-color-fitted-level-0);\n",
       "}\n",
       "\n",
       "#sk-container-id-1 input.sk-toggleable__control:checked~div.sk-toggleable__content {\n",
       "  /* Expand drop-down */\n",
       "  max-height: 200px;\n",
       "  max-width: 100%;\n",
       "  overflow: auto;\n",
       "}\n",
       "\n",
       "#sk-container-id-1 input.sk-toggleable__control:checked~label.sk-toggleable__label-arrow:before {\n",
       "  content: \"▾\";\n",
       "}\n",
       "\n",
       "/* Pipeline/ColumnTransformer-specific style */\n",
       "\n",
       "#sk-container-id-1 div.sk-label input.sk-toggleable__control:checked~label.sk-toggleable__label {\n",
       "  color: var(--sklearn-color-text);\n",
       "  background-color: var(--sklearn-color-unfitted-level-2);\n",
       "}\n",
       "\n",
       "#sk-container-id-1 div.sk-label.fitted input.sk-toggleable__control:checked~label.sk-toggleable__label {\n",
       "  background-color: var(--sklearn-color-fitted-level-2);\n",
       "}\n",
       "\n",
       "/* Estimator-specific style */\n",
       "\n",
       "/* Colorize estimator box */\n",
       "#sk-container-id-1 div.sk-estimator input.sk-toggleable__control:checked~label.sk-toggleable__label {\n",
       "  /* unfitted */\n",
       "  background-color: var(--sklearn-color-unfitted-level-2);\n",
       "}\n",
       "\n",
       "#sk-container-id-1 div.sk-estimator.fitted input.sk-toggleable__control:checked~label.sk-toggleable__label {\n",
       "  /* fitted */\n",
       "  background-color: var(--sklearn-color-fitted-level-2);\n",
       "}\n",
       "\n",
       "#sk-container-id-1 div.sk-label label.sk-toggleable__label,\n",
       "#sk-container-id-1 div.sk-label label {\n",
       "  /* The background is the default theme color */\n",
       "  color: var(--sklearn-color-text-on-default-background);\n",
       "}\n",
       "\n",
       "/* On hover, darken the color of the background */\n",
       "#sk-container-id-1 div.sk-label:hover label.sk-toggleable__label {\n",
       "  color: var(--sklearn-color-text);\n",
       "  background-color: var(--sklearn-color-unfitted-level-2);\n",
       "}\n",
       "\n",
       "/* Label box, darken color on hover, fitted */\n",
       "#sk-container-id-1 div.sk-label.fitted:hover label.sk-toggleable__label.fitted {\n",
       "  color: var(--sklearn-color-text);\n",
       "  background-color: var(--sklearn-color-fitted-level-2);\n",
       "}\n",
       "\n",
       "/* Estimator label */\n",
       "\n",
       "#sk-container-id-1 div.sk-label label {\n",
       "  font-family: monospace;\n",
       "  font-weight: bold;\n",
       "  display: inline-block;\n",
       "  line-height: 1.2em;\n",
       "}\n",
       "\n",
       "#sk-container-id-1 div.sk-label-container {\n",
       "  text-align: center;\n",
       "}\n",
       "\n",
       "/* Estimator-specific */\n",
       "#sk-container-id-1 div.sk-estimator {\n",
       "  font-family: monospace;\n",
       "  border: 1px dotted var(--sklearn-color-border-box);\n",
       "  border-radius: 0.25em;\n",
       "  box-sizing: border-box;\n",
       "  margin-bottom: 0.5em;\n",
       "  /* unfitted */\n",
       "  background-color: var(--sklearn-color-unfitted-level-0);\n",
       "}\n",
       "\n",
       "#sk-container-id-1 div.sk-estimator.fitted {\n",
       "  /* fitted */\n",
       "  background-color: var(--sklearn-color-fitted-level-0);\n",
       "}\n",
       "\n",
       "/* on hover */\n",
       "#sk-container-id-1 div.sk-estimator:hover {\n",
       "  /* unfitted */\n",
       "  background-color: var(--sklearn-color-unfitted-level-2);\n",
       "}\n",
       "\n",
       "#sk-container-id-1 div.sk-estimator.fitted:hover {\n",
       "  /* fitted */\n",
       "  background-color: var(--sklearn-color-fitted-level-2);\n",
       "}\n",
       "\n",
       "/* Specification for estimator info (e.g. \"i\" and \"?\") */\n",
       "\n",
       "/* Common style for \"i\" and \"?\" */\n",
       "\n",
       ".sk-estimator-doc-link,\n",
       "a:link.sk-estimator-doc-link,\n",
       "a:visited.sk-estimator-doc-link {\n",
       "  float: right;\n",
       "  font-size: smaller;\n",
       "  line-height: 1em;\n",
       "  font-family: monospace;\n",
       "  background-color: var(--sklearn-color-background);\n",
       "  border-radius: 1em;\n",
       "  height: 1em;\n",
       "  width: 1em;\n",
       "  text-decoration: none !important;\n",
       "  margin-left: 0.5em;\n",
       "  text-align: center;\n",
       "  /* unfitted */\n",
       "  border: var(--sklearn-color-unfitted-level-1) 1pt solid;\n",
       "  color: var(--sklearn-color-unfitted-level-1);\n",
       "}\n",
       "\n",
       ".sk-estimator-doc-link.fitted,\n",
       "a:link.sk-estimator-doc-link.fitted,\n",
       "a:visited.sk-estimator-doc-link.fitted {\n",
       "  /* fitted */\n",
       "  border: var(--sklearn-color-fitted-level-1) 1pt solid;\n",
       "  color: var(--sklearn-color-fitted-level-1);\n",
       "}\n",
       "\n",
       "/* On hover */\n",
       "div.sk-estimator:hover .sk-estimator-doc-link:hover,\n",
       ".sk-estimator-doc-link:hover,\n",
       "div.sk-label-container:hover .sk-estimator-doc-link:hover,\n",
       ".sk-estimator-doc-link:hover {\n",
       "  /* unfitted */\n",
       "  background-color: var(--sklearn-color-unfitted-level-3);\n",
       "  color: var(--sklearn-color-background);\n",
       "  text-decoration: none;\n",
       "}\n",
       "\n",
       "div.sk-estimator.fitted:hover .sk-estimator-doc-link.fitted:hover,\n",
       ".sk-estimator-doc-link.fitted:hover,\n",
       "div.sk-label-container:hover .sk-estimator-doc-link.fitted:hover,\n",
       ".sk-estimator-doc-link.fitted:hover {\n",
       "  /* fitted */\n",
       "  background-color: var(--sklearn-color-fitted-level-3);\n",
       "  color: var(--sklearn-color-background);\n",
       "  text-decoration: none;\n",
       "}\n",
       "\n",
       "/* Span, style for the box shown on hovering the info icon */\n",
       ".sk-estimator-doc-link span {\n",
       "  display: none;\n",
       "  z-index: 9999;\n",
       "  position: relative;\n",
       "  font-weight: normal;\n",
       "  right: .2ex;\n",
       "  padding: .5ex;\n",
       "  margin: .5ex;\n",
       "  width: min-content;\n",
       "  min-width: 20ex;\n",
       "  max-width: 50ex;\n",
       "  color: var(--sklearn-color-text);\n",
       "  box-shadow: 2pt 2pt 4pt #999;\n",
       "  /* unfitted */\n",
       "  background: var(--sklearn-color-unfitted-level-0);\n",
       "  border: .5pt solid var(--sklearn-color-unfitted-level-3);\n",
       "}\n",
       "\n",
       ".sk-estimator-doc-link.fitted span {\n",
       "  /* fitted */\n",
       "  background: var(--sklearn-color-fitted-level-0);\n",
       "  border: var(--sklearn-color-fitted-level-3);\n",
       "}\n",
       "\n",
       ".sk-estimator-doc-link:hover span {\n",
       "  display: block;\n",
       "}\n",
       "\n",
       "/* \"?\"-specific style due to the `<a>` HTML tag */\n",
       "\n",
       "#sk-container-id-1 a.estimator_doc_link {\n",
       "  float: right;\n",
       "  font-size: 1rem;\n",
       "  line-height: 1em;\n",
       "  font-family: monospace;\n",
       "  background-color: var(--sklearn-color-background);\n",
       "  border-radius: 1rem;\n",
       "  height: 1rem;\n",
       "  width: 1rem;\n",
       "  text-decoration: none;\n",
       "  /* unfitted */\n",
       "  color: var(--sklearn-color-unfitted-level-1);\n",
       "  border: var(--sklearn-color-unfitted-level-1) 1pt solid;\n",
       "}\n",
       "\n",
       "#sk-container-id-1 a.estimator_doc_link.fitted {\n",
       "  /* fitted */\n",
       "  border: var(--sklearn-color-fitted-level-1) 1pt solid;\n",
       "  color: var(--sklearn-color-fitted-level-1);\n",
       "}\n",
       "\n",
       "/* On hover */\n",
       "#sk-container-id-1 a.estimator_doc_link:hover {\n",
       "  /* unfitted */\n",
       "  background-color: var(--sklearn-color-unfitted-level-3);\n",
       "  color: var(--sklearn-color-background);\n",
       "  text-decoration: none;\n",
       "}\n",
       "\n",
       "#sk-container-id-1 a.estimator_doc_link.fitted:hover {\n",
       "  /* fitted */\n",
       "  background-color: var(--sklearn-color-fitted-level-3);\n",
       "}\n",
       "</style><div id=\"sk-container-id-1\" class=\"sk-top-container\"><div class=\"sk-text-repr-fallback\"><pre>RandomForestRegressor(ccp_alpha=1.4759234188486626e-06, max_depth=11,\n",
       "                      max_features=17, max_samples=0.7, min_samples_leaf=5,\n",
       "                      min_samples_split=20, n_estimators=400, n_jobs=-1,\n",
       "                      oob_score=True, random_state=333)</pre><b>In a Jupyter environment, please rerun this cell to show the HTML representation or trust the notebook. <br />On GitHub, the HTML representation is unable to render, please try loading this page with nbviewer.org.</b></div><div class=\"sk-container\" hidden><div class=\"sk-item\"><div class=\"sk-estimator fitted sk-toggleable\"><input class=\"sk-toggleable__control sk-hidden--visually\" id=\"sk-estimator-id-1\" type=\"checkbox\" checked><label for=\"sk-estimator-id-1\" class=\"sk-toggleable__label fitted sk-toggleable__label-arrow\"><div><div>RandomForestRegressor</div></div><div><a class=\"sk-estimator-doc-link fitted\" rel=\"noreferrer\" target=\"_blank\" href=\"https://scikit-learn.org/1.6/modules/generated/sklearn.ensemble.RandomForestRegressor.html\">?<span>Documentation for RandomForestRegressor</span></a><span class=\"sk-estimator-doc-link fitted\">i<span>Fitted</span></span></div></label><div class=\"sk-toggleable__content fitted\"><pre>RandomForestRegressor(ccp_alpha=1.4759234188486626e-06, max_depth=11,\n",
       "                      max_features=17, max_samples=0.7, min_samples_leaf=5,\n",
       "                      min_samples_split=20, n_estimators=400, n_jobs=-1,\n",
       "                      oob_score=True, random_state=333)</pre></div> </div></div></div></div>"
      ],
      "text/plain": [
       "RandomForestRegressor(ccp_alpha=1.4759234188486626e-06, max_depth=11,\n",
       "                      max_features=17, max_samples=0.7, min_samples_leaf=5,\n",
       "                      min_samples_split=20, n_estimators=400, n_jobs=-1,\n",
       "                      oob_score=True, random_state=333)"
      ]
     },
     "execution_count": 12,
     "metadata": {},
     "output_type": "execute_result"
    }
   ],
   "source": [
    "best_rf_params = study_rf.best_params.copy()\n",
    "\n",
    "cap_flag = best_rf_params.pop(\"cap_depth\")  # True / False\n",
    "max_depth = best_rf_params.pop(\"max_depth\", None)  # may be absent\n",
    "best_rf_params[\"max_depth\"] = max_depth if cap_flag else None\n",
    "\n",
    "best_rf_params.update(\n",
    "    {\n",
    "        \"random_state\": SEED,\n",
    "        \"n_jobs\": -1,\n",
    "    }\n",
    ")\n",
    "\n",
    "if not best_rf_params.get(\"bootstrap\", False):\n",
    "    best_rf_params[\"max_samples\"] = None\n",
    "    best_rf_params[\"oob_score\"] = False  # safer to specify explicitly\n",
    "\n",
    "# allowed = RandomForestRegressor().get_params().keys()\n",
    "# best_rf_params = {k: v for k, v in best_rf_params.items() if k in allowed}\n",
    "\n",
    "rf_final = RandomForestRegressor(**best_rf_params)\n",
    "rf_final.fit(train_df.drop(columns=\"target\"), train_df[\"target\"])"
   ]
  },
  {
   "cell_type": "markdown",
   "id": "d347ac00",
   "metadata": {},
   "source": [
    "## Boosting"
   ]
  },
  {
   "cell_type": "code",
   "execution_count": 13,
   "id": "f0e548ff",
   "metadata": {},
   "outputs": [
    {
     "name": "stderr",
     "output_type": "stream",
     "text": [
      "[I 2025-05-26 20:25:40,211] A new study created in memory with name: XGB_california_housing\n"
     ]
    },
    {
     "data": {
      "application/vnd.jupyter.widget-view+json": {
       "model_id": "2e56648342dd4cc591a22cf70e2d56f1",
       "version_major": 2,
       "version_minor": 0
      },
      "text/plain": [
       "  0%|          | 0/200 [00:00<?, ?it/s]"
      ]
     },
     "metadata": {},
     "output_type": "display_data"
    },
    {
     "name": "stdout",
     "output_type": "stream",
     "text": [
      "[I 2025-05-26 20:25:44,490] Trial 0 finished with value: 0.5655291441232226 and parameters: {'n_estimators': 1200, 'learning_rate': 0.119329717868809, 'grow_policy': 'lossguide', 'max_leaves': 96, 'min_child_weight': 0.5975240288011816, 'subsample': 0.6, 'colsample_bytree': 0.6, 'reg_lambda': 0.014227965841598801, 'reg_alpha': 13.102340316882163, 'gamma': 0.2580581965137452, 'max_delta_step': 0}. Best is trial 0 with value: 0.5655291441232226.\n",
      "[I 2025-05-26 20:25:49,057] Trial 1 finished with value: 0.5730565937028201 and parameters: {'n_estimators': 600, 'learning_rate': 0.019993480767036637, 'grow_policy': 'lossguide', 'max_leaves': 256, 'min_child_weight': 2.7989574433276676, 'subsample': 1.0, 'colsample_bytree': 1.0, 'reg_lambda': 2.587870367125735, 'reg_alpha': 7.2634301181348695, 'gamma': 0.634305168972219, 'max_delta_step': 0}. Best is trial 0 with value: 0.5655291441232226.\n",
      "[I 2025-05-26 20:25:51,598] Trial 2 finished with value: 0.5872328561676201 and parameters: {'n_estimators': 200, 'learning_rate': 0.022940933563126067, 'grow_policy': 'lossguide', 'max_leaves': 64, 'min_child_weight': 12.96312715947909, 'subsample': 0.7, 'colsample_bytree': 0.6, 'reg_lambda': 0.6063721326549856, 'reg_alpha': 10.623929076793537, 'gamma': 0.6514466912817168, 'max_delta_step': 0}. Best is trial 0 with value: 0.5655291441232226.\n",
      "[I 2025-05-26 20:25:53,060] Trial 3 finished with value: 0.6010757847636563 and parameters: {'n_estimators': 200, 'learning_rate': 0.06936004347168556, 'grow_policy': 'depthwise', 'max_depth': 5, 'min_child_weight': 1.8031622578774262, 'subsample': 1.0, 'colsample_bytree': 1.0, 'reg_lambda': 38.768626691607075, 'reg_alpha': 0.641326561131782, 'gamma': 4.040090974817632, 'max_delta_step': 5}. Best is trial 0 with value: 0.5655291441232226.\n",
      "[I 2025-05-26 20:25:54,821] Trial 4 finished with value: 0.5788103578815518 and parameters: {'n_estimators': 1200, 'learning_rate': 0.11392346578109518, 'grow_policy': 'lossguide', 'max_leaves': 160, 'min_child_weight': 3.939645714507152, 'subsample': 0.6, 'colsample_bytree': 0.7, 'reg_lambda': 0.007157596830262309, 'reg_alpha': 9.260894154209828, 'gamma': 1.4396886527024906, 'max_delta_step': 0}. Best is trial 0 with value: 0.5655291441232226.\n",
      "[I 2025-05-26 20:25:57,352] Trial 5 finished with value: 0.566491360884835 and parameters: {'n_estimators': 800, 'learning_rate': 0.01835253306946826, 'grow_policy': 'depthwise', 'max_depth': 7, 'min_child_weight': 1.2338241176172087, 'subsample': 0.9, 'colsample_bytree': 0.6, 'reg_lambda': 0.03152981553089531, 'reg_alpha': 11.664391990706113, 'gamma': 0.3219817106695194, 'max_delta_step': 5}. Best is trial 0 with value: 0.5655291441232226.\n",
      "[I 2025-05-26 20:25:58,198] Trial 6 finished with value: 0.5854755620840237 and parameters: {'n_estimators': 200, 'learning_rate': 0.13467185268168086, 'grow_policy': 'lossguide', 'max_leaves': 160, 'min_child_weight': 3.9209396394495513, 'subsample': 0.9, 'colsample_bytree': 0.9, 'reg_lambda': 0.0020881364649119718, 'reg_alpha': 8.878625101268154, 'gamma': 3.4990560102404844, 'max_delta_step': 3}. Best is trial 0 with value: 0.5655291441232226.\n",
      "[I 2025-05-26 20:26:00,995] Trial 7 finished with value: 0.5744862233510449 and parameters: {'n_estimators': 1600, 'learning_rate': 0.018839086076321263, 'grow_policy': 'lossguide', 'max_leaves': 64, 'min_child_weight': 8.43378420854537, 'subsample': 0.8, 'colsample_bytree': 1.0, 'reg_lambda': 0.09954048841949455, 'reg_alpha': 7.774131046473081, 'gamma': 2.305409112684598, 'max_delta_step': 2}. Best is trial 0 with value: 0.5655291441232226.\n",
      "[I 2025-05-26 20:26:01,631] Trial 8 finished with value: 0.5748100694626045 and parameters: {'n_estimators': 400, 'learning_rate': 0.1354435735036224, 'grow_policy': 'depthwise', 'max_depth': 12, 'min_child_weight': 1.0276284184356654, 'subsample': 1.0, 'colsample_bytree': 0.7, 'reg_lambda': 0.0026018588561696836, 'reg_alpha': 12.52003600388001, 'gamma': 0.4839514478864748, 'max_delta_step': 0}. Best is trial 0 with value: 0.5655291441232226.\n",
      "[I 2025-05-26 20:26:03,335] Trial 9 finished with value: 0.5912339281403822 and parameters: {'n_estimators': 1400, 'learning_rate': 0.23347066566999602, 'grow_policy': 'lossguide', 'max_leaves': 160, 'min_child_weight': 11.361577878074748, 'subsample': 0.6, 'colsample_bytree': 0.6, 'reg_lambda': 5.221089563224953, 'reg_alpha': 1.7876349923606927, 'gamma': 4.510040317658957, 'max_delta_step': 4}. Best is trial 0 with value: 0.5655291441232226.\n",
      "[I 2025-05-26 20:26:05,962] Trial 10 finished with value: 0.5815210772420848 and parameters: {'n_estimators': 2000, 'learning_rate': 0.04514957855386532, 'grow_policy': 'depthwise', 'max_depth': 12, 'min_child_weight': 0.5008022622857975, 'subsample': 0.7, 'colsample_bytree': 0.8, 'reg_lambda': 0.045246466655017865, 'reg_alpha': 14.67023664517902, 'gamma': 2.552757396097922, 'max_delta_step': 2}. Best is trial 0 with value: 0.5655291441232226.\n",
      "[I 2025-05-26 20:26:08,785] Trial 11 finished with value: 0.5762617751187853 and parameters: {'n_estimators': 800, 'learning_rate': 0.010331435477723475, 'grow_policy': 'depthwise', 'max_depth': 7, 'min_child_weight': 0.5341486840617798, 'subsample': 0.8, 'colsample_bytree': 0.6, 'reg_lambda': 0.018400046116792388, 'reg_alpha': 14.666724972818956, 'gamma': 0.01206774425646473, 'max_delta_step': 5}. Best is trial 0 with value: 0.5655291441232226.\n",
      "[I 2025-05-26 20:26:10,179] Trial 12 finished with value: 0.5976281377538049 and parameters: {'n_estimators': 1000, 'learning_rate': 0.044445886825740265, 'grow_policy': 'depthwise', 'max_depth': 3, 'min_child_weight': 1.0969156907308322, 'subsample': 0.9, 'colsample_bytree': 0.7, 'reg_lambda': 0.1510055210948969, 'reg_alpha': 12.25596336256176, 'gamma': 1.6399712833312858, 'max_delta_step': 3}. Best is trial 0 with value: 0.5655291441232226.\n",
      "[I 2025-05-26 20:26:11,416] Trial 13 finished with value: 0.5796984943060753 and parameters: {'n_estimators': 1000, 'learning_rate': 0.24650959928564387, 'grow_policy': 'depthwise', 'max_depth': 9, 'min_child_weight': 1.0773048479603293, 'subsample': 0.8, 'colsample_bytree': 0.8, 'reg_lambda': 0.015148256092808184, 'reg_alpha': 4.94831137703102, 'gamma': 1.2645412601280468, 'max_delta_step': 4}. Best is trial 0 with value: 0.5655291441232226.\n",
      "[I 2025-05-26 20:26:15,940] Trial 14 finished with value: 0.5662800154996438 and parameters: {'n_estimators': 1600, 'learning_rate': 0.010108359131361195, 'grow_policy': 'lossguide', 'max_leaves': 32, 'min_child_weight': 0.7630507120818336, 'subsample': 0.9, 'colsample_bytree': 0.6, 'reg_lambda': 0.5228717207042186, 'reg_alpha': 12.13638012402446, 'gamma': 0.04619276091553809, 'max_delta_step': 1}. Best is trial 0 with value: 0.5655291441232226.\n",
      "[I 2025-05-26 20:26:18,195] Trial 15 finished with value: 0.5833722909617473 and parameters: {'n_estimators': 1800, 'learning_rate': 0.0733792898008675, 'grow_policy': 'lossguide', 'max_leaves': 32, 'min_child_weight': 0.6902933165433132, 'subsample': 0.7, 'colsample_bytree': 0.7, 'reg_lambda': 0.7547916308228251, 'reg_alpha': 13.64727379024912, 'gamma': 2.573142828422933, 'max_delta_step': 1}. Best is trial 0 with value: 0.5655291441232226.\n",
      "[I 2025-05-26 20:26:20,657] Trial 16 finished with value: 0.5649942927780357 and parameters: {'n_estimators': 1400, 'learning_rate': 0.031916914688260495, 'grow_policy': 'lossguide', 'max_leaves': 96, 'min_child_weight': 1.8958272662960014, 'subsample': 0.6, 'colsample_bytree': 0.6, 'reg_lambda': 0.5585483223431508, 'reg_alpha': 4.969808410358216, 'gamma': 1.2558518553025082, 'max_delta_step': 1}. Best is trial 16 with value: 0.5649942927780357.\n",
      "[I 2025-05-26 20:26:23,462] Trial 17 finished with value: 0.5624596951360095 and parameters: {'n_estimators': 1400, 'learning_rate': 0.03360992903768696, 'grow_policy': 'lossguide', 'max_leaves': 96, 'min_child_weight': 2.073215371688266, 'subsample': 0.6, 'colsample_bytree': 0.9, 'reg_lambda': 3.8129825289556925, 'reg_alpha': 4.8138642040253075, 'gamma': 1.0397831159081972, 'max_delta_step': 1}. Best is trial 17 with value: 0.5624596951360095.\n",
      "[I 2025-05-26 20:26:25,785] Trial 18 finished with value: 0.5726474096785017 and parameters: {'n_estimators': 1400, 'learning_rate': 0.030741333330510694, 'grow_policy': 'lossguide', 'max_leaves': 96, 'min_child_weight': 2.374140564752623, 'subsample': 0.6, 'colsample_bytree': 0.9, 'reg_lambda': 10.924082939100572, 'reg_alpha': 4.103949773727445, 'gamma': 2.0442757230038353, 'max_delta_step': 1}. Best is trial 17 with value: 0.5624596951360095.\n",
      "[I 2025-05-26 20:26:29,285] Trial 19 finished with value: 0.5639963911121689 and parameters: {'n_estimators': 2000, 'learning_rate': 0.03185476024531667, 'grow_policy': 'lossguide', 'max_leaves': 128, 'min_child_weight': 6.862568343666284, 'subsample': 0.7, 'colsample_bytree': 0.9, 'reg_lambda': 1.3457090073548452, 'reg_alpha': 4.401506583635186, 'gamma': 1.1154030312169292, 'max_delta_step': 2}. Best is trial 17 with value: 0.5624596951360095.\n",
      "[I 2025-05-26 20:26:32,210] Trial 20 finished with value: 0.579133575275603 and parameters: {'n_estimators': 2000, 'learning_rate': 0.02930079317347797, 'grow_policy': 'lossguide', 'max_leaves': 192, 'min_child_weight': 5.953003104293377, 'subsample': 0.7, 'colsample_bytree': 0.9, 'reg_lambda': 1.9106026655328026, 'reg_alpha': 3.0051117918935093, 'gamma': 3.3381166658618895, 'max_delta_step': 2}. Best is trial 17 with value: 0.5624596951360095.\n",
      "[I 2025-05-26 20:26:35,478] Trial 21 finished with value: 0.5640202307465846 and parameters: {'n_estimators': 1800, 'learning_rate': 0.035717965136271936, 'grow_policy': 'lossguide', 'max_leaves': 96, 'min_child_weight': 18.389726665649004, 'subsample': 0.6, 'colsample_bytree': 0.9, 'reg_lambda': 16.129385872916277, 'reg_alpha': 5.781842833192971, 'gamma': 0.9697542372708768, 'max_delta_step': 1}. Best is trial 17 with value: 0.5624596951360095.\n",
      "[I 2025-05-26 20:26:38,481] Trial 22 finished with value: 0.565208581980961 and parameters: {'n_estimators': 1800, 'learning_rate': 0.052512877395930614, 'grow_policy': 'lossguide', 'max_leaves': 128, 'min_child_weight': 19.48495443138901, 'subsample': 0.7, 'colsample_bytree': 0.9, 'reg_lambda': 25.488152833849398, 'reg_alpha': 5.991645297524663, 'gamma': 0.9360875073816023, 'max_delta_step': 2}. Best is trial 17 with value: 0.5624596951360095.\n",
      "[I 2025-05-26 20:26:41,925] Trial 23 finished with value: 0.571276945091415 and parameters: {'n_estimators': 1800, 'learning_rate': 0.014781163899073893, 'grow_policy': 'lossguide', 'max_leaves': 128, 'min_child_weight': 6.257273976771231, 'subsample': 0.6, 'colsample_bytree': 0.8, 'reg_lambda': 9.41262647611484, 'reg_alpha': 3.103502169294698, 'gamma': 1.8643379175674837, 'max_delta_step': 1}. Best is trial 17 with value: 0.5624596951360095.\n",
      "[I 2025-05-26 20:26:44,929] Trial 24 finished with value: 0.5647668784642903 and parameters: {'n_estimators': 2000, 'learning_rate': 0.035794362178706525, 'grow_policy': 'lossguide', 'max_leaves': 96, 'min_child_weight': 17.79840503583575, 'subsample': 0.7, 'colsample_bytree': 0.9, 'reg_lambda': 1.7962282269481493, 'reg_alpha': 6.271931914118296, 'gamma': 1.128494148754971, 'max_delta_step': 3}. Best is trial 17 with value: 0.5624596951360095.\n",
      "[I 2025-05-26 20:26:48,058] Trial 25 finished with value: 0.5616632900270455 and parameters: {'n_estimators': 1600, 'learning_rate': 0.06174065240381874, 'grow_policy': 'lossguide', 'max_leaves': 192, 'min_child_weight': 5.286834854567987, 'subsample': 0.6, 'colsample_bytree': 0.8, 'reg_lambda': 18.67064531837371, 'reg_alpha': 3.2112451396346233, 'gamma': 0.8541841979947544, 'max_delta_step': 1}. Best is trial 25 with value: 0.5616632900270455.\n",
      "[I 2025-05-26 20:26:50,853] Trial 26 finished with value: 0.5712509779927488 and parameters: {'n_estimators': 1600, 'learning_rate': 0.08224749362476588, 'grow_policy': 'lossguide', 'max_leaves': 224, 'min_child_weight': 5.426439017450765, 'subsample': 0.7, 'colsample_bytree': 0.8, 'reg_lambda': 4.166369340050011, 'reg_alpha': 0.17254659257409521, 'gamma': 1.7356834864224946, 'max_delta_step': 2}. Best is trial 25 with value: 0.5616632900270455.\n",
      "[I 2025-05-26 20:26:53,890] Trial 27 finished with value: 0.5613087335271276 and parameters: {'n_estimators': 1600, 'learning_rate': 0.052686989389324174, 'grow_policy': 'lossguide', 'max_leaves': 192, 'min_child_weight': 4.075088222336645, 'subsample': 0.6, 'colsample_bytree': 0.8, 'reg_lambda': 42.17996902729674, 'reg_alpha': 2.7623883748438836, 'gamma': 0.8190265707485903, 'max_delta_step': 1}. Best is trial 27 with value: 0.5613087335271276.\n",
      "[I 2025-05-26 20:26:57,212] Trial 28 finished with value: 0.560764003585481 and parameters: {'n_estimators': 1400, 'learning_rate': 0.06030255985114151, 'grow_policy': 'lossguide', 'max_leaves': 192, 'min_child_weight': 3.9883085451095432, 'subsample': 0.6, 'colsample_bytree': 0.8, 'reg_lambda': 48.74031150649121, 'reg_alpha': 1.9928293563208732, 'gamma': 0.6634602472007333, 'max_delta_step': 1}. Best is trial 28 with value: 0.560764003585481.\n",
      "[I 2025-05-26 20:26:58,740] Trial 29 finished with value: 0.5862292913355021 and parameters: {'n_estimators': 1200, 'learning_rate': 0.09296654346028385, 'grow_policy': 'lossguide', 'max_leaves': 224, 'min_child_weight': 4.029078896717611, 'subsample': 0.6, 'colsample_bytree': 0.8, 'reg_lambda': 30.48581855316637, 'reg_alpha': 2.1093457302528043, 'gamma': 2.845451682413999, 'max_delta_step': 0}. Best is trial 28 with value: 0.560764003585481.\n",
      "[I 2025-05-26 20:27:01,975] Trial 30 finished with value: 0.5618709572392075 and parameters: {'n_estimators': 1600, 'learning_rate': 0.058295622828457, 'grow_policy': 'lossguide', 'max_leaves': 192, 'min_child_weight': 3.185550558238025, 'subsample': 0.6, 'colsample_bytree': 0.7, 'reg_lambda': 42.51171057800718, 'reg_alpha': 2.3076285218144084, 'gamma': 0.7521296446843106, 'max_delta_step': 1}. Best is trial 28 with value: 0.560764003585481.\n",
      "[I 2025-05-26 20:27:05,465] Trial 31 finished with value: 0.5609426670144109 and parameters: {'n_estimators': 1600, 'learning_rate': 0.05891254411849682, 'grow_policy': 'lossguide', 'max_leaves': 192, 'min_child_weight': 3.170690439374006, 'subsample': 0.6, 'colsample_bytree': 0.7, 'reg_lambda': 43.120630340683725, 'reg_alpha': 1.1996520146514587, 'gamma': 0.5950516950311326, 'max_delta_step': 1}. Best is trial 28 with value: 0.560764003585481.\n",
      "[I 2025-05-26 20:27:09,129] Trial 32 finished with value: 0.5625022827586044 and parameters: {'n_estimators': 1200, 'learning_rate': 0.06109568011815574, 'grow_policy': 'lossguide', 'max_leaves': 192, 'min_child_weight': 4.783401713116387, 'subsample': 0.6, 'colsample_bytree': 0.8, 'reg_lambda': 15.966590324674373, 'reg_alpha': 1.2450612789088826, 'gamma': 0.3674968924942641, 'max_delta_step': 0}. Best is trial 28 with value: 0.560764003585481.\n",
      "[I 2025-05-26 20:27:12,229] Trial 33 finished with value: 0.5646138513398262 and parameters: {'n_estimators': 1600, 'learning_rate': 0.09832473237159992, 'grow_policy': 'lossguide', 'max_leaves': 224, 'min_child_weight': 3.214330836020256, 'subsample': 0.6, 'colsample_bytree': 0.7, 'reg_lambda': 7.491471779328118, 'reg_alpha': 3.444884171686999, 'gamma': 0.5770725781754723, 'max_delta_step': 0}. Best is trial 28 with value: 0.560764003585481.\n",
      "[I 2025-05-26 20:27:14,311] Trial 34 finished with value: 0.569798126216013 and parameters: {'n_estimators': 1400, 'learning_rate': 0.04903677766011238, 'grow_policy': 'lossguide', 'max_leaves': 192, 'min_child_weight': 8.233466145771068, 'subsample': 0.6, 'colsample_bytree': 0.8, 'reg_lambda': 47.10088532930132, 'reg_alpha': 1.1666240211977352, 'gamma': 1.4785305596572609, 'max_delta_step': 1}. Best is trial 28 with value: 0.560764003585481.\n",
      "[I 2025-05-26 20:27:17,850] Trial 35 finished with value: 0.5611724705018921 and parameters: {'n_estimators': 1800, 'learning_rate': 0.06603458644259512, 'grow_policy': 'lossguide', 'max_leaves': 256, 'min_child_weight': 2.6147772004997605, 'subsample': 0.7, 'colsample_bytree': 0.8, 'reg_lambda': 20.982574022456774, 'reg_alpha': 0.13065830270328593, 'gamma': 0.6993695924725004, 'max_delta_step': 0}. Best is trial 28 with value: 0.560764003585481.\n",
      "[I 2025-05-26 20:27:23,034] Trial 36 finished with value: 0.5652178106619401 and parameters: {'n_estimators': 1800, 'learning_rate': 0.07607801543955935, 'grow_policy': 'lossguide', 'max_leaves': 256, 'min_child_weight': 2.5127073591631737, 'subsample': 0.7, 'colsample_bytree': 0.7, 'reg_lambda': 49.943838856307885, 'reg_alpha': 0.19296537550032003, 'gamma': 0.23218828696655203, 'max_delta_step': 0}. Best is trial 28 with value: 0.560764003585481.\n",
      "[I 2025-05-26 20:27:25,423] Trial 37 finished with value: 0.5659008867484271 and parameters: {'n_estimators': 1200, 'learning_rate': 0.1681814141205318, 'grow_policy': 'lossguide', 'max_leaves': 224, 'min_child_weight': 1.4943894785713405, 'subsample': 0.7, 'colsample_bytree': 0.7, 'reg_lambda': 20.577159373689582, 'reg_alpha': 1.096374146831247, 'gamma': 0.6574991800694207, 'max_delta_step': 0}. Best is trial 28 with value: 0.560764003585481.\n",
      "[I 2025-05-26 20:27:32,269] Trial 38 finished with value: 0.5572343067590982 and parameters: {'n_estimators': 1800, 'learning_rate': 0.02442872819496302, 'grow_policy': 'lossguide', 'max_leaves': 256, 'min_child_weight': 2.8865314237216984, 'subsample': 0.8, 'colsample_bytree': 0.8, 'reg_lambda': 12.74178449770697, 'reg_alpha': 2.1685492007302565, 'gamma': 0.22115023810957352, 'max_delta_step': 0}. Best is trial 38 with value: 0.5572343067590982.\n",
      "[I 2025-05-26 20:27:37,368] Trial 39 finished with value: 0.5590293616963832 and parameters: {'n_estimators': 1800, 'learning_rate': 0.02160563914344155, 'grow_policy': 'lossguide', 'max_leaves': 256, 'min_child_weight': 1.5834855078601824, 'subsample': 0.8, 'colsample_bytree': 0.7, 'reg_lambda': 7.762886876158, 'reg_alpha': 1.521586054694171, 'gamma': 0.4823934552892655, 'max_delta_step': 0}. Best is trial 38 with value: 0.5572343067590982.\n",
      "[I 2025-05-26 20:27:43,623] Trial 40 finished with value: 0.55776121211707 and parameters: {'n_estimators': 2000, 'learning_rate': 0.02489345521830779, 'grow_policy': 'depthwise', 'max_depth': 10, 'min_child_weight': 1.4153349436800353, 'subsample': 0.8, 'colsample_bytree': 0.7, 'reg_lambda': 6.956275644713888, 'reg_alpha': 1.8925885533708298, 'gamma': 0.1364616912389729, 'max_delta_step': 0}. Best is trial 38 with value: 0.5572343067590982.\n",
      "[I 2025-05-26 20:27:48,405] Trial 41 finished with value: 0.557325039984849 and parameters: {'n_estimators': 2000, 'learning_rate': 0.024100000711808997, 'grow_policy': 'depthwise', 'max_depth': 10, 'min_child_weight': 1.5936464342881593, 'subsample': 0.8, 'colsample_bytree': 0.7, 'reg_lambda': 6.862292556315132, 'reg_alpha': 1.5917270261277998, 'gamma': 0.2649566914143925, 'max_delta_step': 0}. Best is trial 38 with value: 0.5572343067590982.\n",
      "[I 2025-05-26 20:27:53,269] Trial 42 finished with value: 0.557392536450324 and parameters: {'n_estimators': 2000, 'learning_rate': 0.02375874409896307, 'grow_policy': 'depthwise', 'max_depth': 10, 'min_child_weight': 1.3459144891065566, 'subsample': 0.8, 'colsample_bytree': 0.7, 'reg_lambda': 5.670226684928939, 'reg_alpha': 2.177432364894698, 'gamma': 0.23193088178887072, 'max_delta_step': 0}. Best is trial 38 with value: 0.5572343067590982.\n",
      "[I 2025-05-26 20:27:58,651] Trial 43 finished with value: 0.5562924266954341 and parameters: {'n_estimators': 2000, 'learning_rate': 0.020993198048595896, 'grow_policy': 'depthwise', 'max_depth': 10, 'min_child_weight': 1.4839216524338399, 'subsample': 0.8, 'colsample_bytree': 0.7, 'reg_lambda': 2.977092693486927, 'reg_alpha': 3.912506970917587, 'gamma': 0.20194342831470188, 'max_delta_step': 0}. Best is trial 43 with value: 0.5562924266954341.\n",
      "[I 2025-05-26 20:28:04,573] Trial 44 finished with value: 0.5570571202274166 and parameters: {'n_estimators': 2000, 'learning_rate': 0.01617315979942032, 'grow_policy': 'depthwise', 'max_depth': 10, 'min_child_weight': 1.3633096272541614, 'subsample': 0.8, 'colsample_bytree': 0.6, 'reg_lambda': 2.981718778685421, 'reg_alpha': 3.708817042851369, 'gamma': 0.20378491207363403, 'max_delta_step': 0}. Best is trial 43 with value: 0.5562924266954341.\n",
      "[I 2025-05-26 20:28:09,534] Trial 45 finished with value: 0.5591424745418612 and parameters: {'n_estimators': 2000, 'learning_rate': 0.014874044802891293, 'grow_policy': 'depthwise', 'max_depth': 10, 'min_child_weight': 0.8581852335057727, 'subsample': 0.8, 'colsample_bytree': 0.6, 'reg_lambda': 2.8726896423621677, 'reg_alpha': 7.69137774471533, 'gamma': 0.24522727054581614, 'max_delta_step': 0}. Best is trial 43 with value: 0.5562924266954341.\n",
      "[I 2025-05-26 20:28:22,967] Trial 46 finished with value: 0.5596835206624198 and parameters: {'n_estimators': 2000, 'learning_rate': 0.014654724250454575, 'grow_policy': 'depthwise', 'max_depth': 10, 'min_child_weight': 1.27306709301457, 'subsample': 0.8, 'colsample_bytree': 0.6, 'reg_lambda': 1.0994451283169326, 'reg_alpha': 4.0698490166276065, 'gamma': 0.003307097091527239, 'max_delta_step': 0}. Best is trial 43 with value: 0.5562924266954341.\n",
      "[I 2025-05-26 20:28:26,722] Trial 47 finished with value: 0.5599595015109692 and parameters: {'n_estimators': 2000, 'learning_rate': 0.0177843391262836, 'grow_policy': 'depthwise', 'max_depth': 9, 'min_child_weight': 1.7069473339535912, 'subsample': 0.9, 'colsample_bytree': 0.6, 'reg_lambda': 0.34015641303164285, 'reg_alpha': 3.5757897840141233, 'gamma': 0.3353231627964707, 'max_delta_step': 0}. Best is trial 43 with value: 0.5562924266954341.\n",
      "[I 2025-05-26 20:28:29,067] Trial 48 finished with value: 0.5936567929861021 and parameters: {'n_estimators': 2000, 'learning_rate': 0.025472490493296765, 'grow_policy': 'depthwise', 'max_depth': 11, 'min_child_weight': 0.95509869374034, 'subsample': 0.8, 'colsample_bytree': 0.7, 'reg_lambda': 2.8742568248197045, 'reg_alpha': 6.705078815832609, 'gamma': 4.991392748172383, 'max_delta_step': 0}. Best is trial 43 with value: 0.5562924266954341.\n",
      "[I 2025-05-26 20:28:30,893] Trial 49 finished with value: 0.5828664747431143 and parameters: {'n_estimators': 400, 'learning_rate': 0.01180598408433282, 'grow_policy': 'depthwise', 'max_depth': 9, 'min_child_weight': 2.0747119694622143, 'subsample': 0.8, 'colsample_bytree': 0.6, 'reg_lambda': 5.365867482460138, 'reg_alpha': 9.891064831256815, 'gamma': 0.3991998959460854, 'max_delta_step': 0}. Best is trial 43 with value: 0.5562924266954341.\n",
      "[I 2025-05-26 20:28:35,495] Trial 50 finished with value: 0.5588202720870369 and parameters: {'n_estimators': 1800, 'learning_rate': 0.018513896087863288, 'grow_policy': 'depthwise', 'max_depth': 8, 'min_child_weight': 1.3108941807621366, 'subsample': 0.9, 'colsample_bytree': 0.6, 'reg_lambda': 1.0357541275045095, 'reg_alpha': 8.554166492186376, 'gamma': 0.21488014700411, 'max_delta_step': 4}. Best is trial 43 with value: 0.5562924266954341.\n",
      "[I 2025-05-26 20:28:42,024] Trial 51 finished with value: 0.5577542871405761 and parameters: {'n_estimators': 2000, 'learning_rate': 0.023528178621995705, 'grow_policy': 'depthwise', 'max_depth': 11, 'min_child_weight': 1.3431269250492417, 'subsample': 0.8, 'colsample_bytree': 0.7, 'reg_lambda': 5.707089337472619, 'reg_alpha': 2.5850941452297307, 'gamma': 0.1314737909426238, 'max_delta_step': 0}. Best is trial 43 with value: 0.5562924266954341.\n",
      "[I 2025-05-26 20:28:53,275] Trial 52 finished with value: 0.562224397833001 and parameters: {'n_estimators': 2000, 'learning_rate': 0.026233877002936713, 'grow_policy': 'depthwise', 'max_depth': 11, 'min_child_weight': 1.1345621479563148, 'subsample': 0.8, 'colsample_bytree': 0.7, 'reg_lambda': 11.064331997670958, 'reg_alpha': 2.6224464432908694, 'gamma': 0.03898444459092937, 'max_delta_step': 0}. Best is trial 43 with value: 0.5562924266954341.\n",
      "[I 2025-05-26 20:28:57,063] Trial 53 finished with value: 0.5605382135257182 and parameters: {'n_estimators': 2000, 'learning_rate': 0.02153003661524001, 'grow_policy': 'depthwise', 'max_depth': 11, 'min_child_weight': 1.883359069856038, 'subsample': 0.8, 'colsample_bytree': 0.7, 'reg_lambda': 2.075825279671573, 'reg_alpha': 5.426200874013118, 'gamma': 0.4330242294029004, 'max_delta_step': 0}. Best is trial 43 with value: 0.5562924266954341.\n",
      "[I 2025-05-26 20:29:00,631] Trial 54 finished with value: 0.5609122762231291 and parameters: {'n_estimators': 1800, 'learning_rate': 0.04071191740763708, 'grow_policy': 'depthwise', 'max_depth': 10, 'min_child_weight': 0.664170872055814, 'subsample': 0.9, 'colsample_bytree': 0.7, 'reg_lambda': 3.6092506929129877, 'reg_alpha': 0.7053365553914546, 'gamma': 0.17890353417455407, 'max_delta_step': 0}. Best is trial 43 with value: 0.5562924266954341.\n",
      "[I 2025-05-26 20:29:03,637] Trial 55 finished with value: 0.5839861617621827 and parameters: {'n_estimators': 1800, 'learning_rate': 0.016231312497135657, 'grow_policy': 'depthwise', 'max_depth': 11, 'min_child_weight': 0.8288965684796357, 'subsample': 0.8, 'colsample_bytree': 0.6, 'reg_lambda': 0.3166401944499776, 'reg_alpha': 3.8743690650225195, 'gamma': 3.747567091447404, 'max_delta_step': 0}. Best is trial 43 with value: 0.5562924266954341.\n",
      "[I 2025-05-26 20:29:07,524] Trial 56 finished with value: 0.5614684157412764 and parameters: {'n_estimators': 2000, 'learning_rate': 0.027981684902881044, 'grow_policy': 'depthwise', 'max_depth': 9, 'min_child_weight': 0.959098236296579, 'subsample': 0.8, 'colsample_bytree': 1.0, 'reg_lambda': 4.62545706541797, 'reg_alpha': 2.3449326961184065, 'gamma': 0.47803246697569557, 'max_delta_step': 0}. Best is trial 43 with value: 0.5562924266954341.\n",
      "[I 2025-05-26 20:29:11,100] Trial 57 finished with value: 0.5714269834109331 and parameters: {'n_estimators': 2000, 'learning_rate': 0.012244893750906326, 'grow_policy': 'depthwise', 'max_depth': 10, 'min_child_weight': 2.199492302317302, 'subsample': 0.9, 'colsample_bytree': 0.7, 'reg_lambda': 12.6303154391778, 'reg_alpha': 4.426297275651348, 'gamma': 1.2732228724419983, 'max_delta_step': 0}. Best is trial 43 with value: 0.5562924266954341.\n",
      "[I 2025-05-26 20:29:13,930] Trial 58 finished with value: 0.5579421279599035 and parameters: {'n_estimators': 800, 'learning_rate': 0.02276678759866745, 'grow_policy': 'depthwise', 'max_depth': 8, 'min_child_weight': 1.199762139068731, 'subsample': 0.8, 'colsample_bytree': 0.7, 'reg_lambda': 5.768188851850164, 'reg_alpha': 0.7092210826265792, 'gamma': 0.31448049272275974, 'max_delta_step': 5}. Best is trial 43 with value: 0.5562924266954341.\n",
      "[I 2025-05-26 20:29:24,566] Trial 59 finished with value: 0.5640291930498708 and parameters: {'n_estimators': 1800, 'learning_rate': 0.02056302772427841, 'grow_policy': 'depthwise', 'max_depth': 12, 'min_child_weight': 1.488678711372379, 'subsample': 0.8, 'colsample_bytree': 0.6, 'reg_lambda': 0.0010992109373284234, 'reg_alpha': 2.523312763625281, 'gamma': 0.07671660925639542, 'max_delta_step': 1}. Best is trial 43 with value: 0.5562924266954341.\n",
      "[I 2025-05-26 20:29:27,263] Trial 60 finished with value: 0.5808355158344098 and parameters: {'n_estimators': 2000, 'learning_rate': 0.01722874920164492, 'grow_policy': 'depthwise', 'max_depth': 11, 'min_child_weight': 1.7222097771006666, 'subsample': 0.8, 'colsample_bytree': 0.7, 'reg_lambda': 1.4382475945784559, 'reg_alpha': 3.5610954900984506, 'gamma': 3.1104729834980476, 'max_delta_step': 0}. Best is trial 43 with value: 0.5562924266954341.\n",
      "[I 2025-05-26 20:29:33,495] Trial 61 finished with value: 0.5581676863372453 and parameters: {'n_estimators': 2000, 'learning_rate': 0.02581535623235546, 'grow_policy': 'depthwise', 'max_depth': 10, 'min_child_weight': 0.9876845432100546, 'subsample': 0.8, 'colsample_bytree': 0.7, 'reg_lambda': 7.107112592132278, 'reg_alpha': 1.8894771127776806, 'gamma': 0.14274144170456304, 'max_delta_step': 0}. Best is trial 43 with value: 0.5562924266954341.\n",
      "[I 2025-05-26 20:29:45,652] Trial 62 finished with value: 0.5659069109458927 and parameters: {'n_estimators': 2000, 'learning_rate': 0.02435244202325004, 'grow_policy': 'depthwise', 'max_depth': 10, 'min_child_weight': 1.367910234522447, 'subsample': 0.8, 'colsample_bytree': 0.7, 'reg_lambda': 0.08460795055972262, 'reg_alpha': 1.6601937215236573, 'gamma': 0.018148038385879722, 'max_delta_step': 0}. Best is trial 43 with value: 0.5562924266954341.\n",
      "[I 2025-05-26 20:29:49,264] Trial 63 finished with value: 0.565412165957184 and parameters: {'n_estimators': 1800, 'learning_rate': 0.013003262964606565, 'grow_policy': 'depthwise', 'max_depth': 9, 'min_child_weight': 1.4751655949702185, 'subsample': 0.8, 'colsample_bytree': 0.7, 'reg_lambda': 0.008260030955974284, 'reg_alpha': 2.885878038884994, 'gamma': 0.8593013582291444, 'max_delta_step': 0}. Best is trial 43 with value: 0.5562924266954341.\n",
      "[I 2025-05-26 20:29:52,171] Trial 64 finished with value: 0.5607420209213979 and parameters: {'n_estimators': 2000, 'learning_rate': 0.03901896449846316, 'grow_policy': 'depthwise', 'max_depth': 11, 'min_child_weight': 1.9058523472598892, 'subsample': 0.8, 'colsample_bytree': 0.6, 'reg_lambda': 3.2116067412662948, 'reg_alpha': 4.510670048381313, 'gamma': 0.522635060253132, 'max_delta_step': 0}. Best is trial 43 with value: 0.5562924266954341.\n",
      "[I 2025-05-26 20:29:57,798] Trial 65 finished with value: 0.5581823498528768 and parameters: {'n_estimators': 1800, 'learning_rate': 0.019652563515915655, 'grow_policy': 'depthwise', 'max_depth': 10, 'min_child_weight': 1.0855885682657018, 'subsample': 0.9, 'colsample_bytree': 0.7, 'reg_lambda': 13.38215716885771, 'reg_alpha': 5.094519446358008, 'gamma': 0.23446829956264184, 'max_delta_step': 1}. Best is trial 43 with value: 0.5562924266954341.\n",
      "[I 2025-05-26 20:30:01,636] Trial 66 finished with value: 0.5585369593065356 and parameters: {'n_estimators': 2000, 'learning_rate': 0.02365151473772137, 'grow_policy': 'depthwise', 'max_depth': 8, 'min_child_weight': 2.286709406397334, 'subsample': 0.8, 'colsample_bytree': 0.8, 'reg_lambda': 9.869294618523986, 'reg_alpha': 3.077385647360723, 'gamma': 0.3735966763421411, 'max_delta_step': 0}. Best is trial 43 with value: 0.5562924266954341.\n",
      "[I 2025-05-26 20:30:04,226] Trial 67 finished with value: 0.5692060651923541 and parameters: {'n_estimators': 2000, 'learning_rate': 0.028849248188059423, 'grow_policy': 'depthwise', 'max_depth': 6, 'min_child_weight': 1.6174273106461223, 'subsample': 0.9, 'colsample_bytree': 0.7, 'reg_lambda': 2.140449947388538, 'reg_alpha': 1.8727980521011536, 'gamma': 0.7890036775505473, 'max_delta_step': 3}. Best is trial 43 with value: 0.5562924266954341.\n",
      "[I 2025-05-26 20:30:08,057] Trial 68 finished with value: 0.5651206852264 and parameters: {'n_estimators': 1800, 'learning_rate': 0.015682251813764314, 'grow_policy': 'depthwise', 'max_depth': 11, 'min_child_weight': 2.8689226777717396, 'subsample': 0.8, 'colsample_bytree': 0.8, 'reg_lambda': 28.354380837536482, 'reg_alpha': 0.6756309701947929, 'gamma': 1.0279840408975942, 'max_delta_step': 1}. Best is trial 43 with value: 0.5562924266954341.\n",
      "[I 2025-05-26 20:30:10,491] Trial 69 finished with value: 0.5770452567918178 and parameters: {'n_estimators': 2000, 'learning_rate': 0.033384533672996194, 'grow_policy': 'depthwise', 'max_depth': 12, 'min_child_weight': 1.3796488105463922, 'subsample': 0.8, 'colsample_bytree': 0.6, 'reg_lambda': 6.213445669592748, 'reg_alpha': 3.813210982737728, 'gamma': 2.2933995225668915, 'max_delta_step': 0}. Best is trial 43 with value: 0.5562924266954341.\n",
      "[I 2025-05-26 20:30:15,802] Trial 70 finished with value: 0.560828372668128 and parameters: {'n_estimators': 1800, 'learning_rate': 0.013375094641456775, 'grow_policy': 'depthwise', 'max_depth': 9, 'min_child_weight': 1.2088544456788934, 'subsample': 0.8, 'colsample_bytree': 0.7, 'reg_lambda': 0.7820408462502039, 'reg_alpha': 11.357493334519386, 'gamma': 0.1516190225900301, 'max_delta_step': 0}. Best is trial 43 with value: 0.5562924266954341.\n",
      "[I 2025-05-26 20:30:18,921] Trial 71 finished with value: 0.5584688122492366 and parameters: {'n_estimators': 800, 'learning_rate': 0.021129670137797745, 'grow_policy': 'depthwise', 'max_depth': 8, 'min_child_weight': 0.890071328295396, 'subsample': 0.8, 'colsample_bytree': 0.7, 'reg_lambda': 5.126566619288598, 'reg_alpha': 2.2952346539809065, 'gamma': 0.2947187501371713, 'max_delta_step': 5}. Best is trial 43 with value: 0.5562924266954341.\n",
      "[I 2025-05-26 20:30:20,308] Trial 72 finished with value: 0.5770970083117449 and parameters: {'n_estimators': 800, 'learning_rate': 0.02379803824350071, 'grow_policy': 'depthwise', 'max_depth': 4, 'min_child_weight': 1.211798349648454, 'subsample': 0.8, 'colsample_bytree': 0.7, 'reg_lambda': 8.52629855918541, 'reg_alpha': 0.7356403847950352, 'gamma': 0.624426811853064, 'max_delta_step': 4}. Best is trial 43 with value: 0.5562924266954341.\n",
      "[I 2025-05-26 20:30:23,810] Trial 73 finished with value: 0.5610717547088656 and parameters: {'n_estimators': 600, 'learning_rate': 0.022633102030921105, 'grow_policy': 'depthwise', 'max_depth': 10, 'min_child_weight': 0.7768048954438628, 'subsample': 0.8, 'colsample_bytree': 0.7, 'reg_lambda': 3.8256125878794105, 'reg_alpha': 1.3816973876832441, 'gamma': 0.3468859891786352, 'max_delta_step': 5}. Best is trial 43 with value: 0.5562924266954341.\n",
      "[I 2025-05-26 20:30:25,067] Trial 74 finished with value: 0.5759626423233151 and parameters: {'n_estimators': 1000, 'learning_rate': 0.019157468247148604, 'grow_policy': 'depthwise', 'max_depth': 6, 'min_child_weight': 1.1683606663308836, 'subsample': 1.0, 'colsample_bytree': 0.7, 'reg_lambda': 6.484137862954905, 'reg_alpha': 1.6832014242180713, 'gamma': 0.4939285527553939, 'max_delta_step': 3}. Best is trial 43 with value: 0.5562924266954341.\n",
      "[I 2025-05-26 20:30:27,285] Trial 75 finished with value: 0.5603593330090918 and parameters: {'n_estimators': 600, 'learning_rate': 0.02673027865609032, 'grow_policy': 'depthwise', 'max_depth': 7, 'min_child_weight': 1.8433878590520756, 'subsample': 0.7, 'colsample_bytree': 0.7, 'reg_lambda': 13.92048647855144, 'reg_alpha': 0.49809663730069154, 'gamma': 0.14320416758200322, 'max_delta_step': 0}. Best is trial 43 with value: 0.5562924266954341.\n",
      "[I 2025-05-26 20:30:29,102] Trial 76 finished with value: 0.5669272781631665 and parameters: {'n_estimators': 400, 'learning_rate': 0.030513819660850417, 'grow_policy': 'depthwise', 'max_depth': 10, 'min_child_weight': 1.045990370905434, 'subsample': 0.8, 'colsample_bytree': 0.8, 'reg_lambda': 2.537666261793006, 'reg_alpha': 1.0361626438329523, 'gamma': 0.7347843252710246, 'max_delta_step': 4}. Best is trial 43 with value: 0.5562924266954341.\n",
      "[I 2025-05-26 20:30:33,640] Trial 77 finished with value: 0.5635459276579076 and parameters: {'n_estimators': 2000, 'learning_rate': 0.01674048558170391, 'grow_policy': 'depthwise', 'max_depth': 9, 'min_child_weight': 0.6803672869435236, 'subsample': 0.9, 'colsample_bytree': 0.7, 'reg_lambda': 1.5386252013873079, 'reg_alpha': 2.076011446229193, 'gamma': 0.5553710493019817, 'max_delta_step': 1}. Best is trial 43 with value: 0.5562924266954341.\n",
      "[I 2025-05-26 20:30:40,731] Trial 78 finished with value: 0.5601930163517291 and parameters: {'n_estimators': 800, 'learning_rate': 0.036727621843253615, 'grow_policy': 'depthwise', 'max_depth': 11, 'min_child_weight': 1.4164785190915472, 'subsample': 0.8, 'colsample_bytree': 0.6, 'reg_lambda': 23.716538778291888, 'reg_alpha': 3.196095276373403, 'gamma': 0.0035622496406680915, 'max_delta_step': 0}. Best is trial 43 with value: 0.5562924266954341.\n",
      "[I 2025-05-26 20:30:45,622] Trial 79 finished with value: 0.5614624876330137 and parameters: {'n_estimators': 1000, 'learning_rate': 0.019795454033933204, 'grow_policy': 'depthwise', 'max_depth': 12, 'min_child_weight': 1.5671198345074195, 'subsample': 0.8, 'colsample_bytree': 1.0, 'reg_lambda': 5.4311526575645, 'reg_alpha': 2.7055453454583436, 'gamma': 0.31185705439203804, 'max_delta_step': 0}. Best is trial 43 with value: 0.5562924266954341.\n",
      "[I 2025-05-26 20:30:48,884] Trial 80 finished with value: 0.5589962334747878 and parameters: {'n_estimators': 600, 'learning_rate': 0.029146645740935288, 'grow_policy': 'depthwise', 'max_depth': 9, 'min_child_weight': 1.316018759019495, 'subsample': 0.7, 'colsample_bytree': 0.7, 'reg_lambda': 9.311555869056143, 'reg_alpha': 1.4226456406860577, 'gamma': 0.18182408505225825, 'max_delta_step': 2}. Best is trial 43 with value: 0.5562924266954341.\n",
      "[I 2025-05-26 20:30:55,097] Trial 81 finished with value: 0.5571857750424802 and parameters: {'n_estimators': 2000, 'learning_rate': 0.025478614424809632, 'grow_policy': 'depthwise', 'max_depth': 10, 'min_child_weight': 0.9717698826978621, 'subsample': 0.8, 'colsample_bytree': 0.7, 'reg_lambda': 6.637733994802705, 'reg_alpha': 2.0015762774320716, 'gamma': 0.1504247560012874, 'max_delta_step': 0}. Best is trial 43 with value: 0.5562924266954341.\n",
      "[I 2025-05-26 20:30:59,294] Trial 82 finished with value: 0.5592365591074767 and parameters: {'n_estimators': 2000, 'learning_rate': 0.02332833511560998, 'grow_policy': 'depthwise', 'max_depth': 10, 'min_child_weight': 2.0668998876434377, 'subsample': 0.8, 'colsample_bytree': 0.7, 'reg_lambda': 4.514006828172428, 'reg_alpha': 0.9536650207196404, 'gamma': 0.3868682301143487, 'max_delta_step': 0}. Best is trial 43 with value: 0.5562924266954341.\n",
      "[I 2025-05-26 20:31:04,744] Trial 83 finished with value: 0.5612109237934628 and parameters: {'n_estimators': 2000, 'learning_rate': 0.01799753435874545, 'grow_policy': 'depthwise', 'max_depth': 10, 'min_child_weight': 1.0686644565558383, 'subsample': 0.8, 'colsample_bytree': 0.7, 'reg_lambda': 2.5194430505608976, 'reg_alpha': 0.39650803690215275, 'gamma': 0.25716717299697883, 'max_delta_step': 0}. Best is trial 43 with value: 0.5562924266954341.\n",
      "[I 2025-05-26 20:31:06,796] Trial 84 finished with value: 0.578690170237416 and parameters: {'n_estimators': 1800, 'learning_rate': 0.29500578594043714, 'grow_policy': 'depthwise', 'max_depth': 11, 'min_child_weight': 3.6351081090940265, 'subsample': 0.8, 'colsample_bytree': 0.8, 'reg_lambda': 7.8423471488702114, 'reg_alpha': 0.0204415385216008, 'gamma': 0.9000061595936782, 'max_delta_step': 0}. Best is trial 43 with value: 0.5562924266954341.\n",
      "[I 2025-05-26 20:31:10,278] Trial 85 finished with value: 0.5608642234765475 and parameters: {'n_estimators': 2000, 'learning_rate': 0.021707630296273542, 'grow_policy': 'depthwise', 'max_depth': 9, 'min_child_weight': 0.9139453766341797, 'subsample': 0.8, 'colsample_bytree': 0.7, 'reg_lambda': 17.48620953187076, 'reg_alpha': 2.4415451576251925, 'gamma': 0.5799753132023235, 'max_delta_step': 0}. Best is trial 43 with value: 0.5562924266954341.\n",
      "[I 2025-05-26 20:31:12,569] Trial 86 finished with value: 0.5857235951741353 and parameters: {'n_estimators': 2000, 'learning_rate': 0.04593639153207994, 'grow_policy': 'depthwise', 'max_depth': 10, 'min_child_weight': 0.7715871582805778, 'subsample': 0.8, 'colsample_bytree': 0.7, 'reg_lambda': 10.927979763285288, 'reg_alpha': 3.3073442890608966, 'gamma': 4.243749618497623, 'max_delta_step': 1}. Best is trial 43 with value: 0.5562924266954341.\n",
      "[I 2025-05-26 20:31:18,549] Trial 87 finished with value: 0.5605707184929835 and parameters: {'n_estimators': 1800, 'learning_rate': 0.03264127445175025, 'grow_policy': 'depthwise', 'max_depth': 11, 'min_child_weight': 0.6023299075427968, 'subsample': 0.8, 'colsample_bytree': 0.8, 'reg_lambda': 3.981536349378386, 'reg_alpha': 2.811521277637047, 'gamma': 0.1149661665354479, 'max_delta_step': 0}. Best is trial 43 with value: 0.5562924266954341.\n",
      "[I 2025-05-26 20:31:22,262] Trial 88 finished with value: 0.5582990308292073 and parameters: {'n_estimators': 2000, 'learning_rate': 0.02528189926286512, 'grow_policy': 'depthwise', 'max_depth': 8, 'min_child_weight': 1.6865264366698343, 'subsample': 0.7, 'colsample_bytree': 0.7, 'reg_lambda': 5.69505194210795, 'reg_alpha': 2.067398794034519, 'gamma': 0.44931534177379856, 'max_delta_step': 0}. Best is trial 43 with value: 0.5562924266954341.\n",
      "[I 2025-05-26 20:31:26,504] Trial 89 finished with value: 0.562262743132892 and parameters: {'n_estimators': 1800, 'learning_rate': 0.014187170678692133, 'grow_policy': 'depthwise', 'max_depth': 10, 'min_child_weight': 1.2530908408055936, 'subsample': 0.8, 'colsample_bytree': 0.6, 'reg_lambda': 3.202215233880691, 'reg_alpha': 1.532742166535661, 'gamma': 0.6990114532992707, 'max_delta_step': 5}. Best is trial 43 with value: 0.5562924266954341.\n",
      "[I 2025-05-26 20:31:30,960] Trial 90 finished with value: 0.5603210545728612 and parameters: {'n_estimators': 2000, 'learning_rate': 0.02703911735162386, 'grow_policy': 'depthwise', 'max_depth': 12, 'min_child_weight': 1.119472554581916, 'subsample': 0.8, 'colsample_bytree': 0.9, 'reg_lambda': 1.1557930985437757, 'reg_alpha': 7.1762606847871275, 'gamma': 0.264774821232266, 'max_delta_step': 0}. Best is trial 43 with value: 0.5562924266954341.\n",
      "[I 2025-05-26 20:31:37,602] Trial 91 finished with value: 0.5582073139735008 and parameters: {'n_estimators': 2000, 'learning_rate': 0.025492014870314633, 'grow_policy': 'depthwise', 'max_depth': 10, 'min_child_weight': 0.9532842340894072, 'subsample': 0.8, 'colsample_bytree': 0.7, 'reg_lambda': 7.0142927533030015, 'reg_alpha': 1.804033313556887, 'gamma': 0.11809581086477541, 'max_delta_step': 0}. Best is trial 43 with value: 0.5562924266954341.\n",
      "[I 2025-05-26 20:31:48,811] Trial 92 finished with value: 0.556718583821034 and parameters: {'n_estimators': 2000, 'learning_rate': 0.011002151358608915, 'grow_policy': 'depthwise', 'max_depth': 10, 'min_child_weight': 1.0041711118582675, 'subsample': 0.8, 'colsample_bytree': 0.7, 'reg_lambda': 13.415712901434752, 'reg_alpha': 1.9963179641091526, 'gamma': 0.11535895376842618, 'max_delta_step': 0}. Best is trial 43 with value: 0.5562924266954341.\n",
      "[I 2025-05-26 20:32:06,996] Trial 93 finished with value: 0.5609999006873808 and parameters: {'n_estimators': 2000, 'learning_rate': 0.01595538679606563, 'grow_policy': 'depthwise', 'max_depth': 11, 'min_child_weight': 1.4843475099299313, 'subsample': 0.8, 'colsample_bytree': 0.7, 'reg_lambda': 15.943695334797768, 'reg_alpha': 2.297332766702861, 'gamma': 0.013860841214816705, 'max_delta_step': 0}. Best is trial 43 with value: 0.5562924266954341.\n",
      "[I 2025-05-26 20:32:11,788] Trial 94 finished with value: 0.5607146583948339 and parameters: {'n_estimators': 2000, 'learning_rate': 0.011369741402539248, 'grow_policy': 'depthwise', 'max_depth': 9, 'min_child_weight': 11.1795146976591, 'subsample': 0.8, 'colsample_bytree': 0.7, 'reg_lambda': 12.240226705487919, 'reg_alpha': 3.6271192728136104, 'gamma': 0.4193326220542906, 'max_delta_step': 0}. Best is trial 43 with value: 0.5562924266954341.\n",
      "[I 2025-05-26 20:32:19,113] Trial 95 finished with value: 0.5580277942144283 and parameters: {'n_estimators': 1800, 'learning_rate': 0.010335319148663518, 'grow_policy': 'depthwise', 'max_depth': 10, 'min_child_weight': 0.811874716512697, 'subsample': 0.8, 'colsample_bytree': 0.7, 'reg_lambda': 9.598554307745514, 'reg_alpha': 0.9875681481623666, 'gamma': 0.2949901205882138, 'max_delta_step': 0}. Best is trial 43 with value: 0.5562924266954341.\n",
      "[I 2025-05-26 20:32:26,878] Trial 96 finished with value: 0.5598269851392027 and parameters: {'n_estimators': 2000, 'learning_rate': 0.02217920039711591, 'grow_policy': 'depthwise', 'max_depth': 11, 'min_child_weight': 1.3313157178507151, 'subsample': 0.8, 'colsample_bytree': 0.7, 'reg_lambda': 1.7385505110274568, 'reg_alpha': 4.110981799147862, 'gamma': 0.15238927355808565, 'max_delta_step': 3}. Best is trial 43 with value: 0.5562924266954341.\n",
      "[I 2025-05-26 20:32:28,124] Trial 97 finished with value: 0.5698916447569419 and parameters: {'n_estimators': 200, 'learning_rate': 0.030621731821043347, 'grow_policy': 'depthwise', 'max_depth': 9, 'min_child_weight': 1.0174869990337587, 'subsample': 0.8, 'colsample_bytree': 0.7, 'reg_lambda': 19.833270510863056, 'reg_alpha': 2.916159576960368, 'gamma': 0.5077018540095448, 'max_delta_step': 0}. Best is trial 43 with value: 0.5562924266954341.\n",
      "[I 2025-05-26 20:32:33,073] Trial 98 finished with value: 0.557582445080911 and parameters: {'n_estimators': 1800, 'learning_rate': 0.020005204217774762, 'grow_policy': 'depthwise', 'max_depth': 10, 'min_child_weight': 1.9704352968408914, 'subsample': 0.8, 'colsample_bytree': 0.6, 'reg_lambda': 29.930807330684203, 'reg_alpha': 2.518214952614387, 'gamma': 0.3569750586888205, 'max_delta_step': 1}. Best is trial 43 with value: 0.5562924266954341.\n",
      "[I 2025-05-26 20:32:36,724] Trial 99 finished with value: 0.5607971218310481 and parameters: {'n_estimators': 1600, 'learning_rate': 0.018398157747873692, 'grow_policy': 'depthwise', 'max_depth': 10, 'min_child_weight': 2.736380076575755, 'subsample': 0.8, 'colsample_bytree': 0.6, 'reg_lambda': 31.24554461208426, 'reg_alpha': 2.7034349054681623, 'gamma': 0.6195561947574998, 'max_delta_step': 1}. Best is trial 43 with value: 0.5562924266954341.\n",
      "[I 2025-05-26 20:32:46,757] Trial 100 finished with value: 0.5565451676743605 and parameters: {'n_estimators': 1800, 'learning_rate': 0.013340026465726722, 'grow_policy': 'depthwise', 'max_depth': 10, 'min_child_weight': 1.9404697232017383, 'subsample': 0.9, 'colsample_bytree': 0.6, 'reg_lambda': 32.485375966373006, 'reg_alpha': 3.3849993013055277, 'gamma': 0.09258989965950523, 'max_delta_step': 1}. Best is trial 43 with value: 0.5562924266954341.\n",
      "[I 2025-05-26 20:32:56,437] Trial 101 finished with value: 0.5569107694590654 and parameters: {'n_estimators': 1800, 'learning_rate': 0.013464660637914464, 'grow_policy': 'depthwise', 'max_depth': 10, 'min_child_weight': 2.0079717359530007, 'subsample': 0.9, 'colsample_bytree': 0.6, 'reg_lambda': 24.411554962625704, 'reg_alpha': 3.2587247275576163, 'gamma': 0.0946669648534857, 'max_delta_step': 1}. Best is trial 43 with value: 0.5562924266954341.\n",
      "[I 2025-05-26 20:33:05,800] Trial 102 finished with value: 0.5573638447091659 and parameters: {'n_estimators': 1600, 'learning_rate': 0.011062875563278342, 'grow_policy': 'depthwise', 'max_depth': 10, 'min_child_weight': 1.9314907782798187, 'subsample': 0.9, 'colsample_bytree': 0.6, 'reg_lambda': 26.24855111312416, 'reg_alpha': 4.51101266247227, 'gamma': 0.0837385257813491, 'max_delta_step': 1}. Best is trial 43 with value: 0.5562924266954341.\n",
      "[I 2025-05-26 20:33:15,406] Trial 103 finished with value: 0.5577832135838934 and parameters: {'n_estimators': 1600, 'learning_rate': 0.010664296458560561, 'grow_policy': 'depthwise', 'max_depth': 10, 'min_child_weight': 2.414016154376223, 'subsample': 0.9, 'colsample_bytree': 0.6, 'reg_lambda': 34.96065929628356, 'reg_alpha': 4.84733315968182, 'gamma': 0.005453127837467431, 'max_delta_step': 1}. Best is trial 43 with value: 0.5562924266954341.\n",
      "[I 2025-05-26 20:33:21,631] Trial 104 finished with value: 0.5582004085062511 and parameters: {'n_estimators': 1800, 'learning_rate': 0.013266739166359565, 'grow_policy': 'depthwise', 'max_depth': 10, 'min_child_weight': 2.0851634607440728, 'subsample': 0.9, 'colsample_bytree': 0.6, 'reg_lambda': 27.137890866475118, 'reg_alpha': 4.0841823208485595, 'gamma': 0.2664853301890463, 'max_delta_step': 1}. Best is trial 43 with value: 0.5562924266954341.\n",
      "[I 2025-05-26 20:33:27,052] Trial 105 finished with value: 0.5608767720852849 and parameters: {'n_estimators': 1600, 'learning_rate': 0.011261299857238435, 'grow_policy': 'depthwise', 'max_depth': 10, 'min_child_weight': 1.7846948579622353, 'subsample': 0.9, 'colsample_bytree': 0.6, 'reg_lambda': 37.08672181242406, 'reg_alpha': 5.464493707905855, 'gamma': 0.4202778152145814, 'max_delta_step': 1}. Best is trial 43 with value: 0.5562924266954341.\n",
      "[I 2025-05-26 20:33:35,446] Trial 106 finished with value: 0.5570658279130554 and parameters: {'n_estimators': 1800, 'learning_rate': 0.01253225572815737, 'grow_policy': 'depthwise', 'max_depth': 9, 'min_child_weight': 2.992463676969057, 'subsample': 0.9, 'colsample_bytree': 0.6, 'reg_lambda': 22.463051969956545, 'reg_alpha': 3.367639776873055, 'gamma': 0.08621369788147014, 'max_delta_step': 1}. Best is trial 43 with value: 0.5562924266954341.\n",
      "[I 2025-05-26 20:33:42,364] Trial 107 finished with value: 0.5567671666097089 and parameters: {'n_estimators': 1800, 'learning_rate': 0.012414671057321127, 'grow_policy': 'lossguide', 'max_leaves': 64, 'min_child_weight': 2.2645810640215127, 'subsample': 0.9, 'colsample_bytree': 0.6, 'reg_lambda': 15.784753950215393, 'reg_alpha': 4.494048138575786, 'gamma': 0.10854338449323868, 'max_delta_step': 2}. Best is trial 43 with value: 0.5562924266954341.\n",
      "[I 2025-05-26 20:33:49,416] Trial 108 finished with value: 0.5570525267287628 and parameters: {'n_estimators': 1800, 'learning_rate': 0.012330395710279846, 'grow_policy': 'lossguide', 'max_leaves': 64, 'min_child_weight': 3.582054829540509, 'subsample': 0.9, 'colsample_bytree': 0.6, 'reg_lambda': 22.692732219445503, 'reg_alpha': 4.588936563791195, 'gamma': 0.11273186428724993, 'max_delta_step': 2}. Best is trial 43 with value: 0.5562924266954341.\n",
      "[I 2025-05-26 20:33:56,182] Trial 109 finished with value: 0.5573430844264642 and parameters: {'n_estimators': 1800, 'learning_rate': 0.012647997248724256, 'grow_policy': 'lossguide', 'max_leaves': 64, 'min_child_weight': 2.993396244172163, 'subsample': 0.9, 'colsample_bytree': 0.6, 'reg_lambda': 22.153683175795965, 'reg_alpha': 5.274085250568412, 'gamma': 0.18756139424740492, 'max_delta_step': 2}. Best is trial 43 with value: 0.5562924266954341.\n",
      "[I 2025-05-26 20:34:00,656] Trial 110 finished with value: 0.5596438984477199 and parameters: {'n_estimators': 1800, 'learning_rate': 0.012152741974504474, 'grow_policy': 'lossguide', 'max_leaves': 64, 'min_child_weight': 3.3773010287347933, 'subsample': 1.0, 'colsample_bytree': 0.6, 'reg_lambda': 15.644723443432731, 'reg_alpha': 3.7642230672038566, 'gamma': 0.10677056206471915, 'max_delta_step': 2}. Best is trial 43 with value: 0.5562924266954341.\n",
      "[I 2025-05-26 20:34:06,791] Trial 111 finished with value: 0.5569465244393298 and parameters: {'n_estimators': 1800, 'learning_rate': 0.014052924411919021, 'grow_policy': 'lossguide', 'max_leaves': 64, 'min_child_weight': 3.0176909548781854, 'subsample': 0.9, 'colsample_bytree': 0.6, 'reg_lambda': 20.141438225348864, 'reg_alpha': 4.703726900654427, 'gamma': 0.20387898647894226, 'max_delta_step': 2}. Best is trial 43 with value: 0.5562924266954341.\n",
      "[I 2025-05-26 20:34:11,385] Trial 112 finished with value: 0.5615056513063097 and parameters: {'n_estimators': 1800, 'learning_rate': 0.014169023141151496, 'grow_policy': 'lossguide', 'max_leaves': 32, 'min_child_weight': 4.758583530637994, 'subsample': 0.9, 'colsample_bytree': 0.6, 'reg_lambda': 20.516625108625483, 'reg_alpha': 4.552756424870933, 'gamma': 0.21967166230738489, 'max_delta_step': 2}. Best is trial 43 with value: 0.5562924266954341.\n",
      "[I 2025-05-26 20:34:16,045] Trial 113 finished with value: 0.5601960302154799 and parameters: {'n_estimators': 1800, 'learning_rate': 0.015346016069827148, 'grow_policy': 'lossguide', 'max_leaves': 32, 'min_child_weight': 2.2548067408198427, 'subsample': 0.9, 'colsample_bytree': 0.6, 'reg_lambda': 13.990968029791908, 'reg_alpha': 3.3584266166345476, 'gamma': 0.014093148886116652, 'max_delta_step': 2}. Best is trial 43 with value: 0.5562924266954341.\n",
      "[I 2025-05-26 20:34:20,003] Trial 114 finished with value: 0.5627893260156069 and parameters: {'n_estimators': 1600, 'learning_rate': 0.013930420635926248, 'grow_policy': 'lossguide', 'max_leaves': 64, 'min_child_weight': 3.645020086687795, 'subsample': 0.9, 'colsample_bytree': 0.6, 'reg_lambda': 37.2849308900747, 'reg_alpha': 5.9246832951189115, 'gamma': 0.5391359905220696, 'max_delta_step': 2}. Best is trial 43 with value: 0.5562924266954341.\n",
      "[I 2025-05-26 20:34:25,582] Trial 115 finished with value: 0.5599491104515296 and parameters: {'n_estimators': 1800, 'learning_rate': 0.010089083085943095, 'grow_policy': 'lossguide', 'max_leaves': 64, 'min_child_weight': 2.633838830687558, 'subsample': 0.9, 'colsample_bytree': 0.6, 'reg_lambda': 17.698012275956422, 'reg_alpha': 6.350471920924999, 'gamma': 0.3652776688082699, 'max_delta_step': 2}. Best is trial 43 with value: 0.5562924266954341.\n",
      "[I 2025-05-26 20:34:32,996] Trial 116 finished with value: 0.5571207218177735 and parameters: {'n_estimators': 1800, 'learning_rate': 0.012179133977548622, 'grow_policy': 'lossguide', 'max_leaves': 64, 'min_child_weight': 4.520682815335338, 'subsample': 0.9, 'colsample_bytree': 0.6, 'reg_lambda': 23.253298878927882, 'reg_alpha': 4.063862928193197, 'gamma': 0.09312498549436875, 'max_delta_step': 2}. Best is trial 43 with value: 0.5562924266954341.\n",
      "[I 2025-05-26 20:34:39,752] Trial 117 finished with value: 0.5575074118142855 and parameters: {'n_estimators': 1600, 'learning_rate': 0.012110671202702837, 'grow_policy': 'lossguide', 'max_leaves': 64, 'min_child_weight': 4.302040217884777, 'subsample': 0.9, 'colsample_bytree': 0.6, 'reg_lambda': 24.17807770133998, 'reg_alpha': 4.136180752619576, 'gamma': 0.09270088076187835, 'max_delta_step': 2}. Best is trial 43 with value: 0.5562924266954341.\n",
      "[I 2025-05-26 20:34:44,534] Trial 118 finished with value: 0.5627826411998716 and parameters: {'n_estimators': 1800, 'learning_rate': 0.013345063964488871, 'grow_policy': 'lossguide', 'max_leaves': 32, 'min_child_weight': 4.389772441818675, 'subsample': 0.9, 'colsample_bytree': 0.6, 'reg_lambda': 43.05858936635756, 'reg_alpha': 4.835086680710046, 'gamma': 0.20512485187269885, 'max_delta_step': 2}. Best is trial 43 with value: 0.5562924266954341.\n",
      "[I 2025-05-26 20:34:47,622] Trial 119 finished with value: 0.5725573085387581 and parameters: {'n_estimators': 1600, 'learning_rate': 0.011329458452948412, 'grow_policy': 'lossguide', 'max_leaves': 64, 'min_child_weight': 2.9219994890393166, 'subsample': 0.9, 'colsample_bytree': 0.6, 'reg_lambda': 11.568132251569173, 'reg_alpha': 3.322329004717251, 'gamma': 2.04788901893992, 'max_delta_step': 2}. Best is trial 43 with value: 0.5562924266954341.\n",
      "[I 2025-05-26 20:34:51,016] Trial 120 finished with value: 0.5646268300378523 and parameters: {'n_estimators': 1800, 'learning_rate': 0.016824440713737995, 'grow_policy': 'lossguide', 'max_leaves': 32, 'min_child_weight': 3.487180139167528, 'subsample': 0.9, 'colsample_bytree': 0.6, 'reg_lambda': 18.36169963553168, 'reg_alpha': 4.2616065048178235, 'gamma': 0.4840178116495343, 'max_delta_step': 2}. Best is trial 43 with value: 0.5562924266954341.\n",
      "[I 2025-05-26 20:34:57,695] Trial 121 finished with value: 0.5559376066321913 and parameters: {'n_estimators': 1800, 'learning_rate': 0.014943752976722426, 'grow_policy': 'lossguide', 'max_leaves': 128, 'min_child_weight': 2.407357979969469, 'subsample': 0.9, 'colsample_bytree': 0.6, 'reg_lambda': 14.567972049246135, 'reg_alpha': 3.8095587365633365, 'gamma': 0.27194530091569413, 'max_delta_step': 2}. Best is trial 121 with value: 0.5559376066321913.\n",
      "[I 2025-05-26 20:35:09,756] Trial 122 finished with value: 0.5563388449280604 and parameters: {'n_estimators': 1800, 'learning_rate': 0.012235104070844658, 'grow_policy': 'lossguide', 'max_leaves': 128, 'min_child_weight': 2.377244913620979, 'subsample': 0.9, 'colsample_bytree': 0.6, 'reg_lambda': 31.273885102629418, 'reg_alpha': 3.742772648466261, 'gamma': 0.003242688794666257, 'max_delta_step': 2}. Best is trial 121 with value: 0.5559376066321913.\n",
      "[I 2025-05-26 20:35:20,849] Trial 123 finished with value: 0.5567399286559862 and parameters: {'n_estimators': 1800, 'learning_rate': 0.01497617123750527, 'grow_policy': 'lossguide', 'max_leaves': 128, 'min_child_weight': 2.557879633119771, 'subsample': 0.9, 'colsample_bytree': 0.6, 'reg_lambda': 22.72566800254094, 'reg_alpha': 3.838453994666526, 'gamma': 0.08904983188457984, 'max_delta_step': 2}. Best is trial 121 with value: 0.5559376066321913.\n",
      "[I 2025-05-26 20:35:33,418] Trial 124 finished with value: 0.5573384999387245 and parameters: {'n_estimators': 1800, 'learning_rate': 0.015003664169501604, 'grow_policy': 'lossguide', 'max_leaves': 128, 'min_child_weight': 2.520650094897986, 'subsample': 0.9, 'colsample_bytree': 0.6, 'reg_lambda': 32.11727072794351, 'reg_alpha': 3.8152591110354503, 'gamma': 0.00901346760142148, 'max_delta_step': 2}. Best is trial 121 with value: 0.5559376066321913.\n",
      "[I 2025-05-26 20:35:40,740] Trial 125 finished with value: 0.5575594289634183 and parameters: {'n_estimators': 1600, 'learning_rate': 0.012578557513831539, 'grow_policy': 'lossguide', 'max_leaves': 160, 'min_child_weight': 3.055220617657484, 'subsample': 0.9, 'colsample_bytree': 0.6, 'reg_lambda': 24.954131695270192, 'reg_alpha': 4.639622986700493, 'gamma': 0.3424205470298896, 'max_delta_step': 2}. Best is trial 121 with value: 0.5559376066321913.\n",
      "[I 2025-05-26 20:35:50,697] Trial 126 finished with value: 0.5570121929987499 and parameters: {'n_estimators': 1800, 'learning_rate': 0.011732718698287271, 'grow_policy': 'lossguide', 'max_leaves': 96, 'min_child_weight': 2.3917590299629823, 'subsample': 0.9, 'colsample_bytree': 0.6, 'reg_lambda': 47.33547550911944, 'reg_alpha': 5.1423585894933765, 'gamma': 0.08247541517019938, 'max_delta_step': 2}. Best is trial 121 with value: 0.5559376066321913.\n",
      "[I 2025-05-26 20:35:57,402] Trial 127 finished with value: 0.5576518348091939 and parameters: {'n_estimators': 1800, 'learning_rate': 0.013852135703840187, 'grow_policy': 'lossguide', 'max_leaves': 96, 'min_child_weight': 2.7076473754294375, 'subsample': 0.9, 'colsample_bytree': 0.6, 'reg_lambda': 40.480984887246535, 'reg_alpha': 5.557712124683278, 'gamma': 0.27383635818486673, 'max_delta_step': 2}. Best is trial 121 with value: 0.5559376066321913.\n",
      "[I 2025-05-26 20:36:00,741] Trial 128 finished with value: 0.5801328540247225 and parameters: {'n_estimators': 1800, 'learning_rate': 0.010745107758226397, 'grow_policy': 'lossguide', 'max_leaves': 128, 'min_child_weight': 2.3968859750856226, 'subsample': 0.9, 'colsample_bytree': 0.6, 'reg_lambda': 33.18518556382019, 'reg_alpha': 5.113708277238537, 'gamma': 2.6591399804145355, 'max_delta_step': 2}. Best is trial 121 with value: 0.5559376066321913.\n",
      "[I 2025-05-26 20:36:05,089] Trial 129 finished with value: 0.5599600055707185 and parameters: {'n_estimators': 1800, 'learning_rate': 0.01466117651029604, 'grow_policy': 'lossguide', 'max_leaves': 96, 'min_child_weight': 2.136978733042606, 'subsample': 1.0, 'colsample_bytree': 0.6, 'reg_lambda': 49.50327870123237, 'reg_alpha': 3.583686728455505, 'gamma': 0.20123228933050372, 'max_delta_step': 3}. Best is trial 121 with value: 0.5559376066321913.\n",
      "[I 2025-05-26 20:36:15,051] Trial 130 finished with value: 0.5569931837715647 and parameters: {'n_estimators': 1600, 'learning_rate': 0.016030569761075107, 'grow_policy': 'lossguide', 'max_leaves': 128, 'min_child_weight': 3.266069220086601, 'subsample': 0.9, 'colsample_bytree': 0.6, 'reg_lambda': 14.80279805172842, 'reg_alpha': 4.28999013263452, 'gamma': 0.08930686345607106, 'max_delta_step': 2}. Best is trial 121 with value: 0.5559376066321913.\n",
      "[I 2025-05-26 20:36:23,990] Trial 131 finished with value: 0.556181244779124 and parameters: {'n_estimators': 1400, 'learning_rate': 0.012997269470069765, 'grow_policy': 'lossguide', 'max_leaves': 128, 'min_child_weight': 3.299217002901676, 'subsample': 0.9, 'colsample_bytree': 0.6, 'reg_lambda': 0.17435359680640647, 'reg_alpha': 4.3167174255544145, 'gamma': 0.09448195729049298, 'max_delta_step': 2}. Best is trial 121 with value: 0.5559376066321913.\n",
      "[I 2025-05-26 20:36:28,934] Trial 132 finished with value: 0.5576919783250871 and parameters: {'n_estimators': 1400, 'learning_rate': 0.015523612977160714, 'grow_policy': 'lossguide', 'max_leaves': 128, 'min_child_weight': 3.273966363977851, 'subsample': 0.9, 'colsample_bytree': 0.6, 'reg_lambda': 0.19630367049974268, 'reg_alpha': 4.304901832623546, 'gamma': 0.3919295123828082, 'max_delta_step': 2}. Best is trial 121 with value: 0.5559376066321913.\n",
      "[I 2025-05-26 20:36:39,749] Trial 133 finished with value: 0.5570610522259624 and parameters: {'n_estimators': 1400, 'learning_rate': 0.011702940945050228, 'grow_policy': 'lossguide', 'max_leaves': 160, 'min_child_weight': 3.752330547849946, 'subsample': 0.9, 'colsample_bytree': 0.6, 'reg_lambda': 0.0860032640146014, 'reg_alpha': 4.899346478445748, 'gamma': 0.09023508971796335, 'max_delta_step': 2}. Best is trial 121 with value: 0.5559376066321913.\n",
      "[I 2025-05-26 20:36:45,382] Trial 134 finished with value: 0.5565410021071654 and parameters: {'n_estimators': 1600, 'learning_rate': 0.01668775266740245, 'grow_policy': 'lossguide', 'max_leaves': 128, 'min_child_weight': 2.4959154954688136, 'subsample': 0.9, 'colsample_bytree': 0.6, 'reg_lambda': 0.3732878169987321, 'reg_alpha': 4.674832575838709, 'gamma': 0.27592920063086146, 'max_delta_step': 2}. Best is trial 121 with value: 0.5559376066321913.\n",
      "[I 2025-05-26 20:36:51,353] Trial 135 finished with value: 0.5571247268823069 and parameters: {'n_estimators': 1400, 'learning_rate': 0.013308461101223022, 'grow_policy': 'lossguide', 'max_leaves': 128, 'min_child_weight': 2.5228205911750528, 'subsample': 0.9, 'colsample_bytree': 0.6, 'reg_lambda': 0.04864460911757138, 'reg_alpha': 5.217410717776829, 'gamma': 0.3007162531714027, 'max_delta_step': 2}. Best is trial 121 with value: 0.5559376066321913.\n",
      "[I 2025-05-26 20:37:02,599] Trial 136 finished with value: 0.5573880902384232 and parameters: {'n_estimators': 1600, 'learning_rate': 0.017047441425327114, 'grow_policy': 'lossguide', 'max_leaves': 128, 'min_child_weight': 2.2328239192332906, 'subsample': 0.9, 'colsample_bytree': 0.6, 'reg_lambda': 0.4693239721400473, 'reg_alpha': 5.760088046275859, 'gamma': 6.690894205692299e-05, 'max_delta_step': 2}. Best is trial 121 with value: 0.5559376066321913.\n",
      "[I 2025-05-26 20:37:09,530] Trial 137 finished with value: 0.5555870831421031 and parameters: {'n_estimators': 1200, 'learning_rate': 0.014562414208702372, 'grow_policy': 'lossguide', 'max_leaves': 128, 'min_child_weight': 2.7472005252618814, 'subsample': 0.9, 'colsample_bytree': 0.6, 'reg_lambda': 0.18644737880752021, 'reg_alpha': 4.679204693291257, 'gamma': 0.18391510356680496, 'max_delta_step': 2}. Best is trial 137 with value: 0.5555870831421031.\n",
      "[I 2025-05-26 20:37:14,258] Trial 138 finished with value: 0.5580054132512886 and parameters: {'n_estimators': 1400, 'learning_rate': 0.014254581443939228, 'grow_policy': 'lossguide', 'max_leaves': 128, 'min_child_weight': 2.7618665263861177, 'subsample': 0.9, 'colsample_bytree': 0.6, 'reg_lambda': 0.1242539812330007, 'reg_alpha': 3.945126748102507, 'gamma': 0.4635252207827396, 'max_delta_step': 2}. Best is trial 137 with value: 0.5555870831421031.\n",
      "[I 2025-05-26 20:37:20,827] Trial 139 finished with value: 0.5568894572429505 and parameters: {'n_estimators': 1200, 'learning_rate': 0.01601532477456038, 'grow_policy': 'lossguide', 'max_leaves': 160, 'min_child_weight': 2.5986732004116018, 'subsample': 0.9, 'colsample_bytree': 0.6, 'reg_lambda': 0.32896824233675104, 'reg_alpha': 4.7211553601866685, 'gamma': 0.21052962907391304, 'max_delta_step': 2}. Best is trial 137 with value: 0.5555870831421031.\n",
      "[I 2025-05-26 20:37:26,829] Trial 140 finished with value: 0.5570859177860131 and parameters: {'n_estimators': 1200, 'learning_rate': 0.0159071909432174, 'grow_policy': 'lossguide', 'max_leaves': 160, 'min_child_weight': 3.270532182204486, 'subsample': 0.9, 'colsample_bytree': 0.6, 'reg_lambda': 0.2019988852255898, 'reg_alpha': 4.303306837315835, 'gamma': 0.22931641617616164, 'max_delta_step': 2}. Best is trial 137 with value: 0.5555870831421031.\n",
      "[I 2025-05-26 20:37:31,389] Trial 141 finished with value: 0.5570258099425601 and parameters: {'n_estimators': 1200, 'learning_rate': 0.017645055992727053, 'grow_policy': 'lossguide', 'max_leaves': 128, 'min_child_weight': 2.330719144805964, 'subsample': 0.9, 'colsample_bytree': 0.6, 'reg_lambda': 0.30283452608158473, 'reg_alpha': 4.693608670800586, 'gamma': 0.3261416674328075, 'max_delta_step': 2}. Best is trial 137 with value: 0.5555870831421031.\n",
      "[I 2025-05-26 20:37:38,408] Trial 142 finished with value: 0.5568199264165328 and parameters: {'n_estimators': 1200, 'learning_rate': 0.01467973983032732, 'grow_policy': 'lossguide', 'max_leaves': 160, 'min_child_weight': 2.5337288298192897, 'subsample': 0.9, 'colsample_bytree': 0.6, 'reg_lambda': 0.2579611439296296, 'reg_alpha': 6.247647676637384, 'gamma': 0.17762474040111947, 'max_delta_step': 2}. Best is trial 137 with value: 0.5555870831421031.\n",
      "[I 2025-05-26 20:37:45,096] Trial 143 finished with value: 0.5578828027297729 and parameters: {'n_estimators': 1200, 'learning_rate': 0.015051081239323302, 'grow_policy': 'lossguide', 'max_leaves': 160, 'min_child_weight': 2.561024745523356, 'subsample': 0.9, 'colsample_bytree': 0.6, 'reg_lambda': 0.2507990877007803, 'reg_alpha': 8.191998436298382, 'gamma': 0.19551614988666502, 'max_delta_step': 2}. Best is trial 137 with value: 0.5555870831421031.\n",
      "[I 2025-05-26 20:37:50,375] Trial 144 finished with value: 0.5589946558604888 and parameters: {'n_estimators': 1200, 'learning_rate': 0.013565626329871973, 'grow_policy': 'lossguide', 'max_leaves': 160, 'min_child_weight': 2.7902870131668593, 'subsample': 0.9, 'colsample_bytree': 0.6, 'reg_lambda': 0.15142150304902227, 'reg_alpha': 6.637352525121111, 'gamma': 0.39933748816751086, 'max_delta_step': 2}. Best is trial 137 with value: 0.5555870831421031.\n",
      "[I 2025-05-26 20:37:58,924] Trial 145 finished with value: 0.5562584490291862 and parameters: {'n_estimators': 1200, 'learning_rate': 0.016574904461298282, 'grow_policy': 'lossguide', 'max_leaves': 128, 'min_child_weight': 1.994951865184299, 'subsample': 0.9, 'colsample_bytree': 0.6, 'reg_lambda': 0.17387757726219377, 'reg_alpha': 5.638004371895155, 'gamma': 0.003276566092781333, 'max_delta_step': 3}. Best is trial 137 with value: 0.5555870831421031.\n",
      "[I 2025-05-26 20:38:01,561] Trial 146 finished with value: 0.5804942263366015 and parameters: {'n_estimators': 1200, 'learning_rate': 0.014585681525511434, 'grow_policy': 'lossguide', 'max_leaves': 160, 'min_child_weight': 2.2455793442865954, 'subsample': 0.9, 'colsample_bytree': 0.6, 'reg_lambda': 0.1477534683686838, 'reg_alpha': 5.5094413840765615, 'gamma': 3.6925222324477813, 'max_delta_step': 3}. Best is trial 137 with value: 0.5555870831421031.\n",
      "[I 2025-05-26 20:38:06,279] Trial 147 finished with value: 0.5570158705695933 and parameters: {'n_estimators': 1000, 'learning_rate': 0.018577364707519587, 'grow_policy': 'lossguide', 'max_leaves': 128, 'min_child_weight': 2.0093924416683997, 'subsample': 0.9, 'colsample_bytree': 0.6, 'reg_lambda': 0.452939318994719, 'reg_alpha': 6.019308958588112, 'gamma': 0.28487555077893806, 'max_delta_step': 3}. Best is trial 137 with value: 0.5555870831421031.\n",
      "[I 2025-05-26 20:38:10,182] Trial 148 finished with value: 0.559641175247331 and parameters: {'n_estimators': 1200, 'learning_rate': 0.017000392708577346, 'grow_policy': 'lossguide', 'max_leaves': 128, 'min_child_weight': 1.8351595620554866, 'subsample': 0.9, 'colsample_bytree': 0.6, 'reg_lambda': 0.27258338532147597, 'reg_alpha': 3.051040860830466, 'gamma': 0.5692236715977457, 'max_delta_step': 3}. Best is trial 137 with value: 0.5555870831421031.\n",
      "[I 2025-05-26 20:38:15,075] Trial 149 finished with value: 0.5584624866646818 and parameters: {'n_estimators': 1200, 'learning_rate': 0.013337453076424578, 'grow_policy': 'lossguide', 'max_leaves': 128, 'min_child_weight': 2.1350515347767405, 'subsample': 1.0, 'colsample_bytree': 0.6, 'reg_lambda': 0.3909000807100313, 'reg_alpha': 4.939160045803666, 'gamma': 0.1612934673560993, 'max_delta_step': 3}. Best is trial 137 with value: 0.5555870831421031.\n",
      "[I 2025-05-26 20:38:21,168] Trial 150 finished with value: 0.5785036404791417 and parameters: {'n_estimators': 1200, 'learning_rate': 0.16877630658513035, 'grow_policy': 'lossguide', 'max_leaves': 160, 'min_child_weight': 2.601100033175312, 'subsample': 0.9, 'colsample_bytree': 0.6, 'reg_lambda': 0.16755057814495933, 'reg_alpha': 3.6427179130837994, 'gamma': 0.008139312208733207, 'max_delta_step': 2}. Best is trial 137 with value: 0.5555870831421031.\n",
      "[I 2025-05-26 20:38:27,819] Trial 151 finished with value: 0.5559852170917723 and parameters: {'n_estimators': 1200, 'learning_rate': 0.015086984533432017, 'grow_policy': 'lossguide', 'max_leaves': 128, 'min_child_weight': 3.0329271444628465, 'subsample': 0.9, 'colsample_bytree': 0.6, 'reg_lambda': 0.12180187263344588, 'reg_alpha': 4.364186445658777, 'gamma': 0.16725430340159764, 'max_delta_step': 2}. Best is trial 137 with value: 0.5555870831421031.\n",
      "[I 2025-05-26 20:38:33,872] Trial 152 finished with value: 0.5607339719584866 and parameters: {'n_estimators': 1200, 'learning_rate': 0.014875865342622004, 'grow_policy': 'lossguide', 'max_leaves': 128, 'min_child_weight': 2.943271775541645, 'subsample': 0.9, 'colsample_bytree': 0.6, 'reg_lambda': 0.11452606703930732, 'reg_alpha': 13.664702866813062, 'gamma': 0.20377593475423653, 'max_delta_step': 2}. Best is trial 137 with value: 0.5555870831421031.\n",
      "[I 2025-05-26 20:38:39,005] Trial 153 finished with value: 0.5575813151048041 and parameters: {'n_estimators': 1000, 'learning_rate': 0.012943133407448558, 'grow_policy': 'lossguide', 'max_leaves': 128, 'min_child_weight': 2.4116993904664987, 'subsample': 0.9, 'colsample_bytree': 0.6, 'reg_lambda': 0.6208115764162213, 'reg_alpha': 3.9346836832987977, 'gamma': 0.32795778002546083, 'max_delta_step': 2}. Best is trial 137 with value: 0.5555870831421031.\n",
      "[I 2025-05-26 20:38:44,762] Trial 154 finished with value: 0.5563445002563171 and parameters: {'n_estimators': 1200, 'learning_rate': 0.016309911580524795, 'grow_policy': 'lossguide', 'max_leaves': 96, 'min_child_weight': 2.726731597804067, 'subsample': 0.9, 'colsample_bytree': 0.6, 'reg_lambda': 0.08732048467256712, 'reg_alpha': 4.660009051589861, 'gamma': 0.15933649927208066, 'max_delta_step': 2}. Best is trial 137 with value: 0.5555870831421031.\n",
      "[I 2025-05-26 20:38:48,603] Trial 155 finished with value: 0.5589696539384994 and parameters: {'n_estimators': 1200, 'learning_rate': 0.01629175463968321, 'grow_policy': 'lossguide', 'max_leaves': 96, 'min_child_weight': 2.0156852631100675, 'subsample': 0.9, 'colsample_bytree': 0.6, 'reg_lambda': 0.06055360769490488, 'reg_alpha': 4.416738260185908, 'gamma': 0.4734720787027596, 'max_delta_step': 2}. Best is trial 137 with value: 0.5555870831421031.\n",
      "[I 2025-05-26 20:38:55,604] Trial 156 finished with value: 0.5561956500881695 and parameters: {'n_estimators': 1400, 'learning_rate': 0.017919311949081827, 'grow_policy': 'lossguide', 'max_leaves': 96, 'min_child_weight': 2.739279208012375, 'subsample': 0.9, 'colsample_bytree': 0.6, 'reg_lambda': 0.07062219896832934, 'reg_alpha': 6.2987803358967955, 'gamma': 0.10819230896365022, 'max_delta_step': 2}. Best is trial 137 with value: 0.5555870831421031.\n",
      "[I 2025-05-26 20:39:03,120] Trial 157 finished with value: 0.556787565492135 and parameters: {'n_estimators': 1400, 'learning_rate': 0.01886591777731825, 'grow_policy': 'lossguide', 'max_leaves': 96, 'min_child_weight': 2.688301096003472, 'subsample': 0.9, 'colsample_bytree': 0.6, 'reg_lambda': 0.06323650309287801, 'reg_alpha': 7.157952547909002, 'gamma': 0.011870870000266579, 'max_delta_step': 2}. Best is trial 137 with value: 0.5555870831421031.\n",
      "[I 2025-05-26 20:39:10,503] Trial 158 finished with value: 0.5567296646293787 and parameters: {'n_estimators': 1400, 'learning_rate': 0.01913752939602181, 'grow_policy': 'lossguide', 'max_leaves': 96, 'min_child_weight': 2.768705723340875, 'subsample': 0.9, 'colsample_bytree': 0.6, 'reg_lambda': 0.06502095113405257, 'reg_alpha': 7.239888964075621, 'gamma': 0.01929850086072532, 'max_delta_step': 2}. Best is trial 137 with value: 0.5555870831421031.\n",
      "[I 2025-05-26 20:39:17,833] Trial 159 finished with value: 0.5568530809923545 and parameters: {'n_estimators': 1400, 'learning_rate': 0.019588306061300676, 'grow_policy': 'lossguide', 'max_leaves': 96, 'min_child_weight': 2.7158638723953414, 'subsample': 0.9, 'colsample_bytree': 0.6, 'reg_lambda': 0.03231672828386684, 'reg_alpha': 7.184358763059733, 'gamma': 0.026809522805316073, 'max_delta_step': 2}. Best is trial 137 with value: 0.5555870831421031.\n",
      "[I 2025-05-26 20:39:24,491] Trial 160 finished with value: 0.5566360888527409 and parameters: {'n_estimators': 1400, 'learning_rate': 0.0181508112379909, 'grow_policy': 'lossguide', 'max_leaves': 96, 'min_child_weight': 3.1369842127640437, 'subsample': 0.9, 'colsample_bytree': 0.6, 'reg_lambda': 0.06298570898283767, 'reg_alpha': 7.948930845515271, 'gamma': 0.10266371286174569, 'max_delta_step': 2}. Best is trial 137 with value: 0.5555870831421031.\n",
      "[I 2025-05-26 20:39:31,845] Trial 161 finished with value: 0.5569627419081268 and parameters: {'n_estimators': 1400, 'learning_rate': 0.01795550163263812, 'grow_policy': 'lossguide', 'max_leaves': 96, 'min_child_weight': 3.1449251657659483, 'subsample': 0.9, 'colsample_bytree': 0.6, 'reg_lambda': 0.06483507672172457, 'reg_alpha': 7.906936028844981, 'gamma': 0.0025418628200662517, 'max_delta_step': 2}. Best is trial 137 with value: 0.5555870831421031.\n",
      "[I 2025-05-26 20:39:37,986] Trial 162 finished with value: 0.5561895733459595 and parameters: {'n_estimators': 1400, 'learning_rate': 0.02040622829520701, 'grow_policy': 'lossguide', 'max_leaves': 96, 'min_child_weight': 2.8098363447172603, 'subsample': 0.9, 'colsample_bytree': 0.6, 'reg_lambda': 0.0296531221197652, 'reg_alpha': 6.961051087082633, 'gamma': 0.12452580183474751, 'max_delta_step': 2}. Best is trial 137 with value: 0.5555870831421031.\n",
      "[I 2025-05-26 20:39:44,593] Trial 163 finished with value: 0.5565591138222653 and parameters: {'n_estimators': 1400, 'learning_rate': 0.017776112785027925, 'grow_policy': 'lossguide', 'max_leaves': 96, 'min_child_weight': 2.918371086202897, 'subsample': 0.9, 'colsample_bytree': 0.6, 'reg_lambda': 0.016262316300977853, 'reg_alpha': 7.369246076314193, 'gamma': 0.12377445939227066, 'max_delta_step': 2}. Best is trial 137 with value: 0.5555870831421031.\n",
      "[I 2025-05-26 20:39:48,981] Trial 164 finished with value: 0.5574498537010589 and parameters: {'n_estimators': 1400, 'learning_rate': 0.021037482728283655, 'grow_policy': 'lossguide', 'max_leaves': 96, 'min_child_weight': 2.879056408622452, 'subsample': 0.9, 'colsample_bytree': 0.6, 'reg_lambda': 0.02034243372100301, 'reg_alpha': 8.117700892969442, 'gamma': 0.29009964953654294, 'max_delta_step': 2}. Best is trial 137 with value: 0.5555870831421031.\n",
      "[I 2025-05-26 20:39:53,079] Trial 165 finished with value: 0.5580488154194898 and parameters: {'n_estimators': 1400, 'learning_rate': 0.01727125273289805, 'grow_policy': 'lossguide', 'max_leaves': 96, 'min_child_weight': 3.098780572671452, 'subsample': 0.9, 'colsample_bytree': 0.6, 'reg_lambda': 0.027640767356756475, 'reg_alpha': 6.792987562224776, 'gamma': 0.3816020522782316, 'max_delta_step': 2}. Best is trial 137 with value: 0.5555870831421031.\n",
      "[I 2025-05-26 20:39:58,741] Trial 166 finished with value: 0.5564719177538813 and parameters: {'n_estimators': 1400, 'learning_rate': 0.020684737705613677, 'grow_policy': 'lossguide', 'max_leaves': 96, 'min_child_weight': 3.884250844131618, 'subsample': 0.9, 'colsample_bytree': 0.6, 'reg_lambda': 0.014015250224230863, 'reg_alpha': 7.736016661540683, 'gamma': 0.17319124656405582, 'max_delta_step': 2}. Best is trial 137 with value: 0.5555870831421031.\n",
      "[I 2025-05-26 20:40:01,338] Trial 167 finished with value: 0.5685997891160157 and parameters: {'n_estimators': 1400, 'learning_rate': 0.020507497170785254, 'grow_policy': 'lossguide', 'max_leaves': 96, 'min_child_weight': 3.382046216363782, 'subsample': 0.9, 'colsample_bytree': 0.6, 'reg_lambda': 0.00641412948664266, 'reg_alpha': 7.458934187797883, 'gamma': 1.5726257072318717, 'max_delta_step': 2}. Best is trial 137 with value: 0.5555870831421031.\n",
      "[I 2025-05-26 20:40:06,220] Trial 168 finished with value: 0.5575309682916438 and parameters: {'n_estimators': 1400, 'learning_rate': 0.019049412337926182, 'grow_policy': 'lossguide', 'max_leaves': 96, 'min_child_weight': 3.5234543254393484, 'subsample': 0.9, 'colsample_bytree': 0.6, 'reg_lambda': 0.007259052078922292, 'reg_alpha': 7.573920711536603, 'gamma': 0.2566259800522709, 'max_delta_step': 2}. Best is trial 137 with value: 0.5555870831421031.\n",
      "[I 2025-05-26 20:40:08,342] Trial 169 finished with value: 0.5864902606697708 and parameters: {'n_estimators': 1400, 'learning_rate': 0.020091956088236308, 'grow_policy': 'lossguide', 'max_leaves': 96, 'min_child_weight': 3.8816843947012307, 'subsample': 0.9, 'colsample_bytree': 0.6, 'reg_lambda': 0.011040819045480437, 'reg_alpha': 6.777955928073209, 'gamma': 4.942762511895732, 'max_delta_step': 2}. Best is trial 137 with value: 0.5555870831421031.\n",
      "[I 2025-05-26 20:40:14,378] Trial 170 finished with value: 0.5567261827708561 and parameters: {'n_estimators': 1400, 'learning_rate': 0.016698302909090256, 'grow_policy': 'lossguide', 'max_leaves': 96, 'min_child_weight': 3.136305887360545, 'subsample': 0.9, 'colsample_bytree': 0.6, 'reg_lambda': 0.015618179575321682, 'reg_alpha': 7.890652533339362, 'gamma': 0.192674176868938, 'max_delta_step': 2}. Best is trial 137 with value: 0.5555870831421031.\n",
      "[I 2025-05-26 20:40:20,658] Trial 171 finished with value: 0.557305583621652 and parameters: {'n_estimators': 1400, 'learning_rate': 0.018291372721677253, 'grow_policy': 'lossguide', 'max_leaves': 96, 'min_child_weight': 2.8797836398885472, 'subsample': 0.9, 'colsample_bytree': 0.6, 'reg_lambda': 0.019539267195394124, 'reg_alpha': 9.355880019658183, 'gamma': 0.151450271503795, 'max_delta_step': 2}. Best is trial 137 with value: 0.5555870831421031.\n",
      "[I 2025-05-26 20:40:27,772] Trial 172 finished with value: 0.5567361241031032 and parameters: {'n_estimators': 1400, 'learning_rate': 0.01720129223182821, 'grow_policy': 'lossguide', 'max_leaves': 96, 'min_child_weight': 3.8562042191164405, 'subsample': 0.9, 'colsample_bytree': 0.6, 'reg_lambda': 0.01540425743461074, 'reg_alpha': 8.408025117803799, 'gamma': 0.11931217921406978, 'max_delta_step': 2}. Best is trial 137 with value: 0.5555870831421031.\n",
      "[I 2025-05-26 20:40:32,577] Trial 173 finished with value: 0.5576837161939541 and parameters: {'n_estimators': 1400, 'learning_rate': 0.016885440264580772, 'grow_policy': 'lossguide', 'max_leaves': 96, 'min_child_weight': 3.18225314397879, 'subsample': 0.9, 'colsample_bytree': 0.6, 'reg_lambda': 0.0830876272886939, 'reg_alpha': 7.849624721155115, 'gamma': 0.29641395118226754, 'max_delta_step': 4}. Best is trial 137 with value: 0.5555870831421031.\n",
      "[I 2025-05-26 20:40:37,603] Trial 174 finished with value: 0.5563422605471318 and parameters: {'n_estimators': 1400, 'learning_rate': 0.021752750646311002, 'grow_policy': 'lossguide', 'max_leaves': 96, 'min_child_weight': 3.450533017303986, 'subsample': 0.9, 'colsample_bytree': 0.6, 'reg_lambda': 0.03044811572120967, 'reg_alpha': 6.948047066987731, 'gamma': 0.19178947917404887, 'max_delta_step': 2}. Best is trial 137 with value: 0.5555870831421031.\n",
      "[I 2025-05-26 20:40:41,950] Trial 175 finished with value: 0.5578705295410623 and parameters: {'n_estimators': 1400, 'learning_rate': 0.021440744069141576, 'grow_policy': 'lossguide', 'max_leaves': 128, 'min_child_weight': 4.199863626321897, 'subsample': 0.9, 'colsample_bytree': 0.6, 'reg_lambda': 0.035768752205154915, 'reg_alpha': 6.498346536102009, 'gamma': 0.37429805503889185, 'max_delta_step': 2}. Best is trial 137 with value: 0.5555870831421031.\n",
      "[I 2025-05-26 20:40:48,447] Trial 176 finished with value: 0.5564802214239999 and parameters: {'n_estimators': 1400, 'learning_rate': 0.016117100551305087, 'grow_policy': 'lossguide', 'max_leaves': 96, 'min_child_weight': 3.485872448525313, 'subsample': 0.9, 'colsample_bytree': 0.6, 'reg_lambda': 0.012286570957740732, 'reg_alpha': 6.870550976309603, 'gamma': 0.1631570480449224, 'max_delta_step': 2}. Best is trial 137 with value: 0.5555870831421031.\n",
      "[I 2025-05-26 20:40:52,803] Trial 177 finished with value: 0.559268149860045 and parameters: {'n_estimators': 1400, 'learning_rate': 0.01785691493567437, 'grow_policy': 'lossguide', 'max_leaves': 128, 'min_child_weight': 3.444091856422876, 'subsample': 0.9, 'colsample_bytree': 0.6, 'reg_lambda': 0.010305725141523793, 'reg_alpha': 6.933114359055258, 'gamma': 0.4581653546729302, 'max_delta_step': 3}. Best is trial 137 with value: 0.5555870831421031.\n",
      "[I 2025-05-26 20:40:59,334] Trial 178 finished with value: 0.5570637970702339 and parameters: {'n_estimators': 1400, 'learning_rate': 0.01581220474534558, 'grow_policy': 'lossguide', 'max_leaves': 96, 'min_child_weight': 3.941663533735197, 'subsample': 0.9, 'colsample_bytree': 0.6, 'reg_lambda': 0.02470098311706453, 'reg_alpha': 8.894001280053441, 'gamma': 0.16263876748887485, 'max_delta_step': 2}. Best is trial 137 with value: 0.5555870831421031.\n",
      "[I 2025-05-26 20:41:01,595] Trial 179 finished with value: 0.5786355111420224 and parameters: {'n_estimators': 1200, 'learning_rate': 0.022321404436742152, 'grow_policy': 'lossguide', 'max_leaves': 128, 'min_child_weight': 3.7228720012061207, 'subsample': 0.9, 'colsample_bytree': 0.6, 'reg_lambda': 0.04919104040419903, 'reg_alpha': 7.492114537959769, 'gamma': 3.124838745550136, 'max_delta_step': 2}. Best is trial 137 with value: 0.5555870831421031.\n",
      "[I 2025-05-26 20:41:06,405] Trial 180 finished with value: 0.557649197016715 and parameters: {'n_estimators': 1400, 'learning_rate': 0.020424794092797925, 'grow_policy': 'lossguide', 'max_leaves': 128, 'min_child_weight': 3.4108991430669406, 'subsample': 0.9, 'colsample_bytree': 0.6, 'reg_lambda': 0.04017543092632827, 'reg_alpha': 6.984002545933275, 'gamma': 0.2868122380826681, 'max_delta_step': 2}. Best is trial 137 with value: 0.5555870831421031.\n",
      "[I 2025-05-26 20:41:12,386] Trial 181 finished with value: 0.5559992601556318 and parameters: {'n_estimators': 1400, 'learning_rate': 0.01592328666443442, 'grow_policy': 'lossguide', 'max_leaves': 96, 'min_child_weight': 3.1185765067493687, 'subsample': 0.9, 'colsample_bytree': 0.6, 'reg_lambda': 0.012776861396244085, 'reg_alpha': 5.930352977704107, 'gamma': 0.1857033311329167, 'max_delta_step': 2}. Best is trial 137 with value: 0.5555870831421031.\n",
      "[I 2025-05-26 20:41:19,296] Trial 182 finished with value: 0.5563361049239738 and parameters: {'n_estimators': 1400, 'learning_rate': 0.01575406710178184, 'grow_policy': 'lossguide', 'max_leaves': 96, 'min_child_weight': 3.0553560112634552, 'subsample': 0.9, 'colsample_bytree': 0.6, 'reg_lambda': 0.009870855761428418, 'reg_alpha': 6.21662127525884, 'gamma': 0.13761052919902123, 'max_delta_step': 2}. Best is trial 137 with value: 0.5555870831421031.\n",
      "[I 2025-05-26 20:41:24,728] Trial 183 finished with value: 0.5568753572634051 and parameters: {'n_estimators': 1400, 'learning_rate': 0.01596349461025143, 'grow_policy': 'lossguide', 'max_leaves': 96, 'min_child_weight': 2.9174057114415506, 'subsample': 0.9, 'colsample_bytree': 0.6, 'reg_lambda': 0.011346694438527264, 'reg_alpha': 6.635700911512044, 'gamma': 0.24538037003194835, 'max_delta_step': 2}. Best is trial 137 with value: 0.5555870831421031.\n",
      "[I 2025-05-26 20:41:31,668] Trial 184 finished with value: 0.5561866624710388 and parameters: {'n_estimators': 1400, 'learning_rate': 0.01840380278540258, 'grow_policy': 'lossguide', 'max_leaves': 96, 'min_child_weight': 3.13231716208518, 'subsample': 0.9, 'colsample_bytree': 0.6, 'reg_lambda': 0.0039398158377903225, 'reg_alpha': 6.227847401137884, 'gamma': 0.11626145073289329, 'max_delta_step': 2}. Best is trial 137 with value: 0.5555870831421031.\n",
      "[I 2025-05-26 20:41:36,288] Trial 185 finished with value: 0.5578251020481144 and parameters: {'n_estimators': 1400, 'learning_rate': 0.01528419681405346, 'grow_policy': 'lossguide', 'max_leaves': 96, 'min_child_weight': 2.3667927505618724, 'subsample': 0.9, 'colsample_bytree': 0.6, 'reg_lambda': 0.009107328984076046, 'reg_alpha': 5.71618175916136, 'gamma': 0.38445393357699037, 'max_delta_step': 2}. Best is trial 137 with value: 0.5555870831421031.\n",
      "[I 2025-05-26 20:41:42,387] Trial 186 finished with value: 0.5563450004765489 and parameters: {'n_estimators': 1400, 'learning_rate': 0.01915816313438342, 'grow_policy': 'lossguide', 'max_leaves': 96, 'min_child_weight': 3.595394410719748, 'subsample': 0.9, 'colsample_bytree': 0.6, 'reg_lambda': 0.0042345174441552535, 'reg_alpha': 6.223583846970044, 'gamma': 0.1575668963030992, 'max_delta_step': 2}. Best is trial 137 with value: 0.5555870831421031.\n",
      "[I 2025-05-26 20:41:47,409] Trial 187 finished with value: 0.5567137743885741 and parameters: {'n_estimators': 1200, 'learning_rate': 0.016284797435279948, 'grow_policy': 'lossguide', 'max_leaves': 96, 'min_child_weight': 5.301191608793619, 'subsample': 0.9, 'colsample_bytree': 0.6, 'reg_lambda': 0.0050043096842366745, 'reg_alpha': 6.198277196181706, 'gamma': 0.23988609097143174, 'max_delta_step': 2}. Best is trial 137 with value: 0.5555870831421031.\n",
      "[I 2025-05-26 20:41:52,069] Trial 188 finished with value: 0.5574966576642868 and parameters: {'n_estimators': 1600, 'learning_rate': 0.019821830503551994, 'grow_policy': 'lossguide', 'max_leaves': 128, 'min_child_weight': 3.617189257657113, 'subsample': 0.9, 'colsample_bytree': 0.6, 'reg_lambda': 0.004391966936010545, 'reg_alpha': 6.028518571969256, 'gamma': 0.32130934214410545, 'max_delta_step': 2}. Best is trial 137 with value: 0.5555870831421031.\n",
      "[I 2025-05-26 20:41:58,745] Trial 189 finished with value: 0.555730077189309 and parameters: {'n_estimators': 1400, 'learning_rate': 0.01418607313895041, 'grow_policy': 'lossguide', 'max_leaves': 96, 'min_child_weight': 3.534914490661877, 'subsample': 0.9, 'colsample_bytree': 0.6, 'reg_lambda': 0.001984578928250325, 'reg_alpha': 5.85096973012988, 'gamma': 0.1547777514339297, 'max_delta_step': 2}. Best is trial 137 with value: 0.5555870831421031.\n",
      "[I 2025-05-26 20:42:04,655] Trial 190 finished with value: 0.5563153197716361 and parameters: {'n_estimators': 1400, 'learning_rate': 0.014460017076856383, 'grow_policy': 'lossguide', 'max_leaves': 96, 'min_child_weight': 4.039771448764391, 'subsample': 0.9, 'colsample_bytree': 0.6, 'reg_lambda': 0.0014372553905451972, 'reg_alpha': 6.359573054291397, 'gamma': 0.19352309750467633, 'max_delta_step': 2}. Best is trial 137 with value: 0.5555870831421031.\n",
      "[I 2025-05-26 20:42:10,423] Trial 191 finished with value: 0.5560773139084665 and parameters: {'n_estimators': 1400, 'learning_rate': 0.013917541819426369, 'grow_policy': 'lossguide', 'max_leaves': 96, 'min_child_weight': 4.1350821504795165, 'subsample': 0.9, 'colsample_bytree': 0.6, 'reg_lambda': 0.004916023228978665, 'reg_alpha': 6.4228374540842506, 'gamma': 0.21104751853658849, 'max_delta_step': 2}. Best is trial 137 with value: 0.5555870831421031.\n",
      "[I 2025-05-26 20:42:16,558] Trial 192 finished with value: 0.5558826496911615 and parameters: {'n_estimators': 1400, 'learning_rate': 0.014044092575120438, 'grow_policy': 'lossguide', 'max_leaves': 96, 'min_child_weight': 4.05082258327637, 'subsample': 0.9, 'colsample_bytree': 0.6, 'reg_lambda': 0.0015696582305083247, 'reg_alpha': 6.034153401232517, 'gamma': 0.17371847332511156, 'max_delta_step': 2}. Best is trial 137 with value: 0.5555870831421031.\n",
      "[I 2025-05-26 20:42:22,478] Trial 193 finished with value: 0.5560279735037249 and parameters: {'n_estimators': 1400, 'learning_rate': 0.01403760405619462, 'grow_policy': 'lossguide', 'max_leaves': 96, 'min_child_weight': 4.142798131212983, 'subsample': 0.9, 'colsample_bytree': 0.6, 'reg_lambda': 0.0016547298317503303, 'reg_alpha': 6.359524515816617, 'gamma': 0.2016725006883067, 'max_delta_step': 2}. Best is trial 137 with value: 0.5555870831421031.\n",
      "[I 2025-05-26 20:42:26,903] Trial 194 finished with value: 0.5583364477518515 and parameters: {'n_estimators': 1400, 'learning_rate': 0.013820351012457904, 'grow_policy': 'lossguide', 'max_leaves': 96, 'min_child_weight': 5.003659141777322, 'subsample': 0.9, 'colsample_bytree': 0.6, 'reg_lambda': 0.0019135792607200286, 'reg_alpha': 6.364928466733408, 'gamma': 0.4193101476995297, 'max_delta_step': 2}. Best is trial 137 with value: 0.5555870831421031.\n",
      "[I 2025-05-26 20:42:34,531] Trial 195 finished with value: 0.555769489663901 and parameters: {'n_estimators': 1400, 'learning_rate': 0.014247527858943678, 'grow_policy': 'lossguide', 'max_leaves': 96, 'min_child_weight': 4.474442798818908, 'subsample': 0.9, 'colsample_bytree': 0.6, 'reg_lambda': 0.0020246330549118733, 'reg_alpha': 5.922082752889857, 'gamma': 0.07803489804947274, 'max_delta_step': 2}. Best is trial 137 with value: 0.5555870831421031.\n",
      "[I 2025-05-26 20:42:42,226] Trial 196 finished with value: 0.555971192461255 and parameters: {'n_estimators': 1400, 'learning_rate': 0.014478569200115327, 'grow_policy': 'lossguide', 'max_leaves': 96, 'min_child_weight': 6.109718979030003, 'subsample': 0.9, 'colsample_bytree': 0.6, 'reg_lambda': 0.0016576112534896835, 'reg_alpha': 5.833738405530737, 'gamma': 0.01215887843607738, 'max_delta_step': 2}. Best is trial 137 with value: 0.5555870831421031.\n",
      "[I 2025-05-26 20:42:49,854] Trial 197 finished with value: 0.5561592054574638 and parameters: {'n_estimators': 1400, 'learning_rate': 0.014193032223633871, 'grow_policy': 'lossguide', 'max_leaves': 96, 'min_child_weight': 4.701129426728013, 'subsample': 0.9, 'colsample_bytree': 0.6, 'reg_lambda': 0.0014267689171380854, 'reg_alpha': 5.937758612154155, 'gamma': 0.09321525098504392, 'max_delta_step': 2}. Best is trial 137 with value: 0.5555870831421031.\n",
      "[I 2025-05-26 20:42:57,622] Trial 198 finished with value: 0.5559089707940503 and parameters: {'n_estimators': 1400, 'learning_rate': 0.014266560792126843, 'grow_policy': 'lossguide', 'max_leaves': 96, 'min_child_weight': 6.443260354188136, 'subsample': 0.9, 'colsample_bytree': 0.6, 'reg_lambda': 0.0013824565225369317, 'reg_alpha': 5.827203020534414, 'gamma': 0.0051687728463563065, 'max_delta_step': 2}. Best is trial 137 with value: 0.5555870831421031.\n",
      "[I 2025-05-26 20:43:05,216] Trial 199 finished with value: 0.5559280242285343 and parameters: {'n_estimators': 1400, 'learning_rate': 0.014031751713400901, 'grow_policy': 'lossguide', 'max_leaves': 96, 'min_child_weight': 6.291145923249282, 'subsample': 0.9, 'colsample_bytree': 0.6, 'reg_lambda': 0.0014065408693773977, 'reg_alpha': 5.818256549182367, 'gamma': 0.002999451770977085, 'max_delta_step': 2}. Best is trial 137 with value: 0.5555870831421031.\n",
      "Best RMSE : 0.5555870831421031\n",
      "Best parameters: {'n_estimators': 1200, 'learning_rate': 0.014562414208702372, 'grow_policy': 'lossguide', 'max_leaves': 128, 'min_child_weight': 2.7472005252618814, 'subsample': 0.9, 'colsample_bytree': 0.6, 'reg_lambda': 0.18644737880752021, 'reg_alpha': 4.679204693291257, 'gamma': 0.18391510356680496, 'max_delta_step': 2}\n"
     ]
    }
   ],
   "source": [
    "y = train_df[\"target\"].values\n",
    "X = train_df.drop(columns=\"target\")\n",
    "\n",
    "cv = KFold(n_splits=5, shuffle=True, random_state=SEED)\n",
    "\n",
    "\n",
    "def objective(trial):\n",
    "    # (a) Ensemble size: bias keeps shrinking until ~2 000 trees; step 200 keeps search\n",
    "    # grid compact.\n",
    "    n_estimators = trial.suggest_int(\"n_estimators\", 200, 2000, step=200)\n",
    "\n",
    "    # (b) Learning rate: 0.01 allows large n_estimators; 0.3 speeds depth-wise models\n",
    "    # when the tree budget is small.\n",
    "    learning_rate = trial.suggest_float(\"learning_rate\", 0.01, 0.3, log=True)\n",
    "\n",
    "    # (c) Growth policy – explore depth-wise vs leaf-wise.\n",
    "    grow_policy = trial.suggest_categorical(\"grow_policy\", [\"depthwise\", \"lossguide\"])\n",
    "    if grow_policy == \"depthwise\":\n",
    "        # Depth 3–12: deeper trees OK with 20k rows.\n",
    "        max_depth = trial.suggest_int(\"max_depth\", 3, 12)\n",
    "        max_leaves = 0  # ignored in depthwise\n",
    "    else:  # lossguide\n",
    "        max_depth = 0  # ignored in lossguide\n",
    "        # Leaves cap 32–256 keeps memory in check.\n",
    "        max_leaves = trial.suggest_int(\"max_leaves\", 32, 256, step=32)\n",
    "\n",
    "    # (d) Child-weight: 0.5–20 smooths noisy rural tracts but still lets splits through\n",
    "    # dense city areas.\n",
    "    min_child_weight = trial.suggest_float(\"min_child_weight\", 0.5, 20.0, log=True)\n",
    "\n",
    "    # (e) Row / column subsampling:\n",
    "    # - row 0.6–1.0  (>=12k rows/tree).\n",
    "    # - column 0.6–1.0  (>=15 of 24 features).\n",
    "    subsample = trial.suggest_float(\"subsample\", 0.6, 1.0, step=0.1)\n",
    "    colsample_bytree = trial.suggest_float(\"colsample_bytree\", 0.6, 1.0, step=0.1)\n",
    "\n",
    "    # (f) Regularisation:\n",
    "    reg_lambda = trial.suggest_float(\"reg_lambda\", 1e-3, 50.0, log=True)  # L2\n",
    "    reg_alpha = trial.suggest_float(\"reg_alpha\", 0.0, 15.0)  # L1\n",
    "    gamma = trial.suggest_float(\"gamma\", 0.0, 5.0)  # min-split-loss\n",
    "\n",
    "    # (g) Max-delta-step:\n",
    "    max_delta_step = trial.suggest_int(\"max_delta_step\", 0, 5)\n",
    "\n",
    "    # Model\n",
    "    xgb = XGBRegressor(\n",
    "        n_estimators=n_estimators,\n",
    "        learning_rate=learning_rate,\n",
    "        max_depth=max_depth,\n",
    "        max_leaves=max_leaves,\n",
    "        grow_policy=grow_policy,\n",
    "        min_child_weight=min_child_weight,\n",
    "        subsample=subsample,\n",
    "        colsample_bytree=colsample_bytree,\n",
    "        gamma=gamma,\n",
    "        reg_lambda=reg_lambda,\n",
    "        reg_alpha=reg_alpha,\n",
    "        max_delta_step=max_delta_step,\n",
    "        objective=\"reg:squarederror\",\n",
    "        tree_method=\"hist\",  # fast & deterministic on CPU\n",
    "        random_state=SEED,\n",
    "        n_jobs=1,\n",
    "    )\n",
    "\n",
    "    # CV evaluation (sklearn returns –RMSE -> negate)\n",
    "    rmse = -cross_val_score(\n",
    "        xgb, X, y, cv=cv, scoring=\"neg_root_mean_squared_error\", n_jobs=-1\n",
    "    ).mean()\n",
    "    return rmse\n",
    "\n",
    "\n",
    "study_xgb = optuna.create_study(\n",
    "    direction=\"minimize\",\n",
    "    sampler=TPESampler(seed=SEED),\n",
    "    pruner=HyperbandPruner(),  # cuts weak configs quickly\n",
    "    study_name=f\"XGB_{DATASET_NAME}\",\n",
    ")\n",
    "\n",
    "study_xgb.optimize(objective, n_trials=200, show_progress_bar=True)\n",
    "\n",
    "print(\"Best RMSE :\", study_xgb.best_value)\n",
    "print(\"Best parameters:\", study_xgb.best_params)"
   ]
  },
  {
   "cell_type": "code",
   "execution_count": 14,
   "id": "43019d81",
   "metadata": {},
   "outputs": [
    {
     "data": {
      "application/vnd.plotly.v1+json": {
       "config": {
        "plotlyServerURL": "https://plot.ly"
       },
       "data": [
        {
         "mode": "markers",
         "name": "Objective Value",
         "type": "scatter",
         "x": [
          0,
          1,
          2,
          3,
          4,
          5,
          6,
          7,
          8,
          9,
          10,
          11,
          12,
          13,
          14,
          15,
          16,
          17,
          18,
          19,
          20,
          21,
          22,
          23,
          24,
          25,
          26,
          27,
          28,
          29,
          30,
          31,
          32,
          33,
          34,
          35,
          36,
          37,
          38,
          39,
          40,
          41,
          42,
          43,
          44,
          45,
          46,
          47,
          48,
          49,
          50,
          51,
          52,
          53,
          54,
          55,
          56,
          57,
          58,
          59,
          60,
          61,
          62,
          63,
          64,
          65,
          66,
          67,
          68,
          69,
          70,
          71,
          72,
          73,
          74,
          75,
          76,
          77,
          78,
          79,
          80,
          81,
          82,
          83,
          84,
          85,
          86,
          87,
          88,
          89,
          90,
          91,
          92,
          93,
          94,
          95,
          96,
          97,
          98,
          99,
          100,
          101,
          102,
          103,
          104,
          105,
          106,
          107,
          108,
          109,
          110,
          111,
          112,
          113,
          114,
          115,
          116,
          117,
          118,
          119,
          120,
          121,
          122,
          123,
          124,
          125,
          126,
          127,
          128,
          129,
          130,
          131,
          132,
          133,
          134,
          135,
          136,
          137,
          138,
          139,
          140,
          141,
          142,
          143,
          144,
          145,
          146,
          147,
          148,
          149,
          150,
          151,
          152,
          153,
          154,
          155,
          156,
          157,
          158,
          159,
          160,
          161,
          162,
          163,
          164,
          165,
          166,
          167,
          168,
          169,
          170,
          171,
          172,
          173,
          174,
          175,
          176,
          177,
          178,
          179,
          180,
          181,
          182,
          183,
          184,
          185,
          186,
          187,
          188,
          189,
          190,
          191,
          192,
          193,
          194,
          195,
          196,
          197,
          198,
          199
         ],
         "y": [
          0.5655291441232226,
          0.5730565937028201,
          0.5872328561676201,
          0.6010757847636563,
          0.5788103578815518,
          0.566491360884835,
          0.5854755620840237,
          0.5744862233510449,
          0.5748100694626045,
          0.5912339281403822,
          0.5815210772420848,
          0.5762617751187853,
          0.5976281377538049,
          0.5796984943060753,
          0.5662800154996438,
          0.5833722909617473,
          0.5649942927780357,
          0.5624596951360095,
          0.5726474096785017,
          0.5639963911121689,
          0.579133575275603,
          0.5640202307465846,
          0.565208581980961,
          0.571276945091415,
          0.5647668784642903,
          0.5616632900270455,
          0.5712509779927488,
          0.5613087335271276,
          0.560764003585481,
          0.5862292913355021,
          0.5618709572392075,
          0.5609426670144109,
          0.5625022827586044,
          0.5646138513398262,
          0.569798126216013,
          0.5611724705018921,
          0.5652178106619401,
          0.5659008867484271,
          0.5572343067590982,
          0.5590293616963832,
          0.55776121211707,
          0.557325039984849,
          0.557392536450324,
          0.5562924266954341,
          0.5570571202274166,
          0.5591424745418612,
          0.5596835206624198,
          0.5599595015109692,
          0.5936567929861021,
          0.5828664747431143,
          0.5588202720870369,
          0.5577542871405761,
          0.562224397833001,
          0.5605382135257182,
          0.5609122762231291,
          0.5839861617621827,
          0.5614684157412764,
          0.5714269834109331,
          0.5579421279599035,
          0.5640291930498708,
          0.5808355158344098,
          0.5581676863372453,
          0.5659069109458927,
          0.565412165957184,
          0.5607420209213979,
          0.5581823498528768,
          0.5585369593065356,
          0.5692060651923541,
          0.5651206852264,
          0.5770452567918178,
          0.560828372668128,
          0.5584688122492366,
          0.5770970083117449,
          0.5610717547088656,
          0.5759626423233151,
          0.5603593330090918,
          0.5669272781631665,
          0.5635459276579076,
          0.5601930163517291,
          0.5614624876330137,
          0.5589962334747878,
          0.5571857750424802,
          0.5592365591074767,
          0.5612109237934628,
          0.578690170237416,
          0.5608642234765475,
          0.5857235951741353,
          0.5605707184929835,
          0.5582990308292073,
          0.562262743132892,
          0.5603210545728612,
          0.5582073139735008,
          0.556718583821034,
          0.5609999006873808,
          0.5607146583948339,
          0.5580277942144283,
          0.5598269851392027,
          0.5698916447569419,
          0.557582445080911,
          0.5607971218310481,
          0.5565451676743605,
          0.5569107694590654,
          0.5573638447091659,
          0.5577832135838934,
          0.5582004085062511,
          0.5608767720852849,
          0.5570658279130554,
          0.5567671666097089,
          0.5570525267287628,
          0.5573430844264642,
          0.5596438984477199,
          0.5569465244393298,
          0.5615056513063097,
          0.5601960302154799,
          0.5627893260156069,
          0.5599491104515296,
          0.5571207218177735,
          0.5575074118142855,
          0.5627826411998716,
          0.5725573085387581,
          0.5646268300378523,
          0.5559376066321913,
          0.5563388449280604,
          0.5567399286559862,
          0.5573384999387245,
          0.5575594289634183,
          0.5570121929987499,
          0.5576518348091939,
          0.5801328540247225,
          0.5599600055707185,
          0.5569931837715647,
          0.556181244779124,
          0.5576919783250871,
          0.5570610522259624,
          0.5565410021071654,
          0.5571247268823069,
          0.5573880902384232,
          0.5555870831421031,
          0.5580054132512886,
          0.5568894572429505,
          0.5570859177860131,
          0.5570258099425601,
          0.5568199264165328,
          0.5578828027297729,
          0.5589946558604888,
          0.5562584490291862,
          0.5804942263366015,
          0.5570158705695933,
          0.559641175247331,
          0.5584624866646818,
          0.5785036404791417,
          0.5559852170917723,
          0.5607339719584866,
          0.5575813151048041,
          0.5563445002563171,
          0.5589696539384994,
          0.5561956500881695,
          0.556787565492135,
          0.5567296646293787,
          0.5568530809923545,
          0.5566360888527409,
          0.5569627419081268,
          0.5561895733459595,
          0.5565591138222653,
          0.5574498537010589,
          0.5580488154194898,
          0.5564719177538813,
          0.5685997891160157,
          0.5575309682916438,
          0.5864902606697708,
          0.5567261827708561,
          0.557305583621652,
          0.5567361241031032,
          0.5576837161939541,
          0.5563422605471318,
          0.5578705295410623,
          0.5564802214239999,
          0.559268149860045,
          0.5570637970702339,
          0.5786355111420224,
          0.557649197016715,
          0.5559992601556318,
          0.5563361049239738,
          0.5568753572634051,
          0.5561866624710388,
          0.5578251020481144,
          0.5563450004765489,
          0.5567137743885741,
          0.5574966576642868,
          0.555730077189309,
          0.5563153197716361,
          0.5560773139084665,
          0.5558826496911615,
          0.5560279735037249,
          0.5583364477518515,
          0.555769489663901,
          0.555971192461255,
          0.5561592054574638,
          0.5559089707940503,
          0.5559280242285343
         ]
        },
        {
         "mode": "lines",
         "name": "Best Value",
         "type": "scatter",
         "x": [
          0,
          1,
          2,
          3,
          4,
          5,
          6,
          7,
          8,
          9,
          10,
          11,
          12,
          13,
          14,
          15,
          16,
          17,
          18,
          19,
          20,
          21,
          22,
          23,
          24,
          25,
          26,
          27,
          28,
          29,
          30,
          31,
          32,
          33,
          34,
          35,
          36,
          37,
          38,
          39,
          40,
          41,
          42,
          43,
          44,
          45,
          46,
          47,
          48,
          49,
          50,
          51,
          52,
          53,
          54,
          55,
          56,
          57,
          58,
          59,
          60,
          61,
          62,
          63,
          64,
          65,
          66,
          67,
          68,
          69,
          70,
          71,
          72,
          73,
          74,
          75,
          76,
          77,
          78,
          79,
          80,
          81,
          82,
          83,
          84,
          85,
          86,
          87,
          88,
          89,
          90,
          91,
          92,
          93,
          94,
          95,
          96,
          97,
          98,
          99,
          100,
          101,
          102,
          103,
          104,
          105,
          106,
          107,
          108,
          109,
          110,
          111,
          112,
          113,
          114,
          115,
          116,
          117,
          118,
          119,
          120,
          121,
          122,
          123,
          124,
          125,
          126,
          127,
          128,
          129,
          130,
          131,
          132,
          133,
          134,
          135,
          136,
          137,
          138,
          139,
          140,
          141,
          142,
          143,
          144,
          145,
          146,
          147,
          148,
          149,
          150,
          151,
          152,
          153,
          154,
          155,
          156,
          157,
          158,
          159,
          160,
          161,
          162,
          163,
          164,
          165,
          166,
          167,
          168,
          169,
          170,
          171,
          172,
          173,
          174,
          175,
          176,
          177,
          178,
          179,
          180,
          181,
          182,
          183,
          184,
          185,
          186,
          187,
          188,
          189,
          190,
          191,
          192,
          193,
          194,
          195,
          196,
          197,
          198,
          199
         ],
         "y": [
          0.5655291441232226,
          0.5655291441232226,
          0.5655291441232226,
          0.5655291441232226,
          0.5655291441232226,
          0.5655291441232226,
          0.5655291441232226,
          0.5655291441232226,
          0.5655291441232226,
          0.5655291441232226,
          0.5655291441232226,
          0.5655291441232226,
          0.5655291441232226,
          0.5655291441232226,
          0.5655291441232226,
          0.5655291441232226,
          0.5649942927780357,
          0.5624596951360095,
          0.5624596951360095,
          0.5624596951360095,
          0.5624596951360095,
          0.5624596951360095,
          0.5624596951360095,
          0.5624596951360095,
          0.5624596951360095,
          0.5616632900270455,
          0.5616632900270455,
          0.5613087335271276,
          0.560764003585481,
          0.560764003585481,
          0.560764003585481,
          0.560764003585481,
          0.560764003585481,
          0.560764003585481,
          0.560764003585481,
          0.560764003585481,
          0.560764003585481,
          0.560764003585481,
          0.5572343067590982,
          0.5572343067590982,
          0.5572343067590982,
          0.5572343067590982,
          0.5572343067590982,
          0.5562924266954341,
          0.5562924266954341,
          0.5562924266954341,
          0.5562924266954341,
          0.5562924266954341,
          0.5562924266954341,
          0.5562924266954341,
          0.5562924266954341,
          0.5562924266954341,
          0.5562924266954341,
          0.5562924266954341,
          0.5562924266954341,
          0.5562924266954341,
          0.5562924266954341,
          0.5562924266954341,
          0.5562924266954341,
          0.5562924266954341,
          0.5562924266954341,
          0.5562924266954341,
          0.5562924266954341,
          0.5562924266954341,
          0.5562924266954341,
          0.5562924266954341,
          0.5562924266954341,
          0.5562924266954341,
          0.5562924266954341,
          0.5562924266954341,
          0.5562924266954341,
          0.5562924266954341,
          0.5562924266954341,
          0.5562924266954341,
          0.5562924266954341,
          0.5562924266954341,
          0.5562924266954341,
          0.5562924266954341,
          0.5562924266954341,
          0.5562924266954341,
          0.5562924266954341,
          0.5562924266954341,
          0.5562924266954341,
          0.5562924266954341,
          0.5562924266954341,
          0.5562924266954341,
          0.5562924266954341,
          0.5562924266954341,
          0.5562924266954341,
          0.5562924266954341,
          0.5562924266954341,
          0.5562924266954341,
          0.5562924266954341,
          0.5562924266954341,
          0.5562924266954341,
          0.5562924266954341,
          0.5562924266954341,
          0.5562924266954341,
          0.5562924266954341,
          0.5562924266954341,
          0.5562924266954341,
          0.5562924266954341,
          0.5562924266954341,
          0.5562924266954341,
          0.5562924266954341,
          0.5562924266954341,
          0.5562924266954341,
          0.5562924266954341,
          0.5562924266954341,
          0.5562924266954341,
          0.5562924266954341,
          0.5562924266954341,
          0.5562924266954341,
          0.5562924266954341,
          0.5562924266954341,
          0.5562924266954341,
          0.5562924266954341,
          0.5562924266954341,
          0.5562924266954341,
          0.5562924266954341,
          0.5562924266954341,
          0.5559376066321913,
          0.5559376066321913,
          0.5559376066321913,
          0.5559376066321913,
          0.5559376066321913,
          0.5559376066321913,
          0.5559376066321913,
          0.5559376066321913,
          0.5559376066321913,
          0.5559376066321913,
          0.5559376066321913,
          0.5559376066321913,
          0.5559376066321913,
          0.5559376066321913,
          0.5559376066321913,
          0.5559376066321913,
          0.5555870831421031,
          0.5555870831421031,
          0.5555870831421031,
          0.5555870831421031,
          0.5555870831421031,
          0.5555870831421031,
          0.5555870831421031,
          0.5555870831421031,
          0.5555870831421031,
          0.5555870831421031,
          0.5555870831421031,
          0.5555870831421031,
          0.5555870831421031,
          0.5555870831421031,
          0.5555870831421031,
          0.5555870831421031,
          0.5555870831421031,
          0.5555870831421031,
          0.5555870831421031,
          0.5555870831421031,
          0.5555870831421031,
          0.5555870831421031,
          0.5555870831421031,
          0.5555870831421031,
          0.5555870831421031,
          0.5555870831421031,
          0.5555870831421031,
          0.5555870831421031,
          0.5555870831421031,
          0.5555870831421031,
          0.5555870831421031,
          0.5555870831421031,
          0.5555870831421031,
          0.5555870831421031,
          0.5555870831421031,
          0.5555870831421031,
          0.5555870831421031,
          0.5555870831421031,
          0.5555870831421031,
          0.5555870831421031,
          0.5555870831421031,
          0.5555870831421031,
          0.5555870831421031,
          0.5555870831421031,
          0.5555870831421031,
          0.5555870831421031,
          0.5555870831421031,
          0.5555870831421031,
          0.5555870831421031,
          0.5555870831421031,
          0.5555870831421031,
          0.5555870831421031,
          0.5555870831421031,
          0.5555870831421031,
          0.5555870831421031,
          0.5555870831421031,
          0.5555870831421031,
          0.5555870831421031,
          0.5555870831421031,
          0.5555870831421031,
          0.5555870831421031,
          0.5555870831421031,
          0.5555870831421031
         ]
        },
        {
         "marker": {
          "color": "#cccccc"
         },
         "mode": "markers",
         "name": "Infeasible Trial",
         "showlegend": false,
         "type": "scatter",
         "x": [],
         "y": []
        }
       ],
       "layout": {
        "template": {
         "data": {
          "bar": [
           {
            "error_x": {
             "color": "#f2f5fa"
            },
            "error_y": {
             "color": "#f2f5fa"
            },
            "marker": {
             "line": {
              "color": "rgb(17,17,17)",
              "width": 0.5
             },
             "pattern": {
              "fillmode": "overlay",
              "size": 10,
              "solidity": 0.2
             }
            },
            "type": "bar"
           }
          ],
          "barpolar": [
           {
            "marker": {
             "line": {
              "color": "rgb(17,17,17)",
              "width": 0.5
             },
             "pattern": {
              "fillmode": "overlay",
              "size": 10,
              "solidity": 0.2
             }
            },
            "type": "barpolar"
           }
          ],
          "carpet": [
           {
            "aaxis": {
             "endlinecolor": "#A2B1C6",
             "gridcolor": "#506784",
             "linecolor": "#506784",
             "minorgridcolor": "#506784",
             "startlinecolor": "#A2B1C6"
            },
            "baxis": {
             "endlinecolor": "#A2B1C6",
             "gridcolor": "#506784",
             "linecolor": "#506784",
             "minorgridcolor": "#506784",
             "startlinecolor": "#A2B1C6"
            },
            "type": "carpet"
           }
          ],
          "choropleth": [
           {
            "colorbar": {
             "outlinewidth": 0,
             "ticks": ""
            },
            "type": "choropleth"
           }
          ],
          "contour": [
           {
            "colorbar": {
             "outlinewidth": 0,
             "ticks": ""
            },
            "colorscale": [
             [
              0,
              "#0d0887"
             ],
             [
              0.1111111111111111,
              "#46039f"
             ],
             [
              0.2222222222222222,
              "#7201a8"
             ],
             [
              0.3333333333333333,
              "#9c179e"
             ],
             [
              0.4444444444444444,
              "#bd3786"
             ],
             [
              0.5555555555555556,
              "#d8576b"
             ],
             [
              0.6666666666666666,
              "#ed7953"
             ],
             [
              0.7777777777777778,
              "#fb9f3a"
             ],
             [
              0.8888888888888888,
              "#fdca26"
             ],
             [
              1,
              "#f0f921"
             ]
            ],
            "type": "contour"
           }
          ],
          "contourcarpet": [
           {
            "colorbar": {
             "outlinewidth": 0,
             "ticks": ""
            },
            "type": "contourcarpet"
           }
          ],
          "heatmap": [
           {
            "colorbar": {
             "outlinewidth": 0,
             "ticks": ""
            },
            "colorscale": [
             [
              0,
              "#0d0887"
             ],
             [
              0.1111111111111111,
              "#46039f"
             ],
             [
              0.2222222222222222,
              "#7201a8"
             ],
             [
              0.3333333333333333,
              "#9c179e"
             ],
             [
              0.4444444444444444,
              "#bd3786"
             ],
             [
              0.5555555555555556,
              "#d8576b"
             ],
             [
              0.6666666666666666,
              "#ed7953"
             ],
             [
              0.7777777777777778,
              "#fb9f3a"
             ],
             [
              0.8888888888888888,
              "#fdca26"
             ],
             [
              1,
              "#f0f921"
             ]
            ],
            "type": "heatmap"
           }
          ],
          "histogram": [
           {
            "marker": {
             "pattern": {
              "fillmode": "overlay",
              "size": 10,
              "solidity": 0.2
             }
            },
            "type": "histogram"
           }
          ],
          "histogram2d": [
           {
            "colorbar": {
             "outlinewidth": 0,
             "ticks": ""
            },
            "colorscale": [
             [
              0,
              "#0d0887"
             ],
             [
              0.1111111111111111,
              "#46039f"
             ],
             [
              0.2222222222222222,
              "#7201a8"
             ],
             [
              0.3333333333333333,
              "#9c179e"
             ],
             [
              0.4444444444444444,
              "#bd3786"
             ],
             [
              0.5555555555555556,
              "#d8576b"
             ],
             [
              0.6666666666666666,
              "#ed7953"
             ],
             [
              0.7777777777777778,
              "#fb9f3a"
             ],
             [
              0.8888888888888888,
              "#fdca26"
             ],
             [
              1,
              "#f0f921"
             ]
            ],
            "type": "histogram2d"
           }
          ],
          "histogram2dcontour": [
           {
            "colorbar": {
             "outlinewidth": 0,
             "ticks": ""
            },
            "colorscale": [
             [
              0,
              "#0d0887"
             ],
             [
              0.1111111111111111,
              "#46039f"
             ],
             [
              0.2222222222222222,
              "#7201a8"
             ],
             [
              0.3333333333333333,
              "#9c179e"
             ],
             [
              0.4444444444444444,
              "#bd3786"
             ],
             [
              0.5555555555555556,
              "#d8576b"
             ],
             [
              0.6666666666666666,
              "#ed7953"
             ],
             [
              0.7777777777777778,
              "#fb9f3a"
             ],
             [
              0.8888888888888888,
              "#fdca26"
             ],
             [
              1,
              "#f0f921"
             ]
            ],
            "type": "histogram2dcontour"
           }
          ],
          "mesh3d": [
           {
            "colorbar": {
             "outlinewidth": 0,
             "ticks": ""
            },
            "type": "mesh3d"
           }
          ],
          "parcoords": [
           {
            "line": {
             "colorbar": {
              "outlinewidth": 0,
              "ticks": ""
             }
            },
            "type": "parcoords"
           }
          ],
          "pie": [
           {
            "automargin": true,
            "type": "pie"
           }
          ],
          "scatter": [
           {
            "marker": {
             "line": {
              "color": "#283442"
             }
            },
            "type": "scatter"
           }
          ],
          "scatter3d": [
           {
            "line": {
             "colorbar": {
              "outlinewidth": 0,
              "ticks": ""
             }
            },
            "marker": {
             "colorbar": {
              "outlinewidth": 0,
              "ticks": ""
             }
            },
            "type": "scatter3d"
           }
          ],
          "scattercarpet": [
           {
            "marker": {
             "colorbar": {
              "outlinewidth": 0,
              "ticks": ""
             }
            },
            "type": "scattercarpet"
           }
          ],
          "scattergeo": [
           {
            "marker": {
             "colorbar": {
              "outlinewidth": 0,
              "ticks": ""
             }
            },
            "type": "scattergeo"
           }
          ],
          "scattergl": [
           {
            "marker": {
             "line": {
              "color": "#283442"
             }
            },
            "type": "scattergl"
           }
          ],
          "scattermap": [
           {
            "marker": {
             "colorbar": {
              "outlinewidth": 0,
              "ticks": ""
             }
            },
            "type": "scattermap"
           }
          ],
          "scattermapbox": [
           {
            "marker": {
             "colorbar": {
              "outlinewidth": 0,
              "ticks": ""
             }
            },
            "type": "scattermapbox"
           }
          ],
          "scatterpolar": [
           {
            "marker": {
             "colorbar": {
              "outlinewidth": 0,
              "ticks": ""
             }
            },
            "type": "scatterpolar"
           }
          ],
          "scatterpolargl": [
           {
            "marker": {
             "colorbar": {
              "outlinewidth": 0,
              "ticks": ""
             }
            },
            "type": "scatterpolargl"
           }
          ],
          "scatterternary": [
           {
            "marker": {
             "colorbar": {
              "outlinewidth": 0,
              "ticks": ""
             }
            },
            "type": "scatterternary"
           }
          ],
          "surface": [
           {
            "colorbar": {
             "outlinewidth": 0,
             "ticks": ""
            },
            "colorscale": [
             [
              0,
              "#0d0887"
             ],
             [
              0.1111111111111111,
              "#46039f"
             ],
             [
              0.2222222222222222,
              "#7201a8"
             ],
             [
              0.3333333333333333,
              "#9c179e"
             ],
             [
              0.4444444444444444,
              "#bd3786"
             ],
             [
              0.5555555555555556,
              "#d8576b"
             ],
             [
              0.6666666666666666,
              "#ed7953"
             ],
             [
              0.7777777777777778,
              "#fb9f3a"
             ],
             [
              0.8888888888888888,
              "#fdca26"
             ],
             [
              1,
              "#f0f921"
             ]
            ],
            "type": "surface"
           }
          ],
          "table": [
           {
            "cells": {
             "fill": {
              "color": "#506784"
             },
             "line": {
              "color": "rgb(17,17,17)"
             }
            },
            "header": {
             "fill": {
              "color": "#2a3f5f"
             },
             "line": {
              "color": "rgb(17,17,17)"
             }
            },
            "type": "table"
           }
          ]
         },
         "layout": {
          "annotationdefaults": {
           "arrowcolor": "#f2f5fa",
           "arrowhead": 0,
           "arrowwidth": 1
          },
          "autotypenumbers": "strict",
          "coloraxis": {
           "colorbar": {
            "outlinewidth": 0,
            "ticks": ""
           }
          },
          "colorscale": {
           "diverging": [
            [
             0,
             "#8e0152"
            ],
            [
             0.1,
             "#c51b7d"
            ],
            [
             0.2,
             "#de77ae"
            ],
            [
             0.3,
             "#f1b6da"
            ],
            [
             0.4,
             "#fde0ef"
            ],
            [
             0.5,
             "#f7f7f7"
            ],
            [
             0.6,
             "#e6f5d0"
            ],
            [
             0.7,
             "#b8e186"
            ],
            [
             0.8,
             "#7fbc41"
            ],
            [
             0.9,
             "#4d9221"
            ],
            [
             1,
             "#276419"
            ]
           ],
           "sequential": [
            [
             0,
             "#0d0887"
            ],
            [
             0.1111111111111111,
             "#46039f"
            ],
            [
             0.2222222222222222,
             "#7201a8"
            ],
            [
             0.3333333333333333,
             "#9c179e"
            ],
            [
             0.4444444444444444,
             "#bd3786"
            ],
            [
             0.5555555555555556,
             "#d8576b"
            ],
            [
             0.6666666666666666,
             "#ed7953"
            ],
            [
             0.7777777777777778,
             "#fb9f3a"
            ],
            [
             0.8888888888888888,
             "#fdca26"
            ],
            [
             1,
             "#f0f921"
            ]
           ],
           "sequentialminus": [
            [
             0,
             "#0d0887"
            ],
            [
             0.1111111111111111,
             "#46039f"
            ],
            [
             0.2222222222222222,
             "#7201a8"
            ],
            [
             0.3333333333333333,
             "#9c179e"
            ],
            [
             0.4444444444444444,
             "#bd3786"
            ],
            [
             0.5555555555555556,
             "#d8576b"
            ],
            [
             0.6666666666666666,
             "#ed7953"
            ],
            [
             0.7777777777777778,
             "#fb9f3a"
            ],
            [
             0.8888888888888888,
             "#fdca26"
            ],
            [
             1,
             "#f0f921"
            ]
           ]
          },
          "colorway": [
           "#636efa",
           "#EF553B",
           "#00cc96",
           "#ab63fa",
           "#FFA15A",
           "#19d3f3",
           "#FF6692",
           "#B6E880",
           "#FF97FF",
           "#FECB52"
          ],
          "font": {
           "color": "#f2f5fa"
          },
          "geo": {
           "bgcolor": "rgb(17,17,17)",
           "lakecolor": "rgb(17,17,17)",
           "landcolor": "rgb(17,17,17)",
           "showlakes": true,
           "showland": true,
           "subunitcolor": "#506784"
          },
          "hoverlabel": {
           "align": "left"
          },
          "hovermode": "closest",
          "mapbox": {
           "style": "dark"
          },
          "paper_bgcolor": "rgb(17,17,17)",
          "plot_bgcolor": "rgb(17,17,17)",
          "polar": {
           "angularaxis": {
            "gridcolor": "#506784",
            "linecolor": "#506784",
            "ticks": ""
           },
           "bgcolor": "rgb(17,17,17)",
           "radialaxis": {
            "gridcolor": "#506784",
            "linecolor": "#506784",
            "ticks": ""
           }
          },
          "scene": {
           "xaxis": {
            "backgroundcolor": "rgb(17,17,17)",
            "gridcolor": "#506784",
            "gridwidth": 2,
            "linecolor": "#506784",
            "showbackground": true,
            "ticks": "",
            "zerolinecolor": "#C8D4E3"
           },
           "yaxis": {
            "backgroundcolor": "rgb(17,17,17)",
            "gridcolor": "#506784",
            "gridwidth": 2,
            "linecolor": "#506784",
            "showbackground": true,
            "ticks": "",
            "zerolinecolor": "#C8D4E3"
           },
           "zaxis": {
            "backgroundcolor": "rgb(17,17,17)",
            "gridcolor": "#506784",
            "gridwidth": 2,
            "linecolor": "#506784",
            "showbackground": true,
            "ticks": "",
            "zerolinecolor": "#C8D4E3"
           }
          },
          "shapedefaults": {
           "line": {
            "color": "#f2f5fa"
           }
          },
          "sliderdefaults": {
           "bgcolor": "#C8D4E3",
           "bordercolor": "rgb(17,17,17)",
           "borderwidth": 1,
           "tickwidth": 0
          },
          "ternary": {
           "aaxis": {
            "gridcolor": "#506784",
            "linecolor": "#506784",
            "ticks": ""
           },
           "baxis": {
            "gridcolor": "#506784",
            "linecolor": "#506784",
            "ticks": ""
           },
           "bgcolor": "rgb(17,17,17)",
           "caxis": {
            "gridcolor": "#506784",
            "linecolor": "#506784",
            "ticks": ""
           }
          },
          "title": {
           "x": 0.05
          },
          "updatemenudefaults": {
           "bgcolor": "#506784",
           "borderwidth": 0
          },
          "xaxis": {
           "automargin": true,
           "gridcolor": "#283442",
           "linecolor": "#506784",
           "ticks": "",
           "title": {
            "standoff": 15
           },
           "zerolinecolor": "#283442",
           "zerolinewidth": 2
          },
          "yaxis": {
           "automargin": true,
           "gridcolor": "#283442",
           "linecolor": "#506784",
           "ticks": "",
           "title": {
            "standoff": 15
           },
           "zerolinecolor": "#283442",
           "zerolinewidth": 2
          }
         }
        },
        "title": {
         "text": "Optimization History Plot"
        },
        "xaxis": {
         "title": {
          "text": "Trial"
         }
        },
        "yaxis": {
         "title": {
          "text": "Objective Value"
         }
        }
       }
      }
     },
     "metadata": {},
     "output_type": "display_data"
    }
   ],
   "source": [
    "fig = plot_optimization_history(study_xgb)\n",
    "fig.show()"
   ]
  },
  {
   "cell_type": "code",
   "execution_count": 15,
   "id": "7ac6a9a5",
   "metadata": {},
   "outputs": [
    {
     "name": "stdout",
     "output_type": "stream",
     "text": [
      "Best RMSE: 0.5555870831421031\n"
     ]
    }
   ],
   "source": [
    "print(\"Best RMSE:\", study_xgb.best_value)"
   ]
  },
  {
   "cell_type": "code",
   "execution_count": 16,
   "id": "33276076",
   "metadata": {},
   "outputs": [
    {
     "data": {
      "text/plain": [
       "{'n_estimators': 1200,\n",
       " 'learning_rate': 0.014562414208702372,\n",
       " 'grow_policy': 'lossguide',\n",
       " 'max_leaves': 128,\n",
       " 'min_child_weight': 2.7472005252618814,\n",
       " 'subsample': 0.9,\n",
       " 'colsample_bytree': 0.6,\n",
       " 'reg_lambda': 0.18644737880752021,\n",
       " 'reg_alpha': 4.679204693291257,\n",
       " 'gamma': 0.18391510356680496,\n",
       " 'max_delta_step': 2}"
      ]
     },
     "execution_count": 16,
     "metadata": {},
     "output_type": "execute_result"
    }
   ],
   "source": [
    "study_xgb.best_params"
   ]
  },
  {
   "cell_type": "code",
   "execution_count": 17,
   "id": "15c064cd",
   "metadata": {},
   "outputs": [
    {
     "name": "stdout",
     "output_type": "stream",
     "text": [
      "Params saved to src\\bagging_boosting_stacking_study\\configs\\california_housing_xgb.yaml\n"
     ]
    },
    {
     "data": {
      "text/plain": [
       "WindowsPath('C:/code/repos/bagging-boosting-stacking-study/src/bagging_boosting_stacking_study/configs/california_housing_xgb.yaml')"
      ]
     },
     "execution_count": 17,
     "metadata": {},
     "output_type": "execute_result"
    }
   ],
   "source": [
    "# Save best params to .yaml\n",
    "save_params(DATASET_NAME, \"xgb\", study_xgb.best_value, study_xgb.best_params)"
   ]
  },
  {
   "cell_type": "code",
   "execution_count": 18,
   "id": "e30177ae",
   "metadata": {},
   "outputs": [
    {
     "data": {
      "text/html": [
       "<style>#sk-container-id-2 {\n",
       "  /* Definition of color scheme common for light and dark mode */\n",
       "  --sklearn-color-text: #000;\n",
       "  --sklearn-color-text-muted: #666;\n",
       "  --sklearn-color-line: gray;\n",
       "  /* Definition of color scheme for unfitted estimators */\n",
       "  --sklearn-color-unfitted-level-0: #fff5e6;\n",
       "  --sklearn-color-unfitted-level-1: #f6e4d2;\n",
       "  --sklearn-color-unfitted-level-2: #ffe0b3;\n",
       "  --sklearn-color-unfitted-level-3: chocolate;\n",
       "  /* Definition of color scheme for fitted estimators */\n",
       "  --sklearn-color-fitted-level-0: #f0f8ff;\n",
       "  --sklearn-color-fitted-level-1: #d4ebff;\n",
       "  --sklearn-color-fitted-level-2: #b3dbfd;\n",
       "  --sklearn-color-fitted-level-3: cornflowerblue;\n",
       "\n",
       "  /* Specific color for light theme */\n",
       "  --sklearn-color-text-on-default-background: var(--sg-text-color, var(--theme-code-foreground, var(--jp-content-font-color1, black)));\n",
       "  --sklearn-color-background: var(--sg-background-color, var(--theme-background, var(--jp-layout-color0, white)));\n",
       "  --sklearn-color-border-box: var(--sg-text-color, var(--theme-code-foreground, var(--jp-content-font-color1, black)));\n",
       "  --sklearn-color-icon: #696969;\n",
       "\n",
       "  @media (prefers-color-scheme: dark) {\n",
       "    /* Redefinition of color scheme for dark theme */\n",
       "    --sklearn-color-text-on-default-background: var(--sg-text-color, var(--theme-code-foreground, var(--jp-content-font-color1, white)));\n",
       "    --sklearn-color-background: var(--sg-background-color, var(--theme-background, var(--jp-layout-color0, #111)));\n",
       "    --sklearn-color-border-box: var(--sg-text-color, var(--theme-code-foreground, var(--jp-content-font-color1, white)));\n",
       "    --sklearn-color-icon: #878787;\n",
       "  }\n",
       "}\n",
       "\n",
       "#sk-container-id-2 {\n",
       "  color: var(--sklearn-color-text);\n",
       "}\n",
       "\n",
       "#sk-container-id-2 pre {\n",
       "  padding: 0;\n",
       "}\n",
       "\n",
       "#sk-container-id-2 input.sk-hidden--visually {\n",
       "  border: 0;\n",
       "  clip: rect(1px 1px 1px 1px);\n",
       "  clip: rect(1px, 1px, 1px, 1px);\n",
       "  height: 1px;\n",
       "  margin: -1px;\n",
       "  overflow: hidden;\n",
       "  padding: 0;\n",
       "  position: absolute;\n",
       "  width: 1px;\n",
       "}\n",
       "\n",
       "#sk-container-id-2 div.sk-dashed-wrapped {\n",
       "  border: 1px dashed var(--sklearn-color-line);\n",
       "  margin: 0 0.4em 0.5em 0.4em;\n",
       "  box-sizing: border-box;\n",
       "  padding-bottom: 0.4em;\n",
       "  background-color: var(--sklearn-color-background);\n",
       "}\n",
       "\n",
       "#sk-container-id-2 div.sk-container {\n",
       "  /* jupyter's `normalize.less` sets `[hidden] { display: none; }`\n",
       "     but bootstrap.min.css set `[hidden] { display: none !important; }`\n",
       "     so we also need the `!important` here to be able to override the\n",
       "     default hidden behavior on the sphinx rendered scikit-learn.org.\n",
       "     See: https://github.com/scikit-learn/scikit-learn/issues/21755 */\n",
       "  display: inline-block !important;\n",
       "  position: relative;\n",
       "}\n",
       "\n",
       "#sk-container-id-2 div.sk-text-repr-fallback {\n",
       "  display: none;\n",
       "}\n",
       "\n",
       "div.sk-parallel-item,\n",
       "div.sk-serial,\n",
       "div.sk-item {\n",
       "  /* draw centered vertical line to link estimators */\n",
       "  background-image: linear-gradient(var(--sklearn-color-text-on-default-background), var(--sklearn-color-text-on-default-background));\n",
       "  background-size: 2px 100%;\n",
       "  background-repeat: no-repeat;\n",
       "  background-position: center center;\n",
       "}\n",
       "\n",
       "/* Parallel-specific style estimator block */\n",
       "\n",
       "#sk-container-id-2 div.sk-parallel-item::after {\n",
       "  content: \"\";\n",
       "  width: 100%;\n",
       "  border-bottom: 2px solid var(--sklearn-color-text-on-default-background);\n",
       "  flex-grow: 1;\n",
       "}\n",
       "\n",
       "#sk-container-id-2 div.sk-parallel {\n",
       "  display: flex;\n",
       "  align-items: stretch;\n",
       "  justify-content: center;\n",
       "  background-color: var(--sklearn-color-background);\n",
       "  position: relative;\n",
       "}\n",
       "\n",
       "#sk-container-id-2 div.sk-parallel-item {\n",
       "  display: flex;\n",
       "  flex-direction: column;\n",
       "}\n",
       "\n",
       "#sk-container-id-2 div.sk-parallel-item:first-child::after {\n",
       "  align-self: flex-end;\n",
       "  width: 50%;\n",
       "}\n",
       "\n",
       "#sk-container-id-2 div.sk-parallel-item:last-child::after {\n",
       "  align-self: flex-start;\n",
       "  width: 50%;\n",
       "}\n",
       "\n",
       "#sk-container-id-2 div.sk-parallel-item:only-child::after {\n",
       "  width: 0;\n",
       "}\n",
       "\n",
       "/* Serial-specific style estimator block */\n",
       "\n",
       "#sk-container-id-2 div.sk-serial {\n",
       "  display: flex;\n",
       "  flex-direction: column;\n",
       "  align-items: center;\n",
       "  background-color: var(--sklearn-color-background);\n",
       "  padding-right: 1em;\n",
       "  padding-left: 1em;\n",
       "}\n",
       "\n",
       "\n",
       "/* Toggleable style: style used for estimator/Pipeline/ColumnTransformer box that is\n",
       "clickable and can be expanded/collapsed.\n",
       "- Pipeline and ColumnTransformer use this feature and define the default style\n",
       "- Estimators will overwrite some part of the style using the `sk-estimator` class\n",
       "*/\n",
       "\n",
       "/* Pipeline and ColumnTransformer style (default) */\n",
       "\n",
       "#sk-container-id-2 div.sk-toggleable {\n",
       "  /* Default theme specific background. It is overwritten whether we have a\n",
       "  specific estimator or a Pipeline/ColumnTransformer */\n",
       "  background-color: var(--sklearn-color-background);\n",
       "}\n",
       "\n",
       "/* Toggleable label */\n",
       "#sk-container-id-2 label.sk-toggleable__label {\n",
       "  cursor: pointer;\n",
       "  display: flex;\n",
       "  width: 100%;\n",
       "  margin-bottom: 0;\n",
       "  padding: 0.5em;\n",
       "  box-sizing: border-box;\n",
       "  text-align: center;\n",
       "  align-items: start;\n",
       "  justify-content: space-between;\n",
       "  gap: 0.5em;\n",
       "}\n",
       "\n",
       "#sk-container-id-2 label.sk-toggleable__label .caption {\n",
       "  font-size: 0.6rem;\n",
       "  font-weight: lighter;\n",
       "  color: var(--sklearn-color-text-muted);\n",
       "}\n",
       "\n",
       "#sk-container-id-2 label.sk-toggleable__label-arrow:before {\n",
       "  /* Arrow on the left of the label */\n",
       "  content: \"▸\";\n",
       "  float: left;\n",
       "  margin-right: 0.25em;\n",
       "  color: var(--sklearn-color-icon);\n",
       "}\n",
       "\n",
       "#sk-container-id-2 label.sk-toggleable__label-arrow:hover:before {\n",
       "  color: var(--sklearn-color-text);\n",
       "}\n",
       "\n",
       "/* Toggleable content - dropdown */\n",
       "\n",
       "#sk-container-id-2 div.sk-toggleable__content {\n",
       "  max-height: 0;\n",
       "  max-width: 0;\n",
       "  overflow: hidden;\n",
       "  text-align: left;\n",
       "  /* unfitted */\n",
       "  background-color: var(--sklearn-color-unfitted-level-0);\n",
       "}\n",
       "\n",
       "#sk-container-id-2 div.sk-toggleable__content.fitted {\n",
       "  /* fitted */\n",
       "  background-color: var(--sklearn-color-fitted-level-0);\n",
       "}\n",
       "\n",
       "#sk-container-id-2 div.sk-toggleable__content pre {\n",
       "  margin: 0.2em;\n",
       "  border-radius: 0.25em;\n",
       "  color: var(--sklearn-color-text);\n",
       "  /* unfitted */\n",
       "  background-color: var(--sklearn-color-unfitted-level-0);\n",
       "}\n",
       "\n",
       "#sk-container-id-2 div.sk-toggleable__content.fitted pre {\n",
       "  /* unfitted */\n",
       "  background-color: var(--sklearn-color-fitted-level-0);\n",
       "}\n",
       "\n",
       "#sk-container-id-2 input.sk-toggleable__control:checked~div.sk-toggleable__content {\n",
       "  /* Expand drop-down */\n",
       "  max-height: 200px;\n",
       "  max-width: 100%;\n",
       "  overflow: auto;\n",
       "}\n",
       "\n",
       "#sk-container-id-2 input.sk-toggleable__control:checked~label.sk-toggleable__label-arrow:before {\n",
       "  content: \"▾\";\n",
       "}\n",
       "\n",
       "/* Pipeline/ColumnTransformer-specific style */\n",
       "\n",
       "#sk-container-id-2 div.sk-label input.sk-toggleable__control:checked~label.sk-toggleable__label {\n",
       "  color: var(--sklearn-color-text);\n",
       "  background-color: var(--sklearn-color-unfitted-level-2);\n",
       "}\n",
       "\n",
       "#sk-container-id-2 div.sk-label.fitted input.sk-toggleable__control:checked~label.sk-toggleable__label {\n",
       "  background-color: var(--sklearn-color-fitted-level-2);\n",
       "}\n",
       "\n",
       "/* Estimator-specific style */\n",
       "\n",
       "/* Colorize estimator box */\n",
       "#sk-container-id-2 div.sk-estimator input.sk-toggleable__control:checked~label.sk-toggleable__label {\n",
       "  /* unfitted */\n",
       "  background-color: var(--sklearn-color-unfitted-level-2);\n",
       "}\n",
       "\n",
       "#sk-container-id-2 div.sk-estimator.fitted input.sk-toggleable__control:checked~label.sk-toggleable__label {\n",
       "  /* fitted */\n",
       "  background-color: var(--sklearn-color-fitted-level-2);\n",
       "}\n",
       "\n",
       "#sk-container-id-2 div.sk-label label.sk-toggleable__label,\n",
       "#sk-container-id-2 div.sk-label label {\n",
       "  /* The background is the default theme color */\n",
       "  color: var(--sklearn-color-text-on-default-background);\n",
       "}\n",
       "\n",
       "/* On hover, darken the color of the background */\n",
       "#sk-container-id-2 div.sk-label:hover label.sk-toggleable__label {\n",
       "  color: var(--sklearn-color-text);\n",
       "  background-color: var(--sklearn-color-unfitted-level-2);\n",
       "}\n",
       "\n",
       "/* Label box, darken color on hover, fitted */\n",
       "#sk-container-id-2 div.sk-label.fitted:hover label.sk-toggleable__label.fitted {\n",
       "  color: var(--sklearn-color-text);\n",
       "  background-color: var(--sklearn-color-fitted-level-2);\n",
       "}\n",
       "\n",
       "/* Estimator label */\n",
       "\n",
       "#sk-container-id-2 div.sk-label label {\n",
       "  font-family: monospace;\n",
       "  font-weight: bold;\n",
       "  display: inline-block;\n",
       "  line-height: 1.2em;\n",
       "}\n",
       "\n",
       "#sk-container-id-2 div.sk-label-container {\n",
       "  text-align: center;\n",
       "}\n",
       "\n",
       "/* Estimator-specific */\n",
       "#sk-container-id-2 div.sk-estimator {\n",
       "  font-family: monospace;\n",
       "  border: 1px dotted var(--sklearn-color-border-box);\n",
       "  border-radius: 0.25em;\n",
       "  box-sizing: border-box;\n",
       "  margin-bottom: 0.5em;\n",
       "  /* unfitted */\n",
       "  background-color: var(--sklearn-color-unfitted-level-0);\n",
       "}\n",
       "\n",
       "#sk-container-id-2 div.sk-estimator.fitted {\n",
       "  /* fitted */\n",
       "  background-color: var(--sklearn-color-fitted-level-0);\n",
       "}\n",
       "\n",
       "/* on hover */\n",
       "#sk-container-id-2 div.sk-estimator:hover {\n",
       "  /* unfitted */\n",
       "  background-color: var(--sklearn-color-unfitted-level-2);\n",
       "}\n",
       "\n",
       "#sk-container-id-2 div.sk-estimator.fitted:hover {\n",
       "  /* fitted */\n",
       "  background-color: var(--sklearn-color-fitted-level-2);\n",
       "}\n",
       "\n",
       "/* Specification for estimator info (e.g. \"i\" and \"?\") */\n",
       "\n",
       "/* Common style for \"i\" and \"?\" */\n",
       "\n",
       ".sk-estimator-doc-link,\n",
       "a:link.sk-estimator-doc-link,\n",
       "a:visited.sk-estimator-doc-link {\n",
       "  float: right;\n",
       "  font-size: smaller;\n",
       "  line-height: 1em;\n",
       "  font-family: monospace;\n",
       "  background-color: var(--sklearn-color-background);\n",
       "  border-radius: 1em;\n",
       "  height: 1em;\n",
       "  width: 1em;\n",
       "  text-decoration: none !important;\n",
       "  margin-left: 0.5em;\n",
       "  text-align: center;\n",
       "  /* unfitted */\n",
       "  border: var(--sklearn-color-unfitted-level-1) 1pt solid;\n",
       "  color: var(--sklearn-color-unfitted-level-1);\n",
       "}\n",
       "\n",
       ".sk-estimator-doc-link.fitted,\n",
       "a:link.sk-estimator-doc-link.fitted,\n",
       "a:visited.sk-estimator-doc-link.fitted {\n",
       "  /* fitted */\n",
       "  border: var(--sklearn-color-fitted-level-1) 1pt solid;\n",
       "  color: var(--sklearn-color-fitted-level-1);\n",
       "}\n",
       "\n",
       "/* On hover */\n",
       "div.sk-estimator:hover .sk-estimator-doc-link:hover,\n",
       ".sk-estimator-doc-link:hover,\n",
       "div.sk-label-container:hover .sk-estimator-doc-link:hover,\n",
       ".sk-estimator-doc-link:hover {\n",
       "  /* unfitted */\n",
       "  background-color: var(--sklearn-color-unfitted-level-3);\n",
       "  color: var(--sklearn-color-background);\n",
       "  text-decoration: none;\n",
       "}\n",
       "\n",
       "div.sk-estimator.fitted:hover .sk-estimator-doc-link.fitted:hover,\n",
       ".sk-estimator-doc-link.fitted:hover,\n",
       "div.sk-label-container:hover .sk-estimator-doc-link.fitted:hover,\n",
       ".sk-estimator-doc-link.fitted:hover {\n",
       "  /* fitted */\n",
       "  background-color: var(--sklearn-color-fitted-level-3);\n",
       "  color: var(--sklearn-color-background);\n",
       "  text-decoration: none;\n",
       "}\n",
       "\n",
       "/* Span, style for the box shown on hovering the info icon */\n",
       ".sk-estimator-doc-link span {\n",
       "  display: none;\n",
       "  z-index: 9999;\n",
       "  position: relative;\n",
       "  font-weight: normal;\n",
       "  right: .2ex;\n",
       "  padding: .5ex;\n",
       "  margin: .5ex;\n",
       "  width: min-content;\n",
       "  min-width: 20ex;\n",
       "  max-width: 50ex;\n",
       "  color: var(--sklearn-color-text);\n",
       "  box-shadow: 2pt 2pt 4pt #999;\n",
       "  /* unfitted */\n",
       "  background: var(--sklearn-color-unfitted-level-0);\n",
       "  border: .5pt solid var(--sklearn-color-unfitted-level-3);\n",
       "}\n",
       "\n",
       ".sk-estimator-doc-link.fitted span {\n",
       "  /* fitted */\n",
       "  background: var(--sklearn-color-fitted-level-0);\n",
       "  border: var(--sklearn-color-fitted-level-3);\n",
       "}\n",
       "\n",
       ".sk-estimator-doc-link:hover span {\n",
       "  display: block;\n",
       "}\n",
       "\n",
       "/* \"?\"-specific style due to the `<a>` HTML tag */\n",
       "\n",
       "#sk-container-id-2 a.estimator_doc_link {\n",
       "  float: right;\n",
       "  font-size: 1rem;\n",
       "  line-height: 1em;\n",
       "  font-family: monospace;\n",
       "  background-color: var(--sklearn-color-background);\n",
       "  border-radius: 1rem;\n",
       "  height: 1rem;\n",
       "  width: 1rem;\n",
       "  text-decoration: none;\n",
       "  /* unfitted */\n",
       "  color: var(--sklearn-color-unfitted-level-1);\n",
       "  border: var(--sklearn-color-unfitted-level-1) 1pt solid;\n",
       "}\n",
       "\n",
       "#sk-container-id-2 a.estimator_doc_link.fitted {\n",
       "  /* fitted */\n",
       "  border: var(--sklearn-color-fitted-level-1) 1pt solid;\n",
       "  color: var(--sklearn-color-fitted-level-1);\n",
       "}\n",
       "\n",
       "/* On hover */\n",
       "#sk-container-id-2 a.estimator_doc_link:hover {\n",
       "  /* unfitted */\n",
       "  background-color: var(--sklearn-color-unfitted-level-3);\n",
       "  color: var(--sklearn-color-background);\n",
       "  text-decoration: none;\n",
       "}\n",
       "\n",
       "#sk-container-id-2 a.estimator_doc_link.fitted:hover {\n",
       "  /* fitted */\n",
       "  background-color: var(--sklearn-color-fitted-level-3);\n",
       "}\n",
       "</style><div id=\"sk-container-id-2\" class=\"sk-top-container\"><div class=\"sk-text-repr-fallback\"><pre>XGBRegressor(base_score=None, booster=None, callbacks=None,\n",
       "             colsample_bylevel=None, colsample_bynode=None,\n",
       "             colsample_bytree=0.6, device=None, early_stopping_rounds=None,\n",
       "             enable_categorical=False, eval_metric=None, feature_types=None,\n",
       "             feature_weights=None, gamma=0.18391510356680496,\n",
       "             grow_policy=&#x27;lossguide&#x27;, importance_type=None,\n",
       "             interaction_constraints=None, learning_rate=0.014562414208702372,\n",
       "             max_bin=None, max_cat_threshold=None, max_cat_to_onehot=None,\n",
       "             max_delta_step=2, max_depth=0, max_leaves=128,\n",
       "             min_child_weight=2.7472005252618814, missing=nan,\n",
       "             monotone_constraints=None, multi_strategy=None, n_estimators=1200,\n",
       "             n_jobs=-1, num_parallel_tree=None, ...)</pre><b>In a Jupyter environment, please rerun this cell to show the HTML representation or trust the notebook. <br />On GitHub, the HTML representation is unable to render, please try loading this page with nbviewer.org.</b></div><div class=\"sk-container\" hidden><div class=\"sk-item\"><div class=\"sk-estimator fitted sk-toggleable\"><input class=\"sk-toggleable__control sk-hidden--visually\" id=\"sk-estimator-id-2\" type=\"checkbox\" checked><label for=\"sk-estimator-id-2\" class=\"sk-toggleable__label fitted sk-toggleable__label-arrow\"><div><div>XGBRegressor</div></div><div><a class=\"sk-estimator-doc-link fitted\" rel=\"noreferrer\" target=\"_blank\" href=\"https://xgboost.readthedocs.io/en/release_3.0.0/python/python_api.html#xgboost.XGBRegressor\">?<span>Documentation for XGBRegressor</span></a><span class=\"sk-estimator-doc-link fitted\">i<span>Fitted</span></span></div></label><div class=\"sk-toggleable__content fitted\"><pre>XGBRegressor(base_score=None, booster=None, callbacks=None,\n",
       "             colsample_bylevel=None, colsample_bynode=None,\n",
       "             colsample_bytree=0.6, device=None, early_stopping_rounds=None,\n",
       "             enable_categorical=False, eval_metric=None, feature_types=None,\n",
       "             feature_weights=None, gamma=0.18391510356680496,\n",
       "             grow_policy=&#x27;lossguide&#x27;, importance_type=None,\n",
       "             interaction_constraints=None, learning_rate=0.014562414208702372,\n",
       "             max_bin=None, max_cat_threshold=None, max_cat_to_onehot=None,\n",
       "             max_delta_step=2, max_depth=0, max_leaves=128,\n",
       "             min_child_weight=2.7472005252618814, missing=nan,\n",
       "             monotone_constraints=None, multi_strategy=None, n_estimators=1200,\n",
       "             n_jobs=-1, num_parallel_tree=None, ...)</pre></div> </div></div></div></div>"
      ],
      "text/plain": [
       "XGBRegressor(base_score=None, booster=None, callbacks=None,\n",
       "             colsample_bylevel=None, colsample_bynode=None,\n",
       "             colsample_bytree=0.6, device=None, early_stopping_rounds=None,\n",
       "             enable_categorical=False, eval_metric=None, feature_types=None,\n",
       "             feature_weights=None, gamma=0.18391510356680496,\n",
       "             grow_policy='lossguide', importance_type=None,\n",
       "             interaction_constraints=None, learning_rate=0.014562414208702372,\n",
       "             max_bin=None, max_cat_threshold=None, max_cat_to_onehot=None,\n",
       "             max_delta_step=2, max_depth=0, max_leaves=128,\n",
       "             min_child_weight=2.7472005252618814, missing=nan,\n",
       "             monotone_constraints=None, multi_strategy=None, n_estimators=1200,\n",
       "             n_jobs=-1, num_parallel_tree=None, ...)"
      ]
     },
     "execution_count": 18,
     "metadata": {},
     "output_type": "execute_result"
    }
   ],
   "source": [
    "best_params = study_xgb.best_params.copy()\n",
    "\n",
    "if best_params[\"grow_policy\"] == \"depthwise\":\n",
    "    best_params.pop(\"max_leaves\", None)  # depthwise ignores leaf cap\n",
    "else:  # lossguide\n",
    "    best_params.pop(\"max_depth\", None)  # drop if Optuna left a stub\n",
    "    best_params[\"max_depth\"] = 0  # explicit noop for leaf-wise\n",
    "\n",
    "best_params.update(\n",
    "    {\n",
    "        \"objective\": \"reg:squarederror\",\n",
    "        \"tree_method\": \"hist\",\n",
    "        \"random_state\": SEED,\n",
    "        \"n_jobs\": -1,\n",
    "    }\n",
    ")\n",
    "\n",
    "# allowed = XGBRegressor().get_params().keys()\n",
    "# best_params = {k: v for k, v in best_params.items() if k in allowed}\n",
    "\n",
    "xgb_final = XGBRegressor(**best_params)\n",
    "xgb_final.fit(X, y)"
   ]
  },
  {
   "cell_type": "markdown",
   "id": "55af2550",
   "metadata": {},
   "source": [
    "## Stacking"
   ]
  },
  {
   "cell_type": "code",
   "execution_count": 19,
   "id": "a442dda5",
   "metadata": {},
   "outputs": [
    {
     "data": {
      "application/vnd.jupyter.widget-view+json": {
       "model_id": "628fc921c21740e6a22cc9c5fddf2c3e",
       "version_major": 2,
       "version_minor": 0
      },
      "text/plain": [
       "OOF learners:   0%|          | 0/3 [00:00<?, ?it/s]"
      ]
     },
     "metadata": {},
     "output_type": "display_data"
    },
    {
     "name": "stdout",
     "output_type": "stream",
     "text": [
      "Chosen alpha: 0\n",
      "OOF RMSE    : 0.55208\n"
     ]
    }
   ],
   "source": [
    "y = train_df[\"target\"].values\n",
    "X = train_df.drop(columns=\"target\")\n",
    "\n",
    "# Random-Forest base learner\n",
    "rf_best = load_params(dataset=DATASET_NAME, model=\"rf\")[\"params\"].copy()\n",
    "\n",
    "cap_flag = rf_best.pop(\"cap_depth\", None)\n",
    "if cap_flag is not None:\n",
    "    rf_best[\"max_depth\"] = rf_best.pop(\"max_depth\", None) if cap_flag else None\n",
    "\n",
    "if not rf_best.get(\"bootstrap\", False):\n",
    "    rf_best[\"max_samples\"] = None\n",
    "    rf_best[\"oob_score\"] = False\n",
    "\n",
    "rf_best.update(dict(random_state=SEED, n_jobs=-1))\n",
    "rf_pipeline = Pipeline([(\"rf\", RandomForestRegressor(**rf_best))])\n",
    "\n",
    "# XGBoost base learner\n",
    "xgb_best = load_params(dataset=DATASET_NAME, model=\"xgb\")[\"params\"].copy()\n",
    "\n",
    "if xgb_best.get(\"grow_policy\", \"depthwise\") == \"depthwise\":\n",
    "    xgb_best.pop(\"max_leaves\", None)\n",
    "else:  # lossguide\n",
    "    xgb_best[\"max_depth\"] = 0\n",
    "\n",
    "xgb_best.update(\n",
    "    dict(objective=\"reg:squarederror\", tree_method=\"hist\", random_state=SEED, n_jobs=-1)\n",
    ")\n",
    "xgb_pipeline = Pipeline([(\"xgb\", XGBRegressor(**xgb_best))])\n",
    "\n",
    "# OLS (with scaling)\n",
    "ols_pipeline = Pipeline(\n",
    "    [\n",
    "        (\"sc\", StandardScaler()),\n",
    "        (\"ols\", LinearRegression(n_jobs=-1)),\n",
    "    ]\n",
    ")\n",
    "\n",
    "base_estimators = [\n",
    "    (\"rf\", rf_pipeline),\n",
    "    (\"xgb\", xgb_pipeline),\n",
    "    (\"ols\", ols_pipeline),\n",
    "]\n",
    "\n",
    "# Out-of-fold predictions for Ridge meta-learner; 10-fold CV -> ~2 064 rows per fold\n",
    "cv = KFold(n_splits=10, shuffle=True, random_state=SEED)\n",
    "\n",
    "preds = []\n",
    "with parallel_backend(\"loky\"):  # respects n_jobs inside\n",
    "    for name, est in tqdm(base_estimators, desc=\"OOF learners\"):\n",
    "        oof = cross_val_predict(est, X, y, cv=cv, n_jobs=-1, verbose=0)\n",
    "        preds.append(oof)\n",
    "\n",
    "X_meta = np.column_stack(preds)\n",
    "\n",
    "# RidgeCV meta-learner\n",
    "alphas = np.concatenate(([0.0], np.logspace(-8, 2, 500)))\n",
    "ridge_cv = RidgeCV(\n",
    "    alphas=alphas, cv=cv, scoring=\"neg_root_mean_squared_error\", store_cv_results=False\n",
    ").fit(X_meta, y)\n",
    "\n",
    "best_alpha = ridge_cv.alpha_\n",
    "best_rmse = np.sqrt(mean_squared_error(y, ridge_cv.predict(X_meta)))\n",
    "\n",
    "print(f\"Chosen alpha: {best_alpha:.4g}\")\n",
    "print(f\"OOF RMSE    : {best_rmse:.5f}\")"
   ]
  },
  {
   "cell_type": "code",
   "execution_count": 20,
   "id": "04604101",
   "metadata": {},
   "outputs": [
    {
     "name": "stdout",
     "output_type": "stream",
     "text": [
      "Best RMSE: 0.5520757257799054\n"
     ]
    }
   ],
   "source": [
    "print(f\"Best RMSE: {np.sqrt(mean_squared_error(y, ridge_cv.predict(X_meta)))}\")"
   ]
  },
  {
   "cell_type": "code",
   "execution_count": 21,
   "id": "f1845a6c",
   "metadata": {},
   "outputs": [
    {
     "name": "stdout",
     "output_type": "stream",
     "text": [
      "Best lambda (alpha): 0.0\n"
     ]
    }
   ],
   "source": [
    "print(f\"Best lambda (alpha): {ridge_cv.alpha_}\")"
   ]
  },
  {
   "cell_type": "code",
   "execution_count": 22,
   "id": "f0afd2d5",
   "metadata": {},
   "outputs": [
    {
     "name": "stdout",
     "output_type": "stream",
     "text": [
      "Params saved to src\\bagging_boosting_stacking_study\\configs\\california_housing_stack.yaml\n"
     ]
    },
    {
     "data": {
      "text/plain": [
       "WindowsPath('C:/code/repos/bagging-boosting-stacking-study/src/bagging_boosting_stacking_study/configs/california_housing_stack.yaml')"
      ]
     },
     "execution_count": 22,
     "metadata": {},
     "output_type": "execute_result"
    }
   ],
   "source": [
    "# Save best params to .yaml\n",
    "save_params(\n",
    "    dataset=DATASET_NAME, \n",
    "    model=\"stack\", \n",
    "    metric=np.sqrt(mean_squared_error(y, ridge_cv.predict(X_meta))), \n",
    "    params={\"alpha\": float(ridge_cv.alpha_)}\n",
    ")"
   ]
  },
  {
   "cell_type": "code",
   "execution_count": 23,
   "id": "fa1fbbda",
   "metadata": {},
   "outputs": [
    {
     "data": {
      "image/png": "[encoded data removed]",
      "text/plain": [
       "<Figure size 640x480 with 1 Axes>"
      ]
     },
     "metadata": {},
     "output_type": "display_data"
    }
   ],
   "source": [
    "rmses = []\n",
    "for a in alphas:\n",
    "    scores = cross_val_score(\n",
    "        Ridge(alpha=a),\n",
    "        X_meta,\n",
    "        y,\n",
    "        cv=cv,\n",
    "        scoring=\"neg_root_mean_squared_error\",\n",
    "        n_jobs=-1,\n",
    "    )\n",
    "    rmses.append(-scores.mean())\n",
    "\n",
    "plt.figure()\n",
    "plt.xscale(\"log\")\n",
    "plt.plot(alphas, rmses)\n",
    "plt.xlabel(\"alpha\")\n",
    "plt.ylabel(\"Cross-validated RMSE\")\n",
    "plt.title(\"RMSE vs. alpha\")\n",
    "plt.show()"
   ]
  },
  {
   "cell_type": "code",
   "execution_count": 24,
   "id": "1537b7a8",
   "metadata": {},
   "outputs": [
    {
     "data": {
      "text/plain": [
       "np.float64(0.0)"
      ]
     },
     "execution_count": 24,
     "metadata": {},
     "output_type": "execute_result"
    }
   ],
   "source": [
    "alphas[np.argmin(rmses)]"
   ]
  },
  {
   "cell_type": "code",
   "execution_count": 25,
   "id": "35e70c69",
   "metadata": {},
   "outputs": [
    {
     "data": {
      "text/html": [
       "<style>#sk-container-id-3 {\n",
       "  /* Definition of color scheme common for light and dark mode */\n",
       "  --sklearn-color-text: #000;\n",
       "  --sklearn-color-text-muted: #666;\n",
       "  --sklearn-color-line: gray;\n",
       "  /* Definition of color scheme for unfitted estimators */\n",
       "  --sklearn-color-unfitted-level-0: #fff5e6;\n",
       "  --sklearn-color-unfitted-level-1: #f6e4d2;\n",
       "  --sklearn-color-unfitted-level-2: #ffe0b3;\n",
       "  --sklearn-color-unfitted-level-3: chocolate;\n",
       "  /* Definition of color scheme for fitted estimators */\n",
       "  --sklearn-color-fitted-level-0: #f0f8ff;\n",
       "  --sklearn-color-fitted-level-1: #d4ebff;\n",
       "  --sklearn-color-fitted-level-2: #b3dbfd;\n",
       "  --sklearn-color-fitted-level-3: cornflowerblue;\n",
       "\n",
       "  /* Specific color for light theme */\n",
       "  --sklearn-color-text-on-default-background: var(--sg-text-color, var(--theme-code-foreground, var(--jp-content-font-color1, black)));\n",
       "  --sklearn-color-background: var(--sg-background-color, var(--theme-background, var(--jp-layout-color0, white)));\n",
       "  --sklearn-color-border-box: var(--sg-text-color, var(--theme-code-foreground, var(--jp-content-font-color1, black)));\n",
       "  --sklearn-color-icon: #696969;\n",
       "\n",
       "  @media (prefers-color-scheme: dark) {\n",
       "    /* Redefinition of color scheme for dark theme */\n",
       "    --sklearn-color-text-on-default-background: var(--sg-text-color, var(--theme-code-foreground, var(--jp-content-font-color1, white)));\n",
       "    --sklearn-color-background: var(--sg-background-color, var(--theme-background, var(--jp-layout-color0, #111)));\n",
       "    --sklearn-color-border-box: var(--sg-text-color, var(--theme-code-foreground, var(--jp-content-font-color1, white)));\n",
       "    --sklearn-color-icon: #878787;\n",
       "  }\n",
       "}\n",
       "\n",
       "#sk-container-id-3 {\n",
       "  color: var(--sklearn-color-text);\n",
       "}\n",
       "\n",
       "#sk-container-id-3 pre {\n",
       "  padding: 0;\n",
       "}\n",
       "\n",
       "#sk-container-id-3 input.sk-hidden--visually {\n",
       "  border: 0;\n",
       "  clip: rect(1px 1px 1px 1px);\n",
       "  clip: rect(1px, 1px, 1px, 1px);\n",
       "  height: 1px;\n",
       "  margin: -1px;\n",
       "  overflow: hidden;\n",
       "  padding: 0;\n",
       "  position: absolute;\n",
       "  width: 1px;\n",
       "}\n",
       "\n",
       "#sk-container-id-3 div.sk-dashed-wrapped {\n",
       "  border: 1px dashed var(--sklearn-color-line);\n",
       "  margin: 0 0.4em 0.5em 0.4em;\n",
       "  box-sizing: border-box;\n",
       "  padding-bottom: 0.4em;\n",
       "  background-color: var(--sklearn-color-background);\n",
       "}\n",
       "\n",
       "#sk-container-id-3 div.sk-container {\n",
       "  /* jupyter's `normalize.less` sets `[hidden] { display: none; }`\n",
       "     but bootstrap.min.css set `[hidden] { display: none !important; }`\n",
       "     so we also need the `!important` here to be able to override the\n",
       "     default hidden behavior on the sphinx rendered scikit-learn.org.\n",
       "     See: https://github.com/scikit-learn/scikit-learn/issues/21755 */\n",
       "  display: inline-block !important;\n",
       "  position: relative;\n",
       "}\n",
       "\n",
       "#sk-container-id-3 div.sk-text-repr-fallback {\n",
       "  display: none;\n",
       "}\n",
       "\n",
       "div.sk-parallel-item,\n",
       "div.sk-serial,\n",
       "div.sk-item {\n",
       "  /* draw centered vertical line to link estimators */\n",
       "  background-image: linear-gradient(var(--sklearn-color-text-on-default-background), var(--sklearn-color-text-on-default-background));\n",
       "  background-size: 2px 100%;\n",
       "  background-repeat: no-repeat;\n",
       "  background-position: center center;\n",
       "}\n",
       "\n",
       "/* Parallel-specific style estimator block */\n",
       "\n",
       "#sk-container-id-3 div.sk-parallel-item::after {\n",
       "  content: \"\";\n",
       "  width: 100%;\n",
       "  border-bottom: 2px solid var(--sklearn-color-text-on-default-background);\n",
       "  flex-grow: 1;\n",
       "}\n",
       "\n",
       "#sk-container-id-3 div.sk-parallel {\n",
       "  display: flex;\n",
       "  align-items: stretch;\n",
       "  justify-content: center;\n",
       "  background-color: var(--sklearn-color-background);\n",
       "  position: relative;\n",
       "}\n",
       "\n",
       "#sk-container-id-3 div.sk-parallel-item {\n",
       "  display: flex;\n",
       "  flex-direction: column;\n",
       "}\n",
       "\n",
       "#sk-container-id-3 div.sk-parallel-item:first-child::after {\n",
       "  align-self: flex-end;\n",
       "  width: 50%;\n",
       "}\n",
       "\n",
       "#sk-container-id-3 div.sk-parallel-item:last-child::after {\n",
       "  align-self: flex-start;\n",
       "  width: 50%;\n",
       "}\n",
       "\n",
       "#sk-container-id-3 div.sk-parallel-item:only-child::after {\n",
       "  width: 0;\n",
       "}\n",
       "\n",
       "/* Serial-specific style estimator block */\n",
       "\n",
       "#sk-container-id-3 div.sk-serial {\n",
       "  display: flex;\n",
       "  flex-direction: column;\n",
       "  align-items: center;\n",
       "  background-color: var(--sklearn-color-background);\n",
       "  padding-right: 1em;\n",
       "  padding-left: 1em;\n",
       "}\n",
       "\n",
       "\n",
       "/* Toggleable style: style used for estimator/Pipeline/ColumnTransformer box that is\n",
       "clickable and can be expanded/collapsed.\n",
       "- Pipeline and ColumnTransformer use this feature and define the default style\n",
       "- Estimators will overwrite some part of the style using the `sk-estimator` class\n",
       "*/\n",
       "\n",
       "/* Pipeline and ColumnTransformer style (default) */\n",
       "\n",
       "#sk-container-id-3 div.sk-toggleable {\n",
       "  /* Default theme specific background. It is overwritten whether we have a\n",
       "  specific estimator or a Pipeline/ColumnTransformer */\n",
       "  background-color: var(--sklearn-color-background);\n",
       "}\n",
       "\n",
       "/* Toggleable label */\n",
       "#sk-container-id-3 label.sk-toggleable__label {\n",
       "  cursor: pointer;\n",
       "  display: flex;\n",
       "  width: 100%;\n",
       "  margin-bottom: 0;\n",
       "  padding: 0.5em;\n",
       "  box-sizing: border-box;\n",
       "  text-align: center;\n",
       "  align-items: start;\n",
       "  justify-content: space-between;\n",
       "  gap: 0.5em;\n",
       "}\n",
       "\n",
       "#sk-container-id-3 label.sk-toggleable__label .caption {\n",
       "  font-size: 0.6rem;\n",
       "  font-weight: lighter;\n",
       "  color: var(--sklearn-color-text-muted);\n",
       "}\n",
       "\n",
       "#sk-container-id-3 label.sk-toggleable__label-arrow:before {\n",
       "  /* Arrow on the left of the label */\n",
       "  content: \"▸\";\n",
       "  float: left;\n",
       "  margin-right: 0.25em;\n",
       "  color: var(--sklearn-color-icon);\n",
       "}\n",
       "\n",
       "#sk-container-id-3 label.sk-toggleable__label-arrow:hover:before {\n",
       "  color: var(--sklearn-color-text);\n",
       "}\n",
       "\n",
       "/* Toggleable content - dropdown */\n",
       "\n",
       "#sk-container-id-3 div.sk-toggleable__content {\n",
       "  max-height: 0;\n",
       "  max-width: 0;\n",
       "  overflow: hidden;\n",
       "  text-align: left;\n",
       "  /* unfitted */\n",
       "  background-color: var(--sklearn-color-unfitted-level-0);\n",
       "}\n",
       "\n",
       "#sk-container-id-3 div.sk-toggleable__content.fitted {\n",
       "  /* fitted */\n",
       "  background-color: var(--sklearn-color-fitted-level-0);\n",
       "}\n",
       "\n",
       "#sk-container-id-3 div.sk-toggleable__content pre {\n",
       "  margin: 0.2em;\n",
       "  border-radius: 0.25em;\n",
       "  color: var(--sklearn-color-text);\n",
       "  /* unfitted */\n",
       "  background-color: var(--sklearn-color-unfitted-level-0);\n",
       "}\n",
       "\n",
       "#sk-container-id-3 div.sk-toggleable__content.fitted pre {\n",
       "  /* unfitted */\n",
       "  background-color: var(--sklearn-color-fitted-level-0);\n",
       "}\n",
       "\n",
       "#sk-container-id-3 input.sk-toggleable__control:checked~div.sk-toggleable__content {\n",
       "  /* Expand drop-down */\n",
       "  max-height: 200px;\n",
       "  max-width: 100%;\n",
       "  overflow: auto;\n",
       "}\n",
       "\n",
       "#sk-container-id-3 input.sk-toggleable__control:checked~label.sk-toggleable__label-arrow:before {\n",
       "  content: \"▾\";\n",
       "}\n",
       "\n",
       "/* Pipeline/ColumnTransformer-specific style */\n",
       "\n",
       "#sk-container-id-3 div.sk-label input.sk-toggleable__control:checked~label.sk-toggleable__label {\n",
       "  color: var(--sklearn-color-text);\n",
       "  background-color: var(--sklearn-color-unfitted-level-2);\n",
       "}\n",
       "\n",
       "#sk-container-id-3 div.sk-label.fitted input.sk-toggleable__control:checked~label.sk-toggleable__label {\n",
       "  background-color: var(--sklearn-color-fitted-level-2);\n",
       "}\n",
       "\n",
       "/* Estimator-specific style */\n",
       "\n",
       "/* Colorize estimator box */\n",
       "#sk-container-id-3 div.sk-estimator input.sk-toggleable__control:checked~label.sk-toggleable__label {\n",
       "  /* unfitted */\n",
       "  background-color: var(--sklearn-color-unfitted-level-2);\n",
       "}\n",
       "\n",
       "#sk-container-id-3 div.sk-estimator.fitted input.sk-toggleable__control:checked~label.sk-toggleable__label {\n",
       "  /* fitted */\n",
       "  background-color: var(--sklearn-color-fitted-level-2);\n",
       "}\n",
       "\n",
       "#sk-container-id-3 div.sk-label label.sk-toggleable__label,\n",
       "#sk-container-id-3 div.sk-label label {\n",
       "  /* The background is the default theme color */\n",
       "  color: var(--sklearn-color-text-on-default-background);\n",
       "}\n",
       "\n",
       "/* On hover, darken the color of the background */\n",
       "#sk-container-id-3 div.sk-label:hover label.sk-toggleable__label {\n",
       "  color: var(--sklearn-color-text);\n",
       "  background-color: var(--sklearn-color-unfitted-level-2);\n",
       "}\n",
       "\n",
       "/* Label box, darken color on hover, fitted */\n",
       "#sk-container-id-3 div.sk-label.fitted:hover label.sk-toggleable__label.fitted {\n",
       "  color: var(--sklearn-color-text);\n",
       "  background-color: var(--sklearn-color-fitted-level-2);\n",
       "}\n",
       "\n",
       "/* Estimator label */\n",
       "\n",
       "#sk-container-id-3 div.sk-label label {\n",
       "  font-family: monospace;\n",
       "  font-weight: bold;\n",
       "  display: inline-block;\n",
       "  line-height: 1.2em;\n",
       "}\n",
       "\n",
       "#sk-container-id-3 div.sk-label-container {\n",
       "  text-align: center;\n",
       "}\n",
       "\n",
       "/* Estimator-specific */\n",
       "#sk-container-id-3 div.sk-estimator {\n",
       "  font-family: monospace;\n",
       "  border: 1px dotted var(--sklearn-color-border-box);\n",
       "  border-radius: 0.25em;\n",
       "  box-sizing: border-box;\n",
       "  margin-bottom: 0.5em;\n",
       "  /* unfitted */\n",
       "  background-color: var(--sklearn-color-unfitted-level-0);\n",
       "}\n",
       "\n",
       "#sk-container-id-3 div.sk-estimator.fitted {\n",
       "  /* fitted */\n",
       "  background-color: var(--sklearn-color-fitted-level-0);\n",
       "}\n",
       "\n",
       "/* on hover */\n",
       "#sk-container-id-3 div.sk-estimator:hover {\n",
       "  /* unfitted */\n",
       "  background-color: var(--sklearn-color-unfitted-level-2);\n",
       "}\n",
       "\n",
       "#sk-container-id-3 div.sk-estimator.fitted:hover {\n",
       "  /* fitted */\n",
       "  background-color: var(--sklearn-color-fitted-level-2);\n",
       "}\n",
       "\n",
       "/* Specification for estimator info (e.g. \"i\" and \"?\") */\n",
       "\n",
       "/* Common style for \"i\" and \"?\" */\n",
       "\n",
       ".sk-estimator-doc-link,\n",
       "a:link.sk-estimator-doc-link,\n",
       "a:visited.sk-estimator-doc-link {\n",
       "  float: right;\n",
       "  font-size: smaller;\n",
       "  line-height: 1em;\n",
       "  font-family: monospace;\n",
       "  background-color: var(--sklearn-color-background);\n",
       "  border-radius: 1em;\n",
       "  height: 1em;\n",
       "  width: 1em;\n",
       "  text-decoration: none !important;\n",
       "  margin-left: 0.5em;\n",
       "  text-align: center;\n",
       "  /* unfitted */\n",
       "  border: var(--sklearn-color-unfitted-level-1) 1pt solid;\n",
       "  color: var(--sklearn-color-unfitted-level-1);\n",
       "}\n",
       "\n",
       ".sk-estimator-doc-link.fitted,\n",
       "a:link.sk-estimator-doc-link.fitted,\n",
       "a:visited.sk-estimator-doc-link.fitted {\n",
       "  /* fitted */\n",
       "  border: var(--sklearn-color-fitted-level-1) 1pt solid;\n",
       "  color: var(--sklearn-color-fitted-level-1);\n",
       "}\n",
       "\n",
       "/* On hover */\n",
       "div.sk-estimator:hover .sk-estimator-doc-link:hover,\n",
       ".sk-estimator-doc-link:hover,\n",
       "div.sk-label-container:hover .sk-estimator-doc-link:hover,\n",
       ".sk-estimator-doc-link:hover {\n",
       "  /* unfitted */\n",
       "  background-color: var(--sklearn-color-unfitted-level-3);\n",
       "  color: var(--sklearn-color-background);\n",
       "  text-decoration: none;\n",
       "}\n",
       "\n",
       "div.sk-estimator.fitted:hover .sk-estimator-doc-link.fitted:hover,\n",
       ".sk-estimator-doc-link.fitted:hover,\n",
       "div.sk-label-container:hover .sk-estimator-doc-link.fitted:hover,\n",
       ".sk-estimator-doc-link.fitted:hover {\n",
       "  /* fitted */\n",
       "  background-color: var(--sklearn-color-fitted-level-3);\n",
       "  color: var(--sklearn-color-background);\n",
       "  text-decoration: none;\n",
       "}\n",
       "\n",
       "/* Span, style for the box shown on hovering the info icon */\n",
       ".sk-estimator-doc-link span {\n",
       "  display: none;\n",
       "  z-index: 9999;\n",
       "  position: relative;\n",
       "  font-weight: normal;\n",
       "  right: .2ex;\n",
       "  padding: .5ex;\n",
       "  margin: .5ex;\n",
       "  width: min-content;\n",
       "  min-width: 20ex;\n",
       "  max-width: 50ex;\n",
       "  color: var(--sklearn-color-text);\n",
       "  box-shadow: 2pt 2pt 4pt #999;\n",
       "  /* unfitted */\n",
       "  background: var(--sklearn-color-unfitted-level-0);\n",
       "  border: .5pt solid var(--sklearn-color-unfitted-level-3);\n",
       "}\n",
       "\n",
       ".sk-estimator-doc-link.fitted span {\n",
       "  /* fitted */\n",
       "  background: var(--sklearn-color-fitted-level-0);\n",
       "  border: var(--sklearn-color-fitted-level-3);\n",
       "}\n",
       "\n",
       ".sk-estimator-doc-link:hover span {\n",
       "  display: block;\n",
       "}\n",
       "\n",
       "/* \"?\"-specific style due to the `<a>` HTML tag */\n",
       "\n",
       "#sk-container-id-3 a.estimator_doc_link {\n",
       "  float: right;\n",
       "  font-size: 1rem;\n",
       "  line-height: 1em;\n",
       "  font-family: monospace;\n",
       "  background-color: var(--sklearn-color-background);\n",
       "  border-radius: 1rem;\n",
       "  height: 1rem;\n",
       "  width: 1rem;\n",
       "  text-decoration: none;\n",
       "  /* unfitted */\n",
       "  color: var(--sklearn-color-unfitted-level-1);\n",
       "  border: var(--sklearn-color-unfitted-level-1) 1pt solid;\n",
       "}\n",
       "\n",
       "#sk-container-id-3 a.estimator_doc_link.fitted {\n",
       "  /* fitted */\n",
       "  border: var(--sklearn-color-fitted-level-1) 1pt solid;\n",
       "  color: var(--sklearn-color-fitted-level-1);\n",
       "}\n",
       "\n",
       "/* On hover */\n",
       "#sk-container-id-3 a.estimator_doc_link:hover {\n",
       "  /* unfitted */\n",
       "  background-color: var(--sklearn-color-unfitted-level-3);\n",
       "  color: var(--sklearn-color-background);\n",
       "  text-decoration: none;\n",
       "}\n",
       "\n",
       "#sk-container-id-3 a.estimator_doc_link.fitted:hover {\n",
       "  /* fitted */\n",
       "  background-color: var(--sklearn-color-fitted-level-3);\n",
       "}\n",
       "</style><div id=\"sk-container-id-3\" class=\"sk-top-container\"><div class=\"sk-text-repr-fallback\"><pre>StackingRegressor(cv=KFold(n_splits=10, random_state=333, shuffle=True),\n",
       "                  estimators=[(&#x27;rf&#x27;,\n",
       "                               Pipeline(steps=[(&#x27;rf&#x27;,\n",
       "                                                RandomForestRegressor(ccp_alpha=1.4759234188486626e-06,\n",
       "                                                                      max_depth=11,\n",
       "                                                                      max_features=17,\n",
       "                                                                      max_samples=0.7,\n",
       "                                                                      min_samples_leaf=5,\n",
       "                                                                      min_samples_split=20,\n",
       "                                                                      n_estimators=400,\n",
       "                                                                      n_jobs=-1,\n",
       "                                                                      oob_score=True,\n",
       "                                                                      random_state=333))])),\n",
       "                              (&#x27;xgb&#x27;,\n",
       "                               Pipeline(steps=[(&#x27;xgb&#x27;,\n",
       "                                                XGBReg...\n",
       "                                                             min_child_weight=2.7472005252618814,\n",
       "                                                             missing=nan,\n",
       "                                                             monotone_constraints=None,\n",
       "                                                             multi_strategy=None,\n",
       "                                                             n_estimators=1200,\n",
       "                                                             n_jobs=-1,\n",
       "                                                             num_parallel_tree=None, ...))])),\n",
       "                              (&#x27;ols&#x27;,\n",
       "                               Pipeline(steps=[(&#x27;sc&#x27;, StandardScaler()),\n",
       "                                               (&#x27;ols&#x27;,\n",
       "                                                LinearRegression(n_jobs=-1))]))],\n",
       "                  final_estimator=Pipeline(steps=[(&#x27;sc&#x27;, StandardScaler()),\n",
       "                                                  (&#x27;ridge&#x27;,\n",
       "                                                   Ridge(alpha=np.float64(0.0),\n",
       "                                                         random_state=333))]),\n",
       "                  n_jobs=-1)</pre><b>In a Jupyter environment, please rerun this cell to show the HTML representation or trust the notebook. <br />On GitHub, the HTML representation is unable to render, please try loading this page with nbviewer.org.</b></div><div class=\"sk-container\" hidden><div class=\"sk-item sk-dashed-wrapped\"><div class=\"sk-label-container\"><div class=\"sk-label fitted sk-toggleable\"><input class=\"sk-toggleable__control sk-hidden--visually\" id=\"sk-estimator-id-3\" type=\"checkbox\" ><label for=\"sk-estimator-id-3\" class=\"sk-toggleable__label fitted sk-toggleable__label-arrow\"><div><div>StackingRegressor</div></div><div><a class=\"sk-estimator-doc-link fitted\" rel=\"noreferrer\" target=\"_blank\" href=\"https://scikit-learn.org/1.6/modules/generated/sklearn.ensemble.StackingRegressor.html\">?<span>Documentation for StackingRegressor</span></a><span class=\"sk-estimator-doc-link fitted\">i<span>Fitted</span></span></div></label><div class=\"sk-toggleable__content fitted\"><pre>StackingRegressor(cv=KFold(n_splits=10, random_state=333, shuffle=True),\n",
       "                  estimators=[(&#x27;rf&#x27;,\n",
       "                               Pipeline(steps=[(&#x27;rf&#x27;,\n",
       "                                                RandomForestRegressor(ccp_alpha=1.4759234188486626e-06,\n",
       "                                                                      max_depth=11,\n",
       "                                                                      max_features=17,\n",
       "                                                                      max_samples=0.7,\n",
       "                                                                      min_samples_leaf=5,\n",
       "                                                                      min_samples_split=20,\n",
       "                                                                      n_estimators=400,\n",
       "                                                                      n_jobs=-1,\n",
       "                                                                      oob_score=True,\n",
       "                                                                      random_state=333))])),\n",
       "                              (&#x27;xgb&#x27;,\n",
       "                               Pipeline(steps=[(&#x27;xgb&#x27;,\n",
       "                                                XGBReg...\n",
       "                                                             min_child_weight=2.7472005252618814,\n",
       "                                                             missing=nan,\n",
       "                                                             monotone_constraints=None,\n",
       "                                                             multi_strategy=None,\n",
       "                                                             n_estimators=1200,\n",
       "                                                             n_jobs=-1,\n",
       "                                                             num_parallel_tree=None, ...))])),\n",
       "                              (&#x27;ols&#x27;,\n",
       "                               Pipeline(steps=[(&#x27;sc&#x27;, StandardScaler()),\n",
       "                                               (&#x27;ols&#x27;,\n",
       "                                                LinearRegression(n_jobs=-1))]))],\n",
       "                  final_estimator=Pipeline(steps=[(&#x27;sc&#x27;, StandardScaler()),\n",
       "                                                  (&#x27;ridge&#x27;,\n",
       "                                                   Ridge(alpha=np.float64(0.0),\n",
       "                                                         random_state=333))]),\n",
       "                  n_jobs=-1)</pre></div> </div></div><div class=\"sk-serial\"><div class=\"sk-item\"><div class=\"sk-parallel\"><div class=\"sk-parallel-item\"><div class=\"sk-item\"><div class=\"sk-label-container\"><div class=\"sk-label fitted sk-toggleable\"><label>rf</label></div></div><div class=\"sk-serial\"><div class=\"sk-item\"><div class=\"sk-serial\"><div class=\"sk-item\"><div class=\"sk-estimator fitted sk-toggleable\"><input class=\"sk-toggleable__control sk-hidden--visually\" id=\"sk-estimator-id-4\" type=\"checkbox\" ><label for=\"sk-estimator-id-4\" class=\"sk-toggleable__label fitted sk-toggleable__label-arrow\"><div><div>RandomForestRegressor</div></div><div><a class=\"sk-estimator-doc-link fitted\" rel=\"noreferrer\" target=\"_blank\" href=\"https://scikit-learn.org/1.6/modules/generated/sklearn.ensemble.RandomForestRegressor.html\">?<span>Documentation for RandomForestRegressor</span></a></div></label><div class=\"sk-toggleable__content fitted\"><pre>RandomForestRegressor(ccp_alpha=1.4759234188486626e-06, max_depth=11,\n",
       "                      max_features=17, max_samples=0.7, min_samples_leaf=5,\n",
       "                      min_samples_split=20, n_estimators=400, n_jobs=-1,\n",
       "                      oob_score=True, random_state=333)</pre></div> </div></div></div></div></div></div></div><div class=\"sk-parallel-item\"><div class=\"sk-item\"><div class=\"sk-label-container\"><div class=\"sk-label fitted sk-toggleable\"><label>xgb</label></div></div><div class=\"sk-serial\"><div class=\"sk-item\"><div class=\"sk-serial\"><div class=\"sk-item\"><div class=\"sk-estimator fitted sk-toggleable\"><input class=\"sk-toggleable__control sk-hidden--visually\" id=\"sk-estimator-id-5\" type=\"checkbox\" ><label for=\"sk-estimator-id-5\" class=\"sk-toggleable__label fitted sk-toggleable__label-arrow\"><div><div>XGBRegressor</div></div><div><a class=\"sk-estimator-doc-link fitted\" rel=\"noreferrer\" target=\"_blank\" href=\"https://xgboost.readthedocs.io/en/release_3.0.0/python/python_api.html#xgboost.XGBRegressor\">?<span>Documentation for XGBRegressor</span></a></div></label><div class=\"sk-toggleable__content fitted\"><pre>XGBRegressor(base_score=None, booster=None, callbacks=None,\n",
       "             colsample_bylevel=None, colsample_bynode=None,\n",
       "             colsample_bytree=0.6, device=None, early_stopping_rounds=None,\n",
       "             enable_categorical=False, eval_metric=None, feature_types=None,\n",
       "             feature_weights=None, gamma=0.18391510356680496,\n",
       "             grow_policy=&#x27;lossguide&#x27;, importance_type=None,\n",
       "             interaction_constraints=None, learning_rate=0.014562414208702372,\n",
       "             max_bin=None, max_cat_threshold=None, max_cat_to_onehot=None,\n",
       "             max_delta_step=2, max_depth=0, max_leaves=128,\n",
       "             min_child_weight=2.7472005252618814, missing=nan,\n",
       "             monotone_constraints=None, multi_strategy=None, n_estimators=1200,\n",
       "             n_jobs=-1, num_parallel_tree=None, ...)</pre></div> </div></div></div></div></div></div></div><div class=\"sk-parallel-item\"><div class=\"sk-item\"><div class=\"sk-label-container\"><div class=\"sk-label fitted sk-toggleable\"><label>ols</label></div></div><div class=\"sk-serial\"><div class=\"sk-item\"><div class=\"sk-serial\"><div class=\"sk-item\"><div class=\"sk-estimator fitted sk-toggleable\"><input class=\"sk-toggleable__control sk-hidden--visually\" id=\"sk-estimator-id-6\" type=\"checkbox\" ><label for=\"sk-estimator-id-6\" class=\"sk-toggleable__label fitted sk-toggleable__label-arrow\"><div><div>StandardScaler</div></div><div><a class=\"sk-estimator-doc-link fitted\" rel=\"noreferrer\" target=\"_blank\" href=\"https://scikit-learn.org/1.6/modules/generated/sklearn.preprocessing.StandardScaler.html\">?<span>Documentation for StandardScaler</span></a></div></label><div class=\"sk-toggleable__content fitted\"><pre>StandardScaler()</pre></div> </div></div><div class=\"sk-item\"><div class=\"sk-estimator fitted sk-toggleable\"><input class=\"sk-toggleable__control sk-hidden--visually\" id=\"sk-estimator-id-7\" type=\"checkbox\" ><label for=\"sk-estimator-id-7\" class=\"sk-toggleable__label fitted sk-toggleable__label-arrow\"><div><div>LinearRegression</div></div><div><a class=\"sk-estimator-doc-link fitted\" rel=\"noreferrer\" target=\"_blank\" href=\"https://scikit-learn.org/1.6/modules/generated/sklearn.linear_model.LinearRegression.html\">?<span>Documentation for LinearRegression</span></a></div></label><div class=\"sk-toggleable__content fitted\"><pre>LinearRegression(n_jobs=-1)</pre></div> </div></div></div></div></div></div></div></div></div><div class=\"sk-item\"><div class=\"sk-parallel\"><div class=\"sk-parallel-item\"><div class=\"sk-item\"><div class=\"sk-label-container\"><div class=\"sk-label fitted sk-toggleable\"><label>final_estimator</label></div></div><div class=\"sk-serial\"><div class=\"sk-item\"><div class=\"sk-serial\"><div class=\"sk-item\"><div class=\"sk-estimator fitted sk-toggleable\"><input class=\"sk-toggleable__control sk-hidden--visually\" id=\"sk-estimator-id-8\" type=\"checkbox\" ><label for=\"sk-estimator-id-8\" class=\"sk-toggleable__label fitted sk-toggleable__label-arrow\"><div><div>StandardScaler</div></div><div><a class=\"sk-estimator-doc-link fitted\" rel=\"noreferrer\" target=\"_blank\" href=\"https://scikit-learn.org/1.6/modules/generated/sklearn.preprocessing.StandardScaler.html\">?<span>Documentation for StandardScaler</span></a></div></label><div class=\"sk-toggleable__content fitted\"><pre>StandardScaler()</pre></div> </div></div><div class=\"sk-item\"><div class=\"sk-estimator fitted sk-toggleable\"><input class=\"sk-toggleable__control sk-hidden--visually\" id=\"sk-estimator-id-9\" type=\"checkbox\" ><label for=\"sk-estimator-id-9\" class=\"sk-toggleable__label fitted sk-toggleable__label-arrow\"><div><div>Ridge</div></div><div><a class=\"sk-estimator-doc-link fitted\" rel=\"noreferrer\" target=\"_blank\" href=\"https://scikit-learn.org/1.6/modules/generated/sklearn.linear_model.Ridge.html\">?<span>Documentation for Ridge</span></a></div></label><div class=\"sk-toggleable__content fitted\"><pre>Ridge(alpha=np.float64(0.0), random_state=333)</pre></div> </div></div></div></div></div></div></div></div></div></div></div></div></div>"
      ],
      "text/plain": [
       "StackingRegressor(cv=KFold(n_splits=10, random_state=333, shuffle=True),\n",
       "                  estimators=[('rf',\n",
       "                               Pipeline(steps=[('rf',\n",
       "                                                RandomForestRegressor(ccp_alpha=1.4759234188486626e-06,\n",
       "                                                                      max_depth=11,\n",
       "                                                                      max_features=17,\n",
       "                                                                      max_samples=0.7,\n",
       "                                                                      min_samples_leaf=5,\n",
       "                                                                      min_samples_split=20,\n",
       "                                                                      n_estimators=400,\n",
       "                                                                      n_jobs=-1,\n",
       "                                                                      oob_score=True,\n",
       "                                                                      random_state=333))])),\n",
       "                              ('xgb',\n",
       "                               Pipeline(steps=[('xgb',\n",
       "                                                XGBReg...\n",
       "                                                             min_child_weight=2.7472005252618814,\n",
       "                                                             missing=nan,\n",
       "                                                             monotone_constraints=None,\n",
       "                                                             multi_strategy=None,\n",
       "                                                             n_estimators=1200,\n",
       "                                                             n_jobs=-1,\n",
       "                                                             num_parallel_tree=None, ...))])),\n",
       "                              ('ols',\n",
       "                               Pipeline(steps=[('sc', StandardScaler()),\n",
       "                                               ('ols',\n",
       "                                                LinearRegression(n_jobs=-1))]))],\n",
       "                  final_estimator=Pipeline(steps=[('sc', StandardScaler()),\n",
       "                                                  ('ridge',\n",
       "                                                   Ridge(alpha=np.float64(0.0),\n",
       "                                                         random_state=333))]),\n",
       "                  n_jobs=-1)"
      ]
     },
     "execution_count": 25,
     "metadata": {},
     "output_type": "execute_result"
    }
   ],
   "source": [
    "best_alpha = ridge_cv.alpha_\n",
    "meta_final = Pipeline(\n",
    "    steps=[\n",
    "        (\"sc\", StandardScaler()),\n",
    "        (\n",
    "            \"ridge\",\n",
    "            Ridge(\n",
    "                alpha=best_alpha,\n",
    "                random_state=SEED,\n",
    "            ),\n",
    "        ),\n",
    "    ]\n",
    ")\n",
    "\n",
    "# full stacking model\n",
    "stack_final = StackingRegressor(\n",
    "    estimators=base_estimators,  # rf_pipeline, xgb_pipeline, ols_pipeline\n",
    "    final_estimator=meta_final,\n",
    "    cv=cv,  # same 10-fold KFold\n",
    "    passthrough=False,\n",
    "    n_jobs=-1,\n",
    ")\n",
    "stack_final.fit(X, y)"
   ]
  }
 ],
 "metadata": {
  "kernelspec": {
   "display_name": "repo-3.12-bagging-boosting-stacking-study",
   "language": "python",
   "name": "python3"
  },
  "language_info": {
   "codemirror_mode": {
    "name": "ipython",
    "version": 3
   },
   "file_extension": ".py",
   "mimetype": "text/x-python",
   "name": "python",
   "nbconvert_exporter": "python",
   "pygments_lexer": "ipython3",
   "version": "3.12.9"
  }
 },
 "nbformat": 4,
 "nbformat_minor": 5
}
